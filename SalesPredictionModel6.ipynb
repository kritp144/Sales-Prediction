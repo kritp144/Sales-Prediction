{
  "nbformat": 4,
  "nbformat_minor": 0,
  "metadata": {
    "colab": {
      "name": "SalesPredictionModel6.ipynb",
      "provenance": [],
      "collapsed_sections": [],
      "mount_file_id": "1OOGeCK0M-eJniOqkkgLqplWG48jP2Wj_",
      "authorship_tag": "ABX9TyOwYKB0trNVYwQwPzen1g2e",
      "include_colab_link": true
    },
    "kernelspec": {
      "name": "python3",
      "display_name": "Python 3"
    },
    "language_info": {
      "name": "python"
    }
  },
  "cells": [
    {
      "cell_type": "markdown",
      "metadata": {
        "id": "view-in-github",
        "colab_type": "text"
      },
      "source": [
        "<a href=\"https://colab.research.google.com/github/kritp144/Sales-Prediction/blob/main/SalesPredictionModel6.ipynb\" target=\"_parent\"><img src=\"https://colab.research.google.com/assets/colab-badge.svg\" alt=\"Open In Colab\"/></a>"
      ]
    },
    {
      "cell_type": "markdown",
      "source": [
        "# SALES PREDICTION PROJECT\n",
        "\n",
        "KRIT PATEL "
      ],
      "metadata": {
        "id": "K_FvBTbWTBu1"
      }
    },
    {
      "cell_type": "markdown",
      "source": [
        "In this project, we will create 2 models through which we will predict Sales. The first model will use linear regression to predict sales, while the second model will use a regression tree to predict sales. We will then evalate each model based on their R2 Score, MSE and RMSE. We will then recommend which model should be used.\n",
        "\n",
        "LINEAR REGRESSION - A linear regression is used to predict the value of a target (Sales) based on the values of the features (Columns used to predict the target)\n",
        "\n",
        "REGRESSION TREE - A regression tree is a series of questions designed to predict a continuous value. In the case of this data set, we will analyze how the feature columns affect the target column.\n",
        "\n",
        "R2 SCORE - R2 Score represpents the proportion of the variance for our target that is explained by our features.\n",
        "\n",
        "MEAN SQUARED ERROR (MSE) - The Mean Squared Error exagerates the bigger errors as it squares all errors. This shows us the impact of big errors\n",
        "\n",
        "ROOT MEAN SQUARED ERROR (RMSE) - This Test will show the same values as the target but they will also exagerate the larger errors."
      ],
      "metadata": {
        "id": "qcS7nj8sTUuG"
      }
    },
    {
      "cell_type": "markdown",
      "source": [
        "Here below we define all the necessary libraries required to conduct this project "
      ],
      "metadata": {
        "id": "wFcWzu1ob4U1"
      }
    },
    {
      "cell_type": "code",
      "execution_count": 66,
      "metadata": {
        "id": "3UwKva7_6bkr"
      },
      "outputs": [],
      "source": [
        "import pandas as pd\n",
        "import numpy as np\n",
        "from sklearn.preprocessing import StandardScaler, OneHotEncoder\n",
        "from sklearn.impute import SimpleImputer\n",
        "from sklearn.compose import make_column_selector, make_column_transformer\n",
        "from sklearn.pipeline import make_pipeline\n",
        "from sklearn.model_selection import train_test_split\n",
        "from sklearn.linear_model import LinearRegression\n",
        "from sklearn.metrics import r2_score, mean_squared_error\n",
        "from sklearn.tree import DecisionTreeRegressor\n",
        "from sklearn import set_config\n",
        "\n",
        "# This shows the pipeline diagram\n",
        "set_config(display= 'diagram') "
      ]
    },
    {
      "cell_type": "markdown",
      "source": [
        "Here below we copy the pathway into the dataframe and view the first five rows of data inthe dataframe."
      ],
      "metadata": {
        "id": "t-VtEubPcG0u"
      }
    },
    {
      "cell_type": "code",
      "source": [
        "# Defining the pathway\n",
        "sales_path = '/content/drive/MyDrive/DATA SCIENCE/CODES/project 1/sales_predictions.csv'\n",
        "\n",
        "# Defining the DatatFlow and Reading the Data\n",
        "sales_df = pd.read_csv(sales_path)\n",
        "sales_df.head() "
      ],
      "metadata": {
        "colab": {
          "base_uri": "https://localhost:8080/",
          "height": 353
        },
        "id": "Wd6uyohB6idJ",
        "outputId": "a5febeae-9ea6-4f36-8afc-f8079032d51c"
      },
      "execution_count": 67,
      "outputs": [
        {
          "output_type": "execute_result",
          "data": {
            "text/plain": [
              "  Item_Identifier  Item_Weight Item_Fat_Content  Item_Visibility  \\\n",
              "0           FDA15         9.30          Low Fat         0.016047   \n",
              "1           DRC01         5.92          Regular         0.019278   \n",
              "2           FDN15        17.50          Low Fat         0.016760   \n",
              "3           FDX07        19.20          Regular         0.000000   \n",
              "4           NCD19         8.93          Low Fat         0.000000   \n",
              "\n",
              "               Item_Type  Item_MRP Outlet_Identifier  \\\n",
              "0                  Dairy  249.8092            OUT049   \n",
              "1            Soft Drinks   48.2692            OUT018   \n",
              "2                   Meat  141.6180            OUT049   \n",
              "3  Fruits and Vegetables  182.0950            OUT010   \n",
              "4              Household   53.8614            OUT013   \n",
              "\n",
              "   Outlet_Establishment_Year Outlet_Size Outlet_Location_Type  \\\n",
              "0                       1999      Medium               Tier 1   \n",
              "1                       2009      Medium               Tier 3   \n",
              "2                       1999      Medium               Tier 1   \n",
              "3                       1998         NaN               Tier 3   \n",
              "4                       1987        High               Tier 3   \n",
              "\n",
              "         Outlet_Type  Item_Outlet_Sales  \n",
              "0  Supermarket Type1          3735.1380  \n",
              "1  Supermarket Type2           443.4228  \n",
              "2  Supermarket Type1          2097.2700  \n",
              "3      Grocery Store           732.3800  \n",
              "4  Supermarket Type1           994.7052  "
            ],
            "text/html": [
              "\n",
              "  <div id=\"df-bf28baa7-a32b-4e3d-8dad-d34a781ec855\">\n",
              "    <div class=\"colab-df-container\">\n",
              "      <div>\n",
              "<style scoped>\n",
              "    .dataframe tbody tr th:only-of-type {\n",
              "        vertical-align: middle;\n",
              "    }\n",
              "\n",
              "    .dataframe tbody tr th {\n",
              "        vertical-align: top;\n",
              "    }\n",
              "\n",
              "    .dataframe thead th {\n",
              "        text-align: right;\n",
              "    }\n",
              "</style>\n",
              "<table border=\"1\" class=\"dataframe\">\n",
              "  <thead>\n",
              "    <tr style=\"text-align: right;\">\n",
              "      <th></th>\n",
              "      <th>Item_Identifier</th>\n",
              "      <th>Item_Weight</th>\n",
              "      <th>Item_Fat_Content</th>\n",
              "      <th>Item_Visibility</th>\n",
              "      <th>Item_Type</th>\n",
              "      <th>Item_MRP</th>\n",
              "      <th>Outlet_Identifier</th>\n",
              "      <th>Outlet_Establishment_Year</th>\n",
              "      <th>Outlet_Size</th>\n",
              "      <th>Outlet_Location_Type</th>\n",
              "      <th>Outlet_Type</th>\n",
              "      <th>Item_Outlet_Sales</th>\n",
              "    </tr>\n",
              "  </thead>\n",
              "  <tbody>\n",
              "    <tr>\n",
              "      <th>0</th>\n",
              "      <td>FDA15</td>\n",
              "      <td>9.30</td>\n",
              "      <td>Low Fat</td>\n",
              "      <td>0.016047</td>\n",
              "      <td>Dairy</td>\n",
              "      <td>249.8092</td>\n",
              "      <td>OUT049</td>\n",
              "      <td>1999</td>\n",
              "      <td>Medium</td>\n",
              "      <td>Tier 1</td>\n",
              "      <td>Supermarket Type1</td>\n",
              "      <td>3735.1380</td>\n",
              "    </tr>\n",
              "    <tr>\n",
              "      <th>1</th>\n",
              "      <td>DRC01</td>\n",
              "      <td>5.92</td>\n",
              "      <td>Regular</td>\n",
              "      <td>0.019278</td>\n",
              "      <td>Soft Drinks</td>\n",
              "      <td>48.2692</td>\n",
              "      <td>OUT018</td>\n",
              "      <td>2009</td>\n",
              "      <td>Medium</td>\n",
              "      <td>Tier 3</td>\n",
              "      <td>Supermarket Type2</td>\n",
              "      <td>443.4228</td>\n",
              "    </tr>\n",
              "    <tr>\n",
              "      <th>2</th>\n",
              "      <td>FDN15</td>\n",
              "      <td>17.50</td>\n",
              "      <td>Low Fat</td>\n",
              "      <td>0.016760</td>\n",
              "      <td>Meat</td>\n",
              "      <td>141.6180</td>\n",
              "      <td>OUT049</td>\n",
              "      <td>1999</td>\n",
              "      <td>Medium</td>\n",
              "      <td>Tier 1</td>\n",
              "      <td>Supermarket Type1</td>\n",
              "      <td>2097.2700</td>\n",
              "    </tr>\n",
              "    <tr>\n",
              "      <th>3</th>\n",
              "      <td>FDX07</td>\n",
              "      <td>19.20</td>\n",
              "      <td>Regular</td>\n",
              "      <td>0.000000</td>\n",
              "      <td>Fruits and Vegetables</td>\n",
              "      <td>182.0950</td>\n",
              "      <td>OUT010</td>\n",
              "      <td>1998</td>\n",
              "      <td>NaN</td>\n",
              "      <td>Tier 3</td>\n",
              "      <td>Grocery Store</td>\n",
              "      <td>732.3800</td>\n",
              "    </tr>\n",
              "    <tr>\n",
              "      <th>4</th>\n",
              "      <td>NCD19</td>\n",
              "      <td>8.93</td>\n",
              "      <td>Low Fat</td>\n",
              "      <td>0.000000</td>\n",
              "      <td>Household</td>\n",
              "      <td>53.8614</td>\n",
              "      <td>OUT013</td>\n",
              "      <td>1987</td>\n",
              "      <td>High</td>\n",
              "      <td>Tier 3</td>\n",
              "      <td>Supermarket Type1</td>\n",
              "      <td>994.7052</td>\n",
              "    </tr>\n",
              "  </tbody>\n",
              "</table>\n",
              "</div>\n",
              "      <button class=\"colab-df-convert\" onclick=\"convertToInteractive('df-bf28baa7-a32b-4e3d-8dad-d34a781ec855')\"\n",
              "              title=\"Convert this dataframe to an interactive table.\"\n",
              "              style=\"display:none;\">\n",
              "        \n",
              "  <svg xmlns=\"http://www.w3.org/2000/svg\" height=\"24px\"viewBox=\"0 0 24 24\"\n",
              "       width=\"24px\">\n",
              "    <path d=\"M0 0h24v24H0V0z\" fill=\"none\"/>\n",
              "    <path d=\"M18.56 5.44l.94 2.06.94-2.06 2.06-.94-2.06-.94-.94-2.06-.94 2.06-2.06.94zm-11 1L8.5 8.5l.94-2.06 2.06-.94-2.06-.94L8.5 2.5l-.94 2.06-2.06.94zm10 10l.94 2.06.94-2.06 2.06-.94-2.06-.94-.94-2.06-.94 2.06-2.06.94z\"/><path d=\"M17.41 7.96l-1.37-1.37c-.4-.4-.92-.59-1.43-.59-.52 0-1.04.2-1.43.59L10.3 9.45l-7.72 7.72c-.78.78-.78 2.05 0 2.83L4 21.41c.39.39.9.59 1.41.59.51 0 1.02-.2 1.41-.59l7.78-7.78 2.81-2.81c.8-.78.8-2.07 0-2.86zM5.41 20L4 18.59l7.72-7.72 1.47 1.35L5.41 20z\"/>\n",
              "  </svg>\n",
              "      </button>\n",
              "      \n",
              "  <style>\n",
              "    .colab-df-container {\n",
              "      display:flex;\n",
              "      flex-wrap:wrap;\n",
              "      gap: 12px;\n",
              "    }\n",
              "\n",
              "    .colab-df-convert {\n",
              "      background-color: #E8F0FE;\n",
              "      border: none;\n",
              "      border-radius: 50%;\n",
              "      cursor: pointer;\n",
              "      display: none;\n",
              "      fill: #1967D2;\n",
              "      height: 32px;\n",
              "      padding: 0 0 0 0;\n",
              "      width: 32px;\n",
              "    }\n",
              "\n",
              "    .colab-df-convert:hover {\n",
              "      background-color: #E2EBFA;\n",
              "      box-shadow: 0px 1px 2px rgba(60, 64, 67, 0.3), 0px 1px 3px 1px rgba(60, 64, 67, 0.15);\n",
              "      fill: #174EA6;\n",
              "    }\n",
              "\n",
              "    [theme=dark] .colab-df-convert {\n",
              "      background-color: #3B4455;\n",
              "      fill: #D2E3FC;\n",
              "    }\n",
              "\n",
              "    [theme=dark] .colab-df-convert:hover {\n",
              "      background-color: #434B5C;\n",
              "      box-shadow: 0px 1px 3px 1px rgba(0, 0, 0, 0.15);\n",
              "      filter: drop-shadow(0px 1px 2px rgba(0, 0, 0, 0.3));\n",
              "      fill: #FFFFFF;\n",
              "    }\n",
              "  </style>\n",
              "\n",
              "      <script>\n",
              "        const buttonEl =\n",
              "          document.querySelector('#df-bf28baa7-a32b-4e3d-8dad-d34a781ec855 button.colab-df-convert');\n",
              "        buttonEl.style.display =\n",
              "          google.colab.kernel.accessAllowed ? 'block' : 'none';\n",
              "\n",
              "        async function convertToInteractive(key) {\n",
              "          const element = document.querySelector('#df-bf28baa7-a32b-4e3d-8dad-d34a781ec855');\n",
              "          const dataTable =\n",
              "            await google.colab.kernel.invokeFunction('convertToInteractive',\n",
              "                                                     [key], {});\n",
              "          if (!dataTable) return;\n",
              "\n",
              "          const docLinkHtml = 'Like what you see? Visit the ' +\n",
              "            '<a target=\"_blank\" href=https://colab.research.google.com/notebooks/data_table.ipynb>data table notebook</a>'\n",
              "            + ' to learn more about interactive tables.';\n",
              "          element.innerHTML = '';\n",
              "          dataTable['output_type'] = 'display_data';\n",
              "          await google.colab.output.renderOutput(dataTable, element);\n",
              "          const docLink = document.createElement('div');\n",
              "          docLink.innerHTML = docLinkHtml;\n",
              "          element.appendChild(docLink);\n",
              "        }\n",
              "      </script>\n",
              "    </div>\n",
              "  </div>\n",
              "  "
            ]
          },
          "metadata": {},
          "execution_count": 67
        }
      ]
    },
    {
      "cell_type": "markdown",
      "source": [
        "We can now identify each feature as numeric, categorical, or ordinal."
      ],
      "metadata": {
        "id": "eEDoI8EzcfLN"
      }
    },
    {
      "cell_type": "markdown",
      "source": [
        "# IDENTIFY EACH FEATURE"
      ],
      "metadata": {
        "id": "QxJ3XRHl8kmb"
      }
    },
    {
      "cell_type": "markdown",
      "source": [
        "NUMERICAL FEATURES: Item_Weight, Item_Visibility, Item_MRP, Outlet_Establishment_Year\n",
        "\n",
        "\n",
        "ORDINAL FEATURES: Outlet_Size, Outlet_Location_Type. \n",
        "\n",
        "\n",
        "NORMINAL FEATURES: Item_Type, Outlet_Type, Item_fat_Content"
      ],
      "metadata": {
        "id": "X8WPCBG5dGIv"
      }
    },
    {
      "cell_type": "markdown",
      "source": [
        "# ORDINAL ENCODING"
      ],
      "metadata": {
        "id": "H7ArnGoydGqV"
      }
    },
    {
      "cell_type": "markdown",
      "source": [
        "Since Outlet Size and Outlet location type store string values that describe an order, we can assign them intiger values that describe the same order. This will replace the need to One hot encode these values."
      ],
      "metadata": {
        "id": "y0pgSU5agw8i"
      }
    },
    {
      "cell_type": "markdown",
      "source": [
        "Check the value_counts() to determine how many categories are present in Outlet Size"
      ],
      "metadata": {
        "id": "Uuy-_K31eNyz"
      }
    },
    {
      "cell_type": "code",
      "source": [
        "sales_df['Outlet_Size'].value_counts()"
      ],
      "metadata": {
        "colab": {
          "base_uri": "https://localhost:8080/"
        },
        "id": "5GFbbM_K7-vK",
        "outputId": "81c3cd55-20d4-41de-dd99-9cef306c9b44"
      },
      "execution_count": 68,
      "outputs": [
        {
          "output_type": "execute_result",
          "data": {
            "text/plain": [
              "Medium    2793\n",
              "Small     2388\n",
              "High       932\n",
              "Name: Outlet_Size, dtype: int64"
            ]
          },
          "metadata": {},
          "execution_count": 68
        }
      ]
    },
    {
      "cell_type": "markdown",
      "source": [
        "Assign numeric values to each category present in Outlet Size"
      ],
      "metadata": {
        "id": "ZkGHKoiFefFI"
      }
    },
    {
      "cell_type": "code",
      "source": [
        "#Define a dictionary to ordinal encode Outlet Size\n",
        "outlet_size = {'High': 2,\n",
        "               'Medium': 1,\n",
        "               'Small': 0}\n",
        "sales_df['Outlet_Size'] = sales_df['Outlet_Size'].replace(outlet_size)\n",
        "\n",
        "sales_df['Outlet_Size'].value_counts() "
      ],
      "metadata": {
        "colab": {
          "base_uri": "https://localhost:8080/"
        },
        "id": "xmfwF3bQ8Hc9",
        "outputId": "aa2e30e3-ad6d-439c-b085-a133419e838f"
      },
      "execution_count": 69,
      "outputs": [
        {
          "output_type": "execute_result",
          "data": {
            "text/plain": [
              "1.0    2793\n",
              "0.0    2388\n",
              "2.0     932\n",
              "Name: Outlet_Size, dtype: int64"
            ]
          },
          "metadata": {},
          "execution_count": 69
        }
      ]
    },
    {
      "cell_type": "markdown",
      "source": [
        "Check the value_counts() to determine how many categories are present in Outlet Location Type"
      ],
      "metadata": {
        "id": "tpLlCzIVe9ob"
      }
    },
    {
      "cell_type": "code",
      "source": [
        "sales_df['Outlet_Location_Type'].value_counts()"
      ],
      "metadata": {
        "colab": {
          "base_uri": "https://localhost:8080/"
        },
        "id": "A1-IqDQ1e-Kl",
        "outputId": "e037238f-6774-4f9e-bb00-b56cce891b04"
      },
      "execution_count": 70,
      "outputs": [
        {
          "output_type": "execute_result",
          "data": {
            "text/plain": [
              "Tier 3    3350\n",
              "Tier 2    2785\n",
              "Tier 1    2388\n",
              "Name: Outlet_Location_Type, dtype: int64"
            ]
          },
          "metadata": {},
          "execution_count": 70
        }
      ]
    },
    {
      "cell_type": "markdown",
      "source": [
        "Assign numeric values to each category present in Outlet Location Tyoe"
      ],
      "metadata": {
        "id": "omzPJ4P-fArK"
      }
    },
    {
      "cell_type": "code",
      "source": [
        "#Define a dictionary to ordinal encode Outlet Tier\n",
        "outlet_tier = {'Tier 3': 2,\n",
        "               'Tier 2': 1,\n",
        "               'Tier 1': 0}\n",
        "sales_df['Outlet_Location_Type'] = sales_df['Outlet_Location_Type'].replace(outlet_tier)\n",
        "\n",
        "sales_df['Outlet_Location_Type'].value_counts() "
      ],
      "metadata": {
        "colab": {
          "base_uri": "https://localhost:8080/"
        },
        "id": "gZz4li06fBa7",
        "outputId": "f314dcab-c2e3-4436-bb85-131585831f35"
      },
      "execution_count": 71,
      "outputs": [
        {
          "output_type": "execute_result",
          "data": {
            "text/plain": [
              "2    3350\n",
              "1    2785\n",
              "0    2388\n",
              "Name: Outlet_Location_Type, dtype: int64"
            ]
          },
          "metadata": {},
          "execution_count": 71
        }
      ]
    },
    {
      "cell_type": "markdown",
      "source": [
        "# CLEANING"
      ],
      "metadata": {
        "id": "SpYlVfX_fCbV"
      }
    },
    {
      "cell_type": "markdown",
      "source": [
        "Some of the data can be cleaned without being leaked while the rest can be imputed through a pipeline. Here below we can check the norminal features to see if the catagories need any cleaning"
      ],
      "metadata": {
        "id": "YWfXGhDzhtJT"
      }
    },
    {
      "cell_type": "code",
      "source": [
        "sales_df['Item_Fat_Content'].value_counts()"
      ],
      "metadata": {
        "colab": {
          "base_uri": "https://localhost:8080/"
        },
        "id": "KmQXUj047wU0",
        "outputId": "f89f5c92-1f16-42ff-d298-a121075b7c21"
      },
      "execution_count": 72,
      "outputs": [
        {
          "output_type": "execute_result",
          "data": {
            "text/plain": [
              "Low Fat    5089\n",
              "Regular    2889\n",
              "LF          316\n",
              "reg         117\n",
              "low fat     112\n",
              "Name: Item_Fat_Content, dtype: int64"
            ]
          },
          "metadata": {},
          "execution_count": 72
        }
      ]
    },
    {
      "cell_type": "markdown",
      "source": [
        "We notice that low fat is represented in 3 different ways and regular fat products have been represented in 2 different categories. We can clean that such that it only shows 2 categories Low Fat and Regular "
      ],
      "metadata": {
        "id": "ByRS1ZaFixiG"
      }
    },
    {
      "cell_type": "code",
      "source": [
        "# Define a dictionary to replace Item_Fat_Content\n",
        "item_fat_content = {'Low Fat' : 'Low Fat',\n",
        "                    'Regular' : 'Regular',\n",
        "                    'LF' : 'Low Fat',\n",
        "                    'reg' : 'Regular',\n",
        "                    'low fat' : 'Low Fat'}\n",
        "\n",
        "sales_df['Item_Fat_Content'] = sales_df['Item_Fat_Content'].replace(item_fat_content)\n",
        "\n",
        "sales_df['Item_Fat_Content'].value_counts() \n",
        "\n",
        "\n",
        "\n"
      ],
      "metadata": {
        "colab": {
          "base_uri": "https://localhost:8080/"
        },
        "id": "br3osEzZ7P3I",
        "outputId": "9d2952a3-79fd-4d8d-a807-770609a448fd"
      },
      "execution_count": 73,
      "outputs": [
        {
          "output_type": "execute_result",
          "data": {
            "text/plain": [
              "Low Fat    5517\n",
              "Regular    3006\n",
              "Name: Item_Fat_Content, dtype: int64"
            ]
          },
          "metadata": {},
          "execution_count": 73
        }
      ]
    },
    {
      "cell_type": "markdown",
      "source": [
        "We can now split our data into Features (X) and the target (Y). We can also get rid of the identifier columns as those would possibly have a unique value for each representing category"
      ],
      "metadata": {
        "id": "GdTKbjXsjSbN"
      }
    },
    {
      "cell_type": "code",
      "source": [
        "X = sales_df.drop(columns= ['Item_Outlet_Sales', 'Item_Identifier', 'Outlet_Identifier'])\n",
        "y = sales_df['Item_Outlet_Sales']   "
      ],
      "metadata": {
        "id": "PaRna14b9wmA"
      },
      "execution_count": 74,
      "outputs": []
    },
    {
      "cell_type": "markdown",
      "source": [
        "We can now perform a train test split that splits the feature and Target into 2 training sets and 2 testing sets"
      ],
      "metadata": {
        "id": "jUCI9r62j0SE"
      }
    },
    {
      "cell_type": "code",
      "source": [
        "X_train, X_test, y_train, y_test = train_test_split( X, y, random_state=42)  "
      ],
      "metadata": {
        "id": "8R9Cg7Vs973k"
      },
      "execution_count": 75,
      "outputs": []
    },
    {
      "cell_type": "markdown",
      "source": [
        "Here below we create two column selectors.\n",
        "\n",
        "The cat_selector will collect all the data that had a d_type: object\n",
        "\n",
        "The num_selector will collect all the data that had a d_type: int or float\n"
      ],
      "metadata": {
        "id": "DESeM868kHgw"
      }
    },
    {
      "cell_type": "code",
      "source": [
        "# Instantiating Column Selectors\n",
        "\n",
        "#Categorical Column Selector\n",
        "cat_selector = make_column_selector(dtype_include= 'object')\n",
        "\n",
        "# Numerical Column Selector\n",
        "num_selector = make_column_selector(dtype_include= 'number')"
      ],
      "metadata": {
        "id": "CnmHUf-s88x_"
      },
      "execution_count": 76,
      "outputs": []
    },
    {
      "cell_type": "markdown",
      "source": [
        "Here ebelow we create inputers that will impute the missing values.\n",
        "\n",
        "The freq_imputer will impute the missing data with the most frequently occuring value in that data set. We chose this as this would best represent categorical data. \n",
        "\n",
        "The mean_imputer will impute the missing data with the mean of the value in that data set. We chose this as this would best represent numerical data. "
      ],
      "metadata": {
        "id": "su0t44VJmYzx"
      }
    },
    {
      "cell_type": "code",
      "source": [
        "# Instantiating Transformers\n",
        "\n",
        "# Frequency Imputers\n",
        "freq_imputer = SimpleImputer(strategy= 'most_frequent')\n",
        "\n",
        "# Mean Imputer\n",
        "mean_imputer = SimpleImputer(strategy= 'mean')\n",
        "\n",
        "# Scaler\n",
        "scaler= StandardScaler()\n",
        "\n",
        "# One Hot Encoder\n",
        "ohe = OneHotEncoder(sparse= False, handle_unknown= 'ignore')"
      ],
      "metadata": {
        "id": "YX4sIdgZ9Dd5"
      },
      "execution_count": 77,
      "outputs": []
    },
    {
      "cell_type": "markdown",
      "source": [
        "We can now create a pipeline that imputes the missing vales in the data with the mean from the data avalable and then scales the data."
      ],
      "metadata": {
        "id": "MlZBUQGVnZjb"
      }
    },
    {
      "cell_type": "code",
      "source": [
        "#Instantiating Pipelines\n",
        "\n",
        "# Numerical Pipeline\n",
        "numeric_pipe = make_pipeline(mean_imputer, scaler)\n",
        "numeric_pipe "
      ],
      "metadata": {
        "id": "Vj5LCWKP9IjL",
        "colab": {
          "base_uri": "https://localhost:8080/",
          "height": 124
        },
        "outputId": "9fc6e355-fa4e-4327-a21d-6145d16374d8"
      },
      "execution_count": 78,
      "outputs": [
        {
          "output_type": "execute_result",
          "data": {
            "text/plain": [
              "Pipeline(steps=[('simpleimputer', SimpleImputer()),\n",
              "                ('standardscaler', StandardScaler())])"
            ],
            "text/html": [
              "<style>#sk-f1fe31ab-6122-4670-921c-dec5a51908f8 {color: black;background-color: white;}#sk-f1fe31ab-6122-4670-921c-dec5a51908f8 pre{padding: 0;}#sk-f1fe31ab-6122-4670-921c-dec5a51908f8 div.sk-toggleable {background-color: white;}#sk-f1fe31ab-6122-4670-921c-dec5a51908f8 label.sk-toggleable__label {cursor: pointer;display: block;width: 100%;margin-bottom: 0;padding: 0.3em;box-sizing: border-box;text-align: center;}#sk-f1fe31ab-6122-4670-921c-dec5a51908f8 label.sk-toggleable__label-arrow:before {content: \"▸\";float: left;margin-right: 0.25em;color: #696969;}#sk-f1fe31ab-6122-4670-921c-dec5a51908f8 label.sk-toggleable__label-arrow:hover:before {color: black;}#sk-f1fe31ab-6122-4670-921c-dec5a51908f8 div.sk-estimator:hover label.sk-toggleable__label-arrow:before {color: black;}#sk-f1fe31ab-6122-4670-921c-dec5a51908f8 div.sk-toggleable__content {max-height: 0;max-width: 0;overflow: hidden;text-align: left;background-color: #f0f8ff;}#sk-f1fe31ab-6122-4670-921c-dec5a51908f8 div.sk-toggleable__content pre {margin: 0.2em;color: black;border-radius: 0.25em;background-color: #f0f8ff;}#sk-f1fe31ab-6122-4670-921c-dec5a51908f8 input.sk-toggleable__control:checked~div.sk-toggleable__content {max-height: 200px;max-width: 100%;overflow: auto;}#sk-f1fe31ab-6122-4670-921c-dec5a51908f8 input.sk-toggleable__control:checked~label.sk-toggleable__label-arrow:before {content: \"▾\";}#sk-f1fe31ab-6122-4670-921c-dec5a51908f8 div.sk-estimator input.sk-toggleable__control:checked~label.sk-toggleable__label {background-color: #d4ebff;}#sk-f1fe31ab-6122-4670-921c-dec5a51908f8 div.sk-label input.sk-toggleable__control:checked~label.sk-toggleable__label {background-color: #d4ebff;}#sk-f1fe31ab-6122-4670-921c-dec5a51908f8 input.sk-hidden--visually {border: 0;clip: rect(1px 1px 1px 1px);clip: rect(1px, 1px, 1px, 1px);height: 1px;margin: -1px;overflow: hidden;padding: 0;position: absolute;width: 1px;}#sk-f1fe31ab-6122-4670-921c-dec5a51908f8 div.sk-estimator {font-family: monospace;background-color: #f0f8ff;border: 1px dotted black;border-radius: 0.25em;box-sizing: border-box;margin-bottom: 0.5em;}#sk-f1fe31ab-6122-4670-921c-dec5a51908f8 div.sk-estimator:hover {background-color: #d4ebff;}#sk-f1fe31ab-6122-4670-921c-dec5a51908f8 div.sk-parallel-item::after {content: \"\";width: 100%;border-bottom: 1px solid gray;flex-grow: 1;}#sk-f1fe31ab-6122-4670-921c-dec5a51908f8 div.sk-label:hover label.sk-toggleable__label {background-color: #d4ebff;}#sk-f1fe31ab-6122-4670-921c-dec5a51908f8 div.sk-serial::before {content: \"\";position: absolute;border-left: 1px solid gray;box-sizing: border-box;top: 2em;bottom: 0;left: 50%;}#sk-f1fe31ab-6122-4670-921c-dec5a51908f8 div.sk-serial {display: flex;flex-direction: column;align-items: center;background-color: white;padding-right: 0.2em;padding-left: 0.2em;}#sk-f1fe31ab-6122-4670-921c-dec5a51908f8 div.sk-item {z-index: 1;}#sk-f1fe31ab-6122-4670-921c-dec5a51908f8 div.sk-parallel {display: flex;align-items: stretch;justify-content: center;background-color: white;}#sk-f1fe31ab-6122-4670-921c-dec5a51908f8 div.sk-parallel::before {content: \"\";position: absolute;border-left: 1px solid gray;box-sizing: border-box;top: 2em;bottom: 0;left: 50%;}#sk-f1fe31ab-6122-4670-921c-dec5a51908f8 div.sk-parallel-item {display: flex;flex-direction: column;position: relative;background-color: white;}#sk-f1fe31ab-6122-4670-921c-dec5a51908f8 div.sk-parallel-item:first-child::after {align-self: flex-end;width: 50%;}#sk-f1fe31ab-6122-4670-921c-dec5a51908f8 div.sk-parallel-item:last-child::after {align-self: flex-start;width: 50%;}#sk-f1fe31ab-6122-4670-921c-dec5a51908f8 div.sk-parallel-item:only-child::after {width: 0;}#sk-f1fe31ab-6122-4670-921c-dec5a51908f8 div.sk-dashed-wrapped {border: 1px dashed gray;margin: 0 0.4em 0.5em 0.4em;box-sizing: border-box;padding-bottom: 0.4em;background-color: white;position: relative;}#sk-f1fe31ab-6122-4670-921c-dec5a51908f8 div.sk-label label {font-family: monospace;font-weight: bold;background-color: white;display: inline-block;line-height: 1.2em;}#sk-f1fe31ab-6122-4670-921c-dec5a51908f8 div.sk-label-container {position: relative;z-index: 2;text-align: center;}#sk-f1fe31ab-6122-4670-921c-dec5a51908f8 div.sk-container {/* jupyter's `normalize.less` sets `[hidden] { display: none; }` but bootstrap.min.css set `[hidden] { display: none !important; }` so we also need the `!important` here to be able to override the default hidden behavior on the sphinx rendered scikit-learn.org. See: https://github.com/scikit-learn/scikit-learn/issues/21755 */display: inline-block !important;position: relative;}#sk-f1fe31ab-6122-4670-921c-dec5a51908f8 div.sk-text-repr-fallback {display: none;}</style><div id=\"sk-f1fe31ab-6122-4670-921c-dec5a51908f8\" class=\"sk-top-container\"><div class=\"sk-text-repr-fallback\"><pre>Pipeline(steps=[(&#x27;simpleimputer&#x27;, SimpleImputer()),\n",
              "                (&#x27;standardscaler&#x27;, StandardScaler())])</pre><b>Please rerun this cell to show the HTML repr or trust the notebook.</b></div><div class=\"sk-container\" hidden><div class=\"sk-item sk-dashed-wrapped\"><div class=\"sk-label-container\"><div class=\"sk-label sk-toggleable\"><input class=\"sk-toggleable__control sk-hidden--visually\" id=\"32c7fcbe-3452-4983-955e-05f1485cea74\" type=\"checkbox\" ><label for=\"32c7fcbe-3452-4983-955e-05f1485cea74\" class=\"sk-toggleable__label sk-toggleable__label-arrow\">Pipeline</label><div class=\"sk-toggleable__content\"><pre>Pipeline(steps=[(&#x27;simpleimputer&#x27;, SimpleImputer()),\n",
              "                (&#x27;standardscaler&#x27;, StandardScaler())])</pre></div></div></div><div class=\"sk-serial\"><div class=\"sk-item\"><div class=\"sk-estimator sk-toggleable\"><input class=\"sk-toggleable__control sk-hidden--visually\" id=\"62088373-9f63-474b-a85a-72b172b22365\" type=\"checkbox\" ><label for=\"62088373-9f63-474b-a85a-72b172b22365\" class=\"sk-toggleable__label sk-toggleable__label-arrow\">SimpleImputer</label><div class=\"sk-toggleable__content\"><pre>SimpleImputer()</pre></div></div></div><div class=\"sk-item\"><div class=\"sk-estimator sk-toggleable\"><input class=\"sk-toggleable__control sk-hidden--visually\" id=\"95bbb2b2-35dd-4aec-9a19-b7eac5bffd30\" type=\"checkbox\" ><label for=\"95bbb2b2-35dd-4aec-9a19-b7eac5bffd30\" class=\"sk-toggleable__label sk-toggleable__label-arrow\">StandardScaler</label><div class=\"sk-toggleable__content\"><pre>StandardScaler()</pre></div></div></div></div></div></div></div>"
            ]
          },
          "metadata": {},
          "execution_count": 78
        }
      ]
    },
    {
      "cell_type": "markdown",
      "source": [
        "We can now create a pipeline that imputes the missing vales in the data with the most frequently occuring values from the data avalable and then  one hot encodes the data."
      ],
      "metadata": {
        "id": "BLWSJLtsoSzL"
      }
    },
    {
      "cell_type": "code",
      "source": [
        "# Categorical Pipwline\n",
        "categorical_pipe = make_pipeline(freq_imputer, ohe)\n",
        "categorical_pipe"
      ],
      "metadata": {
        "id": "hjql4YZc9OfX",
        "colab": {
          "base_uri": "https://localhost:8080/",
          "height": 124
        },
        "outputId": "e1553463-0784-46ea-9001-5fccc8cbfc24"
      },
      "execution_count": 79,
      "outputs": [
        {
          "output_type": "execute_result",
          "data": {
            "text/plain": [
              "Pipeline(steps=[('simpleimputer', SimpleImputer(strategy='most_frequent')),\n",
              "                ('onehotencoder',\n",
              "                 OneHotEncoder(handle_unknown='ignore', sparse=False))])"
            ],
            "text/html": [
              "<style>#sk-ad7852ea-61e6-41a5-9c03-6ac94eaa6078 {color: black;background-color: white;}#sk-ad7852ea-61e6-41a5-9c03-6ac94eaa6078 pre{padding: 0;}#sk-ad7852ea-61e6-41a5-9c03-6ac94eaa6078 div.sk-toggleable {background-color: white;}#sk-ad7852ea-61e6-41a5-9c03-6ac94eaa6078 label.sk-toggleable__label {cursor: pointer;display: block;width: 100%;margin-bottom: 0;padding: 0.3em;box-sizing: border-box;text-align: center;}#sk-ad7852ea-61e6-41a5-9c03-6ac94eaa6078 label.sk-toggleable__label-arrow:before {content: \"▸\";float: left;margin-right: 0.25em;color: #696969;}#sk-ad7852ea-61e6-41a5-9c03-6ac94eaa6078 label.sk-toggleable__label-arrow:hover:before {color: black;}#sk-ad7852ea-61e6-41a5-9c03-6ac94eaa6078 div.sk-estimator:hover label.sk-toggleable__label-arrow:before {color: black;}#sk-ad7852ea-61e6-41a5-9c03-6ac94eaa6078 div.sk-toggleable__content {max-height: 0;max-width: 0;overflow: hidden;text-align: left;background-color: #f0f8ff;}#sk-ad7852ea-61e6-41a5-9c03-6ac94eaa6078 div.sk-toggleable__content pre {margin: 0.2em;color: black;border-radius: 0.25em;background-color: #f0f8ff;}#sk-ad7852ea-61e6-41a5-9c03-6ac94eaa6078 input.sk-toggleable__control:checked~div.sk-toggleable__content {max-height: 200px;max-width: 100%;overflow: auto;}#sk-ad7852ea-61e6-41a5-9c03-6ac94eaa6078 input.sk-toggleable__control:checked~label.sk-toggleable__label-arrow:before {content: \"▾\";}#sk-ad7852ea-61e6-41a5-9c03-6ac94eaa6078 div.sk-estimator input.sk-toggleable__control:checked~label.sk-toggleable__label {background-color: #d4ebff;}#sk-ad7852ea-61e6-41a5-9c03-6ac94eaa6078 div.sk-label input.sk-toggleable__control:checked~label.sk-toggleable__label {background-color: #d4ebff;}#sk-ad7852ea-61e6-41a5-9c03-6ac94eaa6078 input.sk-hidden--visually {border: 0;clip: rect(1px 1px 1px 1px);clip: rect(1px, 1px, 1px, 1px);height: 1px;margin: -1px;overflow: hidden;padding: 0;position: absolute;width: 1px;}#sk-ad7852ea-61e6-41a5-9c03-6ac94eaa6078 div.sk-estimator {font-family: monospace;background-color: #f0f8ff;border: 1px dotted black;border-radius: 0.25em;box-sizing: border-box;margin-bottom: 0.5em;}#sk-ad7852ea-61e6-41a5-9c03-6ac94eaa6078 div.sk-estimator:hover {background-color: #d4ebff;}#sk-ad7852ea-61e6-41a5-9c03-6ac94eaa6078 div.sk-parallel-item::after {content: \"\";width: 100%;border-bottom: 1px solid gray;flex-grow: 1;}#sk-ad7852ea-61e6-41a5-9c03-6ac94eaa6078 div.sk-label:hover label.sk-toggleable__label {background-color: #d4ebff;}#sk-ad7852ea-61e6-41a5-9c03-6ac94eaa6078 div.sk-serial::before {content: \"\";position: absolute;border-left: 1px solid gray;box-sizing: border-box;top: 2em;bottom: 0;left: 50%;}#sk-ad7852ea-61e6-41a5-9c03-6ac94eaa6078 div.sk-serial {display: flex;flex-direction: column;align-items: center;background-color: white;padding-right: 0.2em;padding-left: 0.2em;}#sk-ad7852ea-61e6-41a5-9c03-6ac94eaa6078 div.sk-item {z-index: 1;}#sk-ad7852ea-61e6-41a5-9c03-6ac94eaa6078 div.sk-parallel {display: flex;align-items: stretch;justify-content: center;background-color: white;}#sk-ad7852ea-61e6-41a5-9c03-6ac94eaa6078 div.sk-parallel::before {content: \"\";position: absolute;border-left: 1px solid gray;box-sizing: border-box;top: 2em;bottom: 0;left: 50%;}#sk-ad7852ea-61e6-41a5-9c03-6ac94eaa6078 div.sk-parallel-item {display: flex;flex-direction: column;position: relative;background-color: white;}#sk-ad7852ea-61e6-41a5-9c03-6ac94eaa6078 div.sk-parallel-item:first-child::after {align-self: flex-end;width: 50%;}#sk-ad7852ea-61e6-41a5-9c03-6ac94eaa6078 div.sk-parallel-item:last-child::after {align-self: flex-start;width: 50%;}#sk-ad7852ea-61e6-41a5-9c03-6ac94eaa6078 div.sk-parallel-item:only-child::after {width: 0;}#sk-ad7852ea-61e6-41a5-9c03-6ac94eaa6078 div.sk-dashed-wrapped {border: 1px dashed gray;margin: 0 0.4em 0.5em 0.4em;box-sizing: border-box;padding-bottom: 0.4em;background-color: white;position: relative;}#sk-ad7852ea-61e6-41a5-9c03-6ac94eaa6078 div.sk-label label {font-family: monospace;font-weight: bold;background-color: white;display: inline-block;line-height: 1.2em;}#sk-ad7852ea-61e6-41a5-9c03-6ac94eaa6078 div.sk-label-container {position: relative;z-index: 2;text-align: center;}#sk-ad7852ea-61e6-41a5-9c03-6ac94eaa6078 div.sk-container {/* jupyter's `normalize.less` sets `[hidden] { display: none; }` but bootstrap.min.css set `[hidden] { display: none !important; }` so we also need the `!important` here to be able to override the default hidden behavior on the sphinx rendered scikit-learn.org. See: https://github.com/scikit-learn/scikit-learn/issues/21755 */display: inline-block !important;position: relative;}#sk-ad7852ea-61e6-41a5-9c03-6ac94eaa6078 div.sk-text-repr-fallback {display: none;}</style><div id=\"sk-ad7852ea-61e6-41a5-9c03-6ac94eaa6078\" class=\"sk-top-container\"><div class=\"sk-text-repr-fallback\"><pre>Pipeline(steps=[(&#x27;simpleimputer&#x27;, SimpleImputer(strategy=&#x27;most_frequent&#x27;)),\n",
              "                (&#x27;onehotencoder&#x27;,\n",
              "                 OneHotEncoder(handle_unknown=&#x27;ignore&#x27;, sparse=False))])</pre><b>Please rerun this cell to show the HTML repr or trust the notebook.</b></div><div class=\"sk-container\" hidden><div class=\"sk-item sk-dashed-wrapped\"><div class=\"sk-label-container\"><div class=\"sk-label sk-toggleable\"><input class=\"sk-toggleable__control sk-hidden--visually\" id=\"11960222-119f-421c-94bf-528d1fbe6842\" type=\"checkbox\" ><label for=\"11960222-119f-421c-94bf-528d1fbe6842\" class=\"sk-toggleable__label sk-toggleable__label-arrow\">Pipeline</label><div class=\"sk-toggleable__content\"><pre>Pipeline(steps=[(&#x27;simpleimputer&#x27;, SimpleImputer(strategy=&#x27;most_frequent&#x27;)),\n",
              "                (&#x27;onehotencoder&#x27;,\n",
              "                 OneHotEncoder(handle_unknown=&#x27;ignore&#x27;, sparse=False))])</pre></div></div></div><div class=\"sk-serial\"><div class=\"sk-item\"><div class=\"sk-estimator sk-toggleable\"><input class=\"sk-toggleable__control sk-hidden--visually\" id=\"c9187902-1ff6-4a41-ac81-631c29bb7f6f\" type=\"checkbox\" ><label for=\"c9187902-1ff6-4a41-ac81-631c29bb7f6f\" class=\"sk-toggleable__label sk-toggleable__label-arrow\">SimpleImputer</label><div class=\"sk-toggleable__content\"><pre>SimpleImputer(strategy=&#x27;most_frequent&#x27;)</pre></div></div></div><div class=\"sk-item\"><div class=\"sk-estimator sk-toggleable\"><input class=\"sk-toggleable__control sk-hidden--visually\" id=\"bf699f88-f9d8-4bad-9309-ef14b149b986\" type=\"checkbox\" ><label for=\"bf699f88-f9d8-4bad-9309-ef14b149b986\" class=\"sk-toggleable__label sk-toggleable__label-arrow\">OneHotEncoder</label><div class=\"sk-toggleable__content\"><pre>OneHotEncoder(handle_unknown=&#x27;ignore&#x27;, sparse=False)</pre></div></div></div></div></div></div></div>"
            ]
          },
          "metadata": {},
          "execution_count": 79
        }
      ]
    },
    {
      "cell_type": "markdown",
      "source": [
        "The numeric_pipe and num_selector are stored in one tuple while the categorical_pide and cat_selector are stored in another tuple. Both of these tuples are added to a column transformer."
      ],
      "metadata": {
        "id": "tmSIX9wzov5u"
      }
    },
    {
      "cell_type": "code",
      "source": [
        "# Instantiating Column Transformer\n",
        "\n",
        "#Tuples for Coulumn Transformer\n",
        "number_tuple = (numeric_pipe, num_selector)\n",
        "category_tuple = (categorical_pipe, cat_selector)\n",
        "\n",
        "# Column Transformer\n",
        "preprocessor = make_column_transformer(number_tuple, category_tuple)\n",
        "preprocessor"
      ],
      "metadata": {
        "id": "Ki0Pmv0V9Wsi",
        "colab": {
          "base_uri": "https://localhost:8080/",
          "height": 149
        },
        "outputId": "ab5a3c65-794f-4aa5-c4fd-47451fddc71c"
      },
      "execution_count": 80,
      "outputs": [
        {
          "output_type": "execute_result",
          "data": {
            "text/plain": [
              "ColumnTransformer(transformers=[('pipeline-1',\n",
              "                                 Pipeline(steps=[('simpleimputer',\n",
              "                                                  SimpleImputer()),\n",
              "                                                 ('standardscaler',\n",
              "                                                  StandardScaler())]),\n",
              "                                 <sklearn.compose._column_transformer.make_column_selector object at 0x7f34e8e54dd0>),\n",
              "                                ('pipeline-2',\n",
              "                                 Pipeline(steps=[('simpleimputer',\n",
              "                                                  SimpleImputer(strategy='most_frequent')),\n",
              "                                                 ('onehotencoder',\n",
              "                                                  OneHotEncoder(handle_unknown='ignore',\n",
              "                                                                sparse=False))]),\n",
              "                                 <sklearn.compose._column_transformer.make_column_selector object at 0x7f34e8e54790>)])"
            ],
            "text/html": [
              "<style>#sk-e2a732c7-1e87-4007-b74b-bc2b910378c1 {color: black;background-color: white;}#sk-e2a732c7-1e87-4007-b74b-bc2b910378c1 pre{padding: 0;}#sk-e2a732c7-1e87-4007-b74b-bc2b910378c1 div.sk-toggleable {background-color: white;}#sk-e2a732c7-1e87-4007-b74b-bc2b910378c1 label.sk-toggleable__label {cursor: pointer;display: block;width: 100%;margin-bottom: 0;padding: 0.3em;box-sizing: border-box;text-align: center;}#sk-e2a732c7-1e87-4007-b74b-bc2b910378c1 label.sk-toggleable__label-arrow:before {content: \"▸\";float: left;margin-right: 0.25em;color: #696969;}#sk-e2a732c7-1e87-4007-b74b-bc2b910378c1 label.sk-toggleable__label-arrow:hover:before {color: black;}#sk-e2a732c7-1e87-4007-b74b-bc2b910378c1 div.sk-estimator:hover label.sk-toggleable__label-arrow:before {color: black;}#sk-e2a732c7-1e87-4007-b74b-bc2b910378c1 div.sk-toggleable__content {max-height: 0;max-width: 0;overflow: hidden;text-align: left;background-color: #f0f8ff;}#sk-e2a732c7-1e87-4007-b74b-bc2b910378c1 div.sk-toggleable__content pre {margin: 0.2em;color: black;border-radius: 0.25em;background-color: #f0f8ff;}#sk-e2a732c7-1e87-4007-b74b-bc2b910378c1 input.sk-toggleable__control:checked~div.sk-toggleable__content {max-height: 200px;max-width: 100%;overflow: auto;}#sk-e2a732c7-1e87-4007-b74b-bc2b910378c1 input.sk-toggleable__control:checked~label.sk-toggleable__label-arrow:before {content: \"▾\";}#sk-e2a732c7-1e87-4007-b74b-bc2b910378c1 div.sk-estimator input.sk-toggleable__control:checked~label.sk-toggleable__label {background-color: #d4ebff;}#sk-e2a732c7-1e87-4007-b74b-bc2b910378c1 div.sk-label input.sk-toggleable__control:checked~label.sk-toggleable__label {background-color: #d4ebff;}#sk-e2a732c7-1e87-4007-b74b-bc2b910378c1 input.sk-hidden--visually {border: 0;clip: rect(1px 1px 1px 1px);clip: rect(1px, 1px, 1px, 1px);height: 1px;margin: -1px;overflow: hidden;padding: 0;position: absolute;width: 1px;}#sk-e2a732c7-1e87-4007-b74b-bc2b910378c1 div.sk-estimator {font-family: monospace;background-color: #f0f8ff;border: 1px dotted black;border-radius: 0.25em;box-sizing: border-box;margin-bottom: 0.5em;}#sk-e2a732c7-1e87-4007-b74b-bc2b910378c1 div.sk-estimator:hover {background-color: #d4ebff;}#sk-e2a732c7-1e87-4007-b74b-bc2b910378c1 div.sk-parallel-item::after {content: \"\";width: 100%;border-bottom: 1px solid gray;flex-grow: 1;}#sk-e2a732c7-1e87-4007-b74b-bc2b910378c1 div.sk-label:hover label.sk-toggleable__label {background-color: #d4ebff;}#sk-e2a732c7-1e87-4007-b74b-bc2b910378c1 div.sk-serial::before {content: \"\";position: absolute;border-left: 1px solid gray;box-sizing: border-box;top: 2em;bottom: 0;left: 50%;}#sk-e2a732c7-1e87-4007-b74b-bc2b910378c1 div.sk-serial {display: flex;flex-direction: column;align-items: center;background-color: white;padding-right: 0.2em;padding-left: 0.2em;}#sk-e2a732c7-1e87-4007-b74b-bc2b910378c1 div.sk-item {z-index: 1;}#sk-e2a732c7-1e87-4007-b74b-bc2b910378c1 div.sk-parallel {display: flex;align-items: stretch;justify-content: center;background-color: white;}#sk-e2a732c7-1e87-4007-b74b-bc2b910378c1 div.sk-parallel::before {content: \"\";position: absolute;border-left: 1px solid gray;box-sizing: border-box;top: 2em;bottom: 0;left: 50%;}#sk-e2a732c7-1e87-4007-b74b-bc2b910378c1 div.sk-parallel-item {display: flex;flex-direction: column;position: relative;background-color: white;}#sk-e2a732c7-1e87-4007-b74b-bc2b910378c1 div.sk-parallel-item:first-child::after {align-self: flex-end;width: 50%;}#sk-e2a732c7-1e87-4007-b74b-bc2b910378c1 div.sk-parallel-item:last-child::after {align-self: flex-start;width: 50%;}#sk-e2a732c7-1e87-4007-b74b-bc2b910378c1 div.sk-parallel-item:only-child::after {width: 0;}#sk-e2a732c7-1e87-4007-b74b-bc2b910378c1 div.sk-dashed-wrapped {border: 1px dashed gray;margin: 0 0.4em 0.5em 0.4em;box-sizing: border-box;padding-bottom: 0.4em;background-color: white;position: relative;}#sk-e2a732c7-1e87-4007-b74b-bc2b910378c1 div.sk-label label {font-family: monospace;font-weight: bold;background-color: white;display: inline-block;line-height: 1.2em;}#sk-e2a732c7-1e87-4007-b74b-bc2b910378c1 div.sk-label-container {position: relative;z-index: 2;text-align: center;}#sk-e2a732c7-1e87-4007-b74b-bc2b910378c1 div.sk-container {/* jupyter's `normalize.less` sets `[hidden] { display: none; }` but bootstrap.min.css set `[hidden] { display: none !important; }` so we also need the `!important` here to be able to override the default hidden behavior on the sphinx rendered scikit-learn.org. See: https://github.com/scikit-learn/scikit-learn/issues/21755 */display: inline-block !important;position: relative;}#sk-e2a732c7-1e87-4007-b74b-bc2b910378c1 div.sk-text-repr-fallback {display: none;}</style><div id=\"sk-e2a732c7-1e87-4007-b74b-bc2b910378c1\" class=\"sk-top-container\"><div class=\"sk-text-repr-fallback\"><pre>ColumnTransformer(transformers=[(&#x27;pipeline-1&#x27;,\n",
              "                                 Pipeline(steps=[(&#x27;simpleimputer&#x27;,\n",
              "                                                  SimpleImputer()),\n",
              "                                                 (&#x27;standardscaler&#x27;,\n",
              "                                                  StandardScaler())]),\n",
              "                                 &lt;sklearn.compose._column_transformer.make_column_selector object at 0x7f34e8e54dd0&gt;),\n",
              "                                (&#x27;pipeline-2&#x27;,\n",
              "                                 Pipeline(steps=[(&#x27;simpleimputer&#x27;,\n",
              "                                                  SimpleImputer(strategy=&#x27;most_frequent&#x27;)),\n",
              "                                                 (&#x27;onehotencoder&#x27;,\n",
              "                                                  OneHotEncoder(handle_unknown=&#x27;ignore&#x27;,\n",
              "                                                                sparse=False))]),\n",
              "                                 &lt;sklearn.compose._column_transformer.make_column_selector object at 0x7f34e8e54790&gt;)])</pre><b>Please rerun this cell to show the HTML repr or trust the notebook.</b></div><div class=\"sk-container\" hidden><div class=\"sk-item sk-dashed-wrapped\"><div class=\"sk-label-container\"><div class=\"sk-label sk-toggleable\"><input class=\"sk-toggleable__control sk-hidden--visually\" id=\"b537f389-5d87-4ddb-988a-905a7cce07e4\" type=\"checkbox\" ><label for=\"b537f389-5d87-4ddb-988a-905a7cce07e4\" class=\"sk-toggleable__label sk-toggleable__label-arrow\">ColumnTransformer</label><div class=\"sk-toggleable__content\"><pre>ColumnTransformer(transformers=[(&#x27;pipeline-1&#x27;,\n",
              "                                 Pipeline(steps=[(&#x27;simpleimputer&#x27;,\n",
              "                                                  SimpleImputer()),\n",
              "                                                 (&#x27;standardscaler&#x27;,\n",
              "                                                  StandardScaler())]),\n",
              "                                 &lt;sklearn.compose._column_transformer.make_column_selector object at 0x7f34e8e54dd0&gt;),\n",
              "                                (&#x27;pipeline-2&#x27;,\n",
              "                                 Pipeline(steps=[(&#x27;simpleimputer&#x27;,\n",
              "                                                  SimpleImputer(strategy=&#x27;most_frequent&#x27;)),\n",
              "                                                 (&#x27;onehotencoder&#x27;,\n",
              "                                                  OneHotEncoder(handle_unknown=&#x27;ignore&#x27;,\n",
              "                                                                sparse=False))]),\n",
              "                                 &lt;sklearn.compose._column_transformer.make_column_selector object at 0x7f34e8e54790&gt;)])</pre></div></div></div><div class=\"sk-parallel\"><div class=\"sk-parallel-item\"><div class=\"sk-item\"><div class=\"sk-label-container\"><div class=\"sk-label sk-toggleable\"><input class=\"sk-toggleable__control sk-hidden--visually\" id=\"4c7f2422-5ce2-4234-aa45-5d06b4c0b734\" type=\"checkbox\" ><label for=\"4c7f2422-5ce2-4234-aa45-5d06b4c0b734\" class=\"sk-toggleable__label sk-toggleable__label-arrow\">pipeline-1</label><div class=\"sk-toggleable__content\"><pre>&lt;sklearn.compose._column_transformer.make_column_selector object at 0x7f34e8e54dd0&gt;</pre></div></div></div><div class=\"sk-serial\"><div class=\"sk-item\"><div class=\"sk-serial\"><div class=\"sk-item\"><div class=\"sk-estimator sk-toggleable\"><input class=\"sk-toggleable__control sk-hidden--visually\" id=\"4ac34c3f-3040-4cab-b2de-2a13d3a3a39f\" type=\"checkbox\" ><label for=\"4ac34c3f-3040-4cab-b2de-2a13d3a3a39f\" class=\"sk-toggleable__label sk-toggleable__label-arrow\">SimpleImputer</label><div class=\"sk-toggleable__content\"><pre>SimpleImputer()</pre></div></div></div><div class=\"sk-item\"><div class=\"sk-estimator sk-toggleable\"><input class=\"sk-toggleable__control sk-hidden--visually\" id=\"d5d2b307-53fc-49e7-bb4d-4873767e5e49\" type=\"checkbox\" ><label for=\"d5d2b307-53fc-49e7-bb4d-4873767e5e49\" class=\"sk-toggleable__label sk-toggleable__label-arrow\">StandardScaler</label><div class=\"sk-toggleable__content\"><pre>StandardScaler()</pre></div></div></div></div></div></div></div></div><div class=\"sk-parallel-item\"><div class=\"sk-item\"><div class=\"sk-label-container\"><div class=\"sk-label sk-toggleable\"><input class=\"sk-toggleable__control sk-hidden--visually\" id=\"cab9c600-df0f-4d3e-98b8-a494980187c9\" type=\"checkbox\" ><label for=\"cab9c600-df0f-4d3e-98b8-a494980187c9\" class=\"sk-toggleable__label sk-toggleable__label-arrow\">pipeline-2</label><div class=\"sk-toggleable__content\"><pre>&lt;sklearn.compose._column_transformer.make_column_selector object at 0x7f34e8e54790&gt;</pre></div></div></div><div class=\"sk-serial\"><div class=\"sk-item\"><div class=\"sk-serial\"><div class=\"sk-item\"><div class=\"sk-estimator sk-toggleable\"><input class=\"sk-toggleable__control sk-hidden--visually\" id=\"b9952740-18d3-4816-a581-c5f5b95fa0b5\" type=\"checkbox\" ><label for=\"b9952740-18d3-4816-a581-c5f5b95fa0b5\" class=\"sk-toggleable__label sk-toggleable__label-arrow\">SimpleImputer</label><div class=\"sk-toggleable__content\"><pre>SimpleImputer(strategy=&#x27;most_frequent&#x27;)</pre></div></div></div><div class=\"sk-item\"><div class=\"sk-estimator sk-toggleable\"><input class=\"sk-toggleable__control sk-hidden--visually\" id=\"39810316-5137-477d-9dfb-29be8690f9dc\" type=\"checkbox\" ><label for=\"39810316-5137-477d-9dfb-29be8690f9dc\" class=\"sk-toggleable__label sk-toggleable__label-arrow\">OneHotEncoder</label><div class=\"sk-toggleable__content\"><pre>OneHotEncoder(handle_unknown=&#x27;ignore&#x27;, sparse=False)</pre></div></div></div></div></div></div></div></div></div></div></div></div>"
            ]
          },
          "metadata": {},
          "execution_count": 80
        }
      ]
    },
    {
      "cell_type": "markdown",
      "source": [
        "We can now fit the Training set into the preprocessor."
      ],
      "metadata": {
        "id": "PAqiLHBDqVRS"
      }
    },
    {
      "cell_type": "code",
      "source": [
        "# Fit the training data in the preprocessor\n",
        "preprocessor.fit(X_train, y_train)  "
      ],
      "metadata": {
        "id": "w67YcUdB9d9p",
        "colab": {
          "base_uri": "https://localhost:8080/",
          "height": 149
        },
        "outputId": "5bcc950c-55ff-4e55-ba12-701565bc8884"
      },
      "execution_count": 81,
      "outputs": [
        {
          "output_type": "execute_result",
          "data": {
            "text/plain": [
              "ColumnTransformer(transformers=[('pipeline-1',\n",
              "                                 Pipeline(steps=[('simpleimputer',\n",
              "                                                  SimpleImputer()),\n",
              "                                                 ('standardscaler',\n",
              "                                                  StandardScaler())]),\n",
              "                                 <sklearn.compose._column_transformer.make_column_selector object at 0x7f34e8e54dd0>),\n",
              "                                ('pipeline-2',\n",
              "                                 Pipeline(steps=[('simpleimputer',\n",
              "                                                  SimpleImputer(strategy='most_frequent')),\n",
              "                                                 ('onehotencoder',\n",
              "                                                  OneHotEncoder(handle_unknown='ignore',\n",
              "                                                                sparse=False))]),\n",
              "                                 <sklearn.compose._column_transformer.make_column_selector object at 0x7f34e8e54790>)])"
            ],
            "text/html": [
              "<style>#sk-46de14e5-a108-42be-9b39-f9c7b722e38f {color: black;background-color: white;}#sk-46de14e5-a108-42be-9b39-f9c7b722e38f pre{padding: 0;}#sk-46de14e5-a108-42be-9b39-f9c7b722e38f div.sk-toggleable {background-color: white;}#sk-46de14e5-a108-42be-9b39-f9c7b722e38f label.sk-toggleable__label {cursor: pointer;display: block;width: 100%;margin-bottom: 0;padding: 0.3em;box-sizing: border-box;text-align: center;}#sk-46de14e5-a108-42be-9b39-f9c7b722e38f label.sk-toggleable__label-arrow:before {content: \"▸\";float: left;margin-right: 0.25em;color: #696969;}#sk-46de14e5-a108-42be-9b39-f9c7b722e38f label.sk-toggleable__label-arrow:hover:before {color: black;}#sk-46de14e5-a108-42be-9b39-f9c7b722e38f div.sk-estimator:hover label.sk-toggleable__label-arrow:before {color: black;}#sk-46de14e5-a108-42be-9b39-f9c7b722e38f div.sk-toggleable__content {max-height: 0;max-width: 0;overflow: hidden;text-align: left;background-color: #f0f8ff;}#sk-46de14e5-a108-42be-9b39-f9c7b722e38f div.sk-toggleable__content pre {margin: 0.2em;color: black;border-radius: 0.25em;background-color: #f0f8ff;}#sk-46de14e5-a108-42be-9b39-f9c7b722e38f input.sk-toggleable__control:checked~div.sk-toggleable__content {max-height: 200px;max-width: 100%;overflow: auto;}#sk-46de14e5-a108-42be-9b39-f9c7b722e38f input.sk-toggleable__control:checked~label.sk-toggleable__label-arrow:before {content: \"▾\";}#sk-46de14e5-a108-42be-9b39-f9c7b722e38f div.sk-estimator input.sk-toggleable__control:checked~label.sk-toggleable__label {background-color: #d4ebff;}#sk-46de14e5-a108-42be-9b39-f9c7b722e38f div.sk-label input.sk-toggleable__control:checked~label.sk-toggleable__label {background-color: #d4ebff;}#sk-46de14e5-a108-42be-9b39-f9c7b722e38f input.sk-hidden--visually {border: 0;clip: rect(1px 1px 1px 1px);clip: rect(1px, 1px, 1px, 1px);height: 1px;margin: -1px;overflow: hidden;padding: 0;position: absolute;width: 1px;}#sk-46de14e5-a108-42be-9b39-f9c7b722e38f div.sk-estimator {font-family: monospace;background-color: #f0f8ff;border: 1px dotted black;border-radius: 0.25em;box-sizing: border-box;margin-bottom: 0.5em;}#sk-46de14e5-a108-42be-9b39-f9c7b722e38f div.sk-estimator:hover {background-color: #d4ebff;}#sk-46de14e5-a108-42be-9b39-f9c7b722e38f div.sk-parallel-item::after {content: \"\";width: 100%;border-bottom: 1px solid gray;flex-grow: 1;}#sk-46de14e5-a108-42be-9b39-f9c7b722e38f div.sk-label:hover label.sk-toggleable__label {background-color: #d4ebff;}#sk-46de14e5-a108-42be-9b39-f9c7b722e38f div.sk-serial::before {content: \"\";position: absolute;border-left: 1px solid gray;box-sizing: border-box;top: 2em;bottom: 0;left: 50%;}#sk-46de14e5-a108-42be-9b39-f9c7b722e38f div.sk-serial {display: flex;flex-direction: column;align-items: center;background-color: white;padding-right: 0.2em;padding-left: 0.2em;}#sk-46de14e5-a108-42be-9b39-f9c7b722e38f div.sk-item {z-index: 1;}#sk-46de14e5-a108-42be-9b39-f9c7b722e38f div.sk-parallel {display: flex;align-items: stretch;justify-content: center;background-color: white;}#sk-46de14e5-a108-42be-9b39-f9c7b722e38f div.sk-parallel::before {content: \"\";position: absolute;border-left: 1px solid gray;box-sizing: border-box;top: 2em;bottom: 0;left: 50%;}#sk-46de14e5-a108-42be-9b39-f9c7b722e38f div.sk-parallel-item {display: flex;flex-direction: column;position: relative;background-color: white;}#sk-46de14e5-a108-42be-9b39-f9c7b722e38f div.sk-parallel-item:first-child::after {align-self: flex-end;width: 50%;}#sk-46de14e5-a108-42be-9b39-f9c7b722e38f div.sk-parallel-item:last-child::after {align-self: flex-start;width: 50%;}#sk-46de14e5-a108-42be-9b39-f9c7b722e38f div.sk-parallel-item:only-child::after {width: 0;}#sk-46de14e5-a108-42be-9b39-f9c7b722e38f div.sk-dashed-wrapped {border: 1px dashed gray;margin: 0 0.4em 0.5em 0.4em;box-sizing: border-box;padding-bottom: 0.4em;background-color: white;position: relative;}#sk-46de14e5-a108-42be-9b39-f9c7b722e38f div.sk-label label {font-family: monospace;font-weight: bold;background-color: white;display: inline-block;line-height: 1.2em;}#sk-46de14e5-a108-42be-9b39-f9c7b722e38f div.sk-label-container {position: relative;z-index: 2;text-align: center;}#sk-46de14e5-a108-42be-9b39-f9c7b722e38f div.sk-container {/* jupyter's `normalize.less` sets `[hidden] { display: none; }` but bootstrap.min.css set `[hidden] { display: none !important; }` so we also need the `!important` here to be able to override the default hidden behavior on the sphinx rendered scikit-learn.org. See: https://github.com/scikit-learn/scikit-learn/issues/21755 */display: inline-block !important;position: relative;}#sk-46de14e5-a108-42be-9b39-f9c7b722e38f div.sk-text-repr-fallback {display: none;}</style><div id=\"sk-46de14e5-a108-42be-9b39-f9c7b722e38f\" class=\"sk-top-container\"><div class=\"sk-text-repr-fallback\"><pre>ColumnTransformer(transformers=[(&#x27;pipeline-1&#x27;,\n",
              "                                 Pipeline(steps=[(&#x27;simpleimputer&#x27;,\n",
              "                                                  SimpleImputer()),\n",
              "                                                 (&#x27;standardscaler&#x27;,\n",
              "                                                  StandardScaler())]),\n",
              "                                 &lt;sklearn.compose._column_transformer.make_column_selector object at 0x7f34e8e54dd0&gt;),\n",
              "                                (&#x27;pipeline-2&#x27;,\n",
              "                                 Pipeline(steps=[(&#x27;simpleimputer&#x27;,\n",
              "                                                  SimpleImputer(strategy=&#x27;most_frequent&#x27;)),\n",
              "                                                 (&#x27;onehotencoder&#x27;,\n",
              "                                                  OneHotEncoder(handle_unknown=&#x27;ignore&#x27;,\n",
              "                                                                sparse=False))]),\n",
              "                                 &lt;sklearn.compose._column_transformer.make_column_selector object at 0x7f34e8e54790&gt;)])</pre><b>Please rerun this cell to show the HTML repr or trust the notebook.</b></div><div class=\"sk-container\" hidden><div class=\"sk-item sk-dashed-wrapped\"><div class=\"sk-label-container\"><div class=\"sk-label sk-toggleable\"><input class=\"sk-toggleable__control sk-hidden--visually\" id=\"793e020d-1eba-4599-951f-8b7b14c954b2\" type=\"checkbox\" ><label for=\"793e020d-1eba-4599-951f-8b7b14c954b2\" class=\"sk-toggleable__label sk-toggleable__label-arrow\">ColumnTransformer</label><div class=\"sk-toggleable__content\"><pre>ColumnTransformer(transformers=[(&#x27;pipeline-1&#x27;,\n",
              "                                 Pipeline(steps=[(&#x27;simpleimputer&#x27;,\n",
              "                                                  SimpleImputer()),\n",
              "                                                 (&#x27;standardscaler&#x27;,\n",
              "                                                  StandardScaler())]),\n",
              "                                 &lt;sklearn.compose._column_transformer.make_column_selector object at 0x7f34e8e54dd0&gt;),\n",
              "                                (&#x27;pipeline-2&#x27;,\n",
              "                                 Pipeline(steps=[(&#x27;simpleimputer&#x27;,\n",
              "                                                  SimpleImputer(strategy=&#x27;most_frequent&#x27;)),\n",
              "                                                 (&#x27;onehotencoder&#x27;,\n",
              "                                                  OneHotEncoder(handle_unknown=&#x27;ignore&#x27;,\n",
              "                                                                sparse=False))]),\n",
              "                                 &lt;sklearn.compose._column_transformer.make_column_selector object at 0x7f34e8e54790&gt;)])</pre></div></div></div><div class=\"sk-parallel\"><div class=\"sk-parallel-item\"><div class=\"sk-item\"><div class=\"sk-label-container\"><div class=\"sk-label sk-toggleable\"><input class=\"sk-toggleable__control sk-hidden--visually\" id=\"30a165ee-c297-4269-a619-98310bfcda46\" type=\"checkbox\" ><label for=\"30a165ee-c297-4269-a619-98310bfcda46\" class=\"sk-toggleable__label sk-toggleable__label-arrow\">pipeline-1</label><div class=\"sk-toggleable__content\"><pre>&lt;sklearn.compose._column_transformer.make_column_selector object at 0x7f34e8e54dd0&gt;</pre></div></div></div><div class=\"sk-serial\"><div class=\"sk-item\"><div class=\"sk-serial\"><div class=\"sk-item\"><div class=\"sk-estimator sk-toggleable\"><input class=\"sk-toggleable__control sk-hidden--visually\" id=\"97a8316b-ea41-48ae-b7e2-70d084f645b8\" type=\"checkbox\" ><label for=\"97a8316b-ea41-48ae-b7e2-70d084f645b8\" class=\"sk-toggleable__label sk-toggleable__label-arrow\">SimpleImputer</label><div class=\"sk-toggleable__content\"><pre>SimpleImputer()</pre></div></div></div><div class=\"sk-item\"><div class=\"sk-estimator sk-toggleable\"><input class=\"sk-toggleable__control sk-hidden--visually\" id=\"8f99fb59-9797-4242-a9e7-b6d3a7ecb0d0\" type=\"checkbox\" ><label for=\"8f99fb59-9797-4242-a9e7-b6d3a7ecb0d0\" class=\"sk-toggleable__label sk-toggleable__label-arrow\">StandardScaler</label><div class=\"sk-toggleable__content\"><pre>StandardScaler()</pre></div></div></div></div></div></div></div></div><div class=\"sk-parallel-item\"><div class=\"sk-item\"><div class=\"sk-label-container\"><div class=\"sk-label sk-toggleable\"><input class=\"sk-toggleable__control sk-hidden--visually\" id=\"1147dab3-c70b-4861-bdfb-b3960811183e\" type=\"checkbox\" ><label for=\"1147dab3-c70b-4861-bdfb-b3960811183e\" class=\"sk-toggleable__label sk-toggleable__label-arrow\">pipeline-2</label><div class=\"sk-toggleable__content\"><pre>&lt;sklearn.compose._column_transformer.make_column_selector object at 0x7f34e8e54790&gt;</pre></div></div></div><div class=\"sk-serial\"><div class=\"sk-item\"><div class=\"sk-serial\"><div class=\"sk-item\"><div class=\"sk-estimator sk-toggleable\"><input class=\"sk-toggleable__control sk-hidden--visually\" id=\"a2c0a8fe-3671-4a72-9f68-e2921973a279\" type=\"checkbox\" ><label for=\"a2c0a8fe-3671-4a72-9f68-e2921973a279\" class=\"sk-toggleable__label sk-toggleable__label-arrow\">SimpleImputer</label><div class=\"sk-toggleable__content\"><pre>SimpleImputer(strategy=&#x27;most_frequent&#x27;)</pre></div></div></div><div class=\"sk-item\"><div class=\"sk-estimator sk-toggleable\"><input class=\"sk-toggleable__control sk-hidden--visually\" id=\"90de8041-30d1-44ca-9f3d-dd79765e4984\" type=\"checkbox\" ><label for=\"90de8041-30d1-44ca-9f3d-dd79765e4984\" class=\"sk-toggleable__label sk-toggleable__label-arrow\">OneHotEncoder</label><div class=\"sk-toggleable__content\"><pre>OneHotEncoder(handle_unknown=&#x27;ignore&#x27;, sparse=False)</pre></div></div></div></div></div></div></div></div></div></div></div></div>"
            ]
          },
          "metadata": {},
          "execution_count": 81
        }
      ]
    },
    {
      "cell_type": "markdown",
      "source": [
        "We can now transform part of this data to represent all imputed values, scale and one hot encode all values in the X_train and X_test sample. "
      ],
      "metadata": {
        "id": "gyLORHU0qnXB"
      }
    },
    {
      "cell_type": "code",
      "source": [
        "# Transforning Training and Testing Data\n",
        "X_train_processed = preprocessor.transform(X_train)\n",
        "X_test_processed = preprocessor.transform(X_test) "
      ],
      "metadata": {
        "id": "ywi2sX-x_cBj"
      },
      "execution_count": 82,
      "outputs": []
    },
    {
      "cell_type": "markdown",
      "source": [
        "# LINEAR REGRESSION"
      ],
      "metadata": {
        "id": "OGe610KvANJY"
      }
    },
    {
      "cell_type": "markdown",
      "source": [
        "Here below we create an empty linear regression model"
      ],
      "metadata": {
        "id": "S2lziXrerfNd"
      }
    },
    {
      "cell_type": "code",
      "source": [
        "# Creating an empty Linear Regression Model\n",
        "\n",
        "lin_reg = LinearRegression()\n"
      ],
      "metadata": {
        "id": "uIz_BKgNAKUY"
      },
      "execution_count": 83,
      "outputs": []
    },
    {
      "cell_type": "markdown",
      "source": [
        "We can now fit the Training Set into the Linear Regression Model"
      ],
      "metadata": {
        "id": "zC42gZT1roGz"
      }
    },
    {
      "cell_type": "code",
      "source": [
        "# Fit the linear Regression Model with the Processed X_train data and y_train data\n",
        "\n",
        "lin_reg.fit(X_train_processed, y_train)"
      ],
      "metadata": {
        "colab": {
          "base_uri": "https://localhost:8080/",
          "height": 74
        },
        "id": "tP-CcHPzBPS-",
        "outputId": "05e0018a-3a4f-4adf-9d5f-f0f8a73f25ec"
      },
      "execution_count": 84,
      "outputs": [
        {
          "output_type": "execute_result",
          "data": {
            "text/plain": [
              "LinearRegression()"
            ],
            "text/html": [
              "<style>#sk-a27e879a-2570-415a-bdcf-663803bc89fb {color: black;background-color: white;}#sk-a27e879a-2570-415a-bdcf-663803bc89fb pre{padding: 0;}#sk-a27e879a-2570-415a-bdcf-663803bc89fb div.sk-toggleable {background-color: white;}#sk-a27e879a-2570-415a-bdcf-663803bc89fb label.sk-toggleable__label {cursor: pointer;display: block;width: 100%;margin-bottom: 0;padding: 0.3em;box-sizing: border-box;text-align: center;}#sk-a27e879a-2570-415a-bdcf-663803bc89fb label.sk-toggleable__label-arrow:before {content: \"▸\";float: left;margin-right: 0.25em;color: #696969;}#sk-a27e879a-2570-415a-bdcf-663803bc89fb label.sk-toggleable__label-arrow:hover:before {color: black;}#sk-a27e879a-2570-415a-bdcf-663803bc89fb div.sk-estimator:hover label.sk-toggleable__label-arrow:before {color: black;}#sk-a27e879a-2570-415a-bdcf-663803bc89fb div.sk-toggleable__content {max-height: 0;max-width: 0;overflow: hidden;text-align: left;background-color: #f0f8ff;}#sk-a27e879a-2570-415a-bdcf-663803bc89fb div.sk-toggleable__content pre {margin: 0.2em;color: black;border-radius: 0.25em;background-color: #f0f8ff;}#sk-a27e879a-2570-415a-bdcf-663803bc89fb input.sk-toggleable__control:checked~div.sk-toggleable__content {max-height: 200px;max-width: 100%;overflow: auto;}#sk-a27e879a-2570-415a-bdcf-663803bc89fb input.sk-toggleable__control:checked~label.sk-toggleable__label-arrow:before {content: \"▾\";}#sk-a27e879a-2570-415a-bdcf-663803bc89fb div.sk-estimator input.sk-toggleable__control:checked~label.sk-toggleable__label {background-color: #d4ebff;}#sk-a27e879a-2570-415a-bdcf-663803bc89fb div.sk-label input.sk-toggleable__control:checked~label.sk-toggleable__label {background-color: #d4ebff;}#sk-a27e879a-2570-415a-bdcf-663803bc89fb input.sk-hidden--visually {border: 0;clip: rect(1px 1px 1px 1px);clip: rect(1px, 1px, 1px, 1px);height: 1px;margin: -1px;overflow: hidden;padding: 0;position: absolute;width: 1px;}#sk-a27e879a-2570-415a-bdcf-663803bc89fb div.sk-estimator {font-family: monospace;background-color: #f0f8ff;border: 1px dotted black;border-radius: 0.25em;box-sizing: border-box;margin-bottom: 0.5em;}#sk-a27e879a-2570-415a-bdcf-663803bc89fb div.sk-estimator:hover {background-color: #d4ebff;}#sk-a27e879a-2570-415a-bdcf-663803bc89fb div.sk-parallel-item::after {content: \"\";width: 100%;border-bottom: 1px solid gray;flex-grow: 1;}#sk-a27e879a-2570-415a-bdcf-663803bc89fb div.sk-label:hover label.sk-toggleable__label {background-color: #d4ebff;}#sk-a27e879a-2570-415a-bdcf-663803bc89fb div.sk-serial::before {content: \"\";position: absolute;border-left: 1px solid gray;box-sizing: border-box;top: 2em;bottom: 0;left: 50%;}#sk-a27e879a-2570-415a-bdcf-663803bc89fb div.sk-serial {display: flex;flex-direction: column;align-items: center;background-color: white;padding-right: 0.2em;padding-left: 0.2em;}#sk-a27e879a-2570-415a-bdcf-663803bc89fb div.sk-item {z-index: 1;}#sk-a27e879a-2570-415a-bdcf-663803bc89fb div.sk-parallel {display: flex;align-items: stretch;justify-content: center;background-color: white;}#sk-a27e879a-2570-415a-bdcf-663803bc89fb div.sk-parallel::before {content: \"\";position: absolute;border-left: 1px solid gray;box-sizing: border-box;top: 2em;bottom: 0;left: 50%;}#sk-a27e879a-2570-415a-bdcf-663803bc89fb div.sk-parallel-item {display: flex;flex-direction: column;position: relative;background-color: white;}#sk-a27e879a-2570-415a-bdcf-663803bc89fb div.sk-parallel-item:first-child::after {align-self: flex-end;width: 50%;}#sk-a27e879a-2570-415a-bdcf-663803bc89fb div.sk-parallel-item:last-child::after {align-self: flex-start;width: 50%;}#sk-a27e879a-2570-415a-bdcf-663803bc89fb div.sk-parallel-item:only-child::after {width: 0;}#sk-a27e879a-2570-415a-bdcf-663803bc89fb div.sk-dashed-wrapped {border: 1px dashed gray;margin: 0 0.4em 0.5em 0.4em;box-sizing: border-box;padding-bottom: 0.4em;background-color: white;position: relative;}#sk-a27e879a-2570-415a-bdcf-663803bc89fb div.sk-label label {font-family: monospace;font-weight: bold;background-color: white;display: inline-block;line-height: 1.2em;}#sk-a27e879a-2570-415a-bdcf-663803bc89fb div.sk-label-container {position: relative;z-index: 2;text-align: center;}#sk-a27e879a-2570-415a-bdcf-663803bc89fb div.sk-container {/* jupyter's `normalize.less` sets `[hidden] { display: none; }` but bootstrap.min.css set `[hidden] { display: none !important; }` so we also need the `!important` here to be able to override the default hidden behavior on the sphinx rendered scikit-learn.org. See: https://github.com/scikit-learn/scikit-learn/issues/21755 */display: inline-block !important;position: relative;}#sk-a27e879a-2570-415a-bdcf-663803bc89fb div.sk-text-repr-fallback {display: none;}</style><div id=\"sk-a27e879a-2570-415a-bdcf-663803bc89fb\" class=\"sk-top-container\"><div class=\"sk-text-repr-fallback\"><pre>LinearRegression()</pre><b>Please rerun this cell to show the HTML repr or trust the notebook.</b></div><div class=\"sk-container\" hidden><div class=\"sk-item\"><div class=\"sk-estimator sk-toggleable\"><input class=\"sk-toggleable__control sk-hidden--visually\" id=\"13958f1f-5186-4566-a810-135c4c32f5c5\" type=\"checkbox\" checked><label for=\"13958f1f-5186-4566-a810-135c4c32f5c5\" class=\"sk-toggleable__label sk-toggleable__label-arrow\">LinearRegression</label><div class=\"sk-toggleable__content\"><pre>LinearRegression()</pre></div></div></div></div></div>"
            ]
          },
          "metadata": {},
          "execution_count": 84
        }
      ]
    },
    {
      "cell_type": "markdown",
      "source": [
        "We can now create a prediction model using the Linear Regression Model"
      ],
      "metadata": {
        "id": "KMvu4wfFrxRa"
      }
    },
    {
      "cell_type": "code",
      "source": [
        "# Create a prediction model using Linear Regression\n",
        "\n",
        "train_pred_lin = lin_reg.predict(X_train_processed)\n",
        "test_pred_lin = lin_reg.predict(X_test_processed)"
      ],
      "metadata": {
        "id": "8ERn22-nB_Go"
      },
      "execution_count": 85,
      "outputs": []
    },
    {
      "cell_type": "markdown",
      "source": [
        "# EVALUATION OF LINEAR REGRESSION"
      ],
      "metadata": {
        "id": "JNhpDuPWSFTI"
      }
    },
    {
      "cell_type": "markdown",
      "source": [
        "R2 SCORE"
      ],
      "metadata": {
        "id": "Gm4HI76TEUvc"
      }
    },
    {
      "cell_type": "code",
      "source": [
        "# Obtain the R2 scores \n",
        "\n",
        "lin_train_r2 = r2_score(y_train, train_pred_lin)\n",
        "lin_test_r2 =  r2_score(y_test, test_pred_lin)\n",
        "\n",
        "print('Linear Regression Training R2 Score:', lin_train_r2)\n",
        "print('Linear Regression Testing R2 Score:', lin_test_r2)"
      ],
      "metadata": {
        "colab": {
          "base_uri": "https://localhost:8080/"
        },
        "id": "axRSWlWfCvzn",
        "outputId": "4cc87b04-c256-4f54-969f-71c828a37e7e"
      },
      "execution_count": 86,
      "outputs": [
        {
          "output_type": "stream",
          "name": "stdout",
          "text": [
            "Linear Regression Training R2 Score: 0.5605641946335693\n",
            "Linear Regression Testing R2 Score: 0.5658139226347666\n"
          ]
        }
      ]
    },
    {
      "cell_type": "markdown",
      "source": [
        "The R2 score indicates that this model is underfit as the R2 Scores of both the training and testing data are too low. This indicates a high bias. It also shows us that the model performs slightly better on the testing data than the training data."
      ],
      "metadata": {
        "id": "UNb3Dv2xt5zU"
      }
    },
    {
      "cell_type": "markdown",
      "source": [
        "MSE"
      ],
      "metadata": {
        "id": "28Dqf2yPEnCW"
      }
    },
    {
      "cell_type": "code",
      "source": [
        "# Obtain the Mean Square Error\n",
        "\n",
        "lin_train_mse = mean_squared_error(y_train, train_pred_lin)\n",
        "lin_test_mse = mean_squared_error(y_test, test_pred_lin)\n",
        "\n",
        "print('Linear Regression Training Mean Square Error:', lin_train_mse)\n",
        "print('Linear Regression Testing Mean Square Error:', lin_test_mse)"
      ],
      "metadata": {
        "colab": {
          "base_uri": "https://localhost:8080/"
        },
        "id": "h1wYLes3E2OP",
        "outputId": "ca5d58de-f775-40f7-dd9a-356148769f8d"
      },
      "execution_count": 87,
      "outputs": [
        {
          "output_type": "stream",
          "name": "stdout",
          "text": [
            "Linear Regression Training Mean Square Error: 1300490.8009649059\n",
            "Linear Regression Testing Mean Square Error: 1197909.526132542\n"
          ]
        }
      ]
    },
    {
      "cell_type": "markdown",
      "source": [
        "The MSE indicates that some of the errors in are huge which is a result of the actual sales price being significantly different than the predicted sales price"
      ],
      "metadata": {
        "id": "EKG8tSHJt_GM"
      }
    },
    {
      "cell_type": "markdown",
      "source": [
        "RMSE"
      ],
      "metadata": {
        "id": "X-sT6C_YEqIS"
      }
    },
    {
      "cell_type": "code",
      "source": [
        "# Obtain the Root Mean Square Error\n",
        "lin_train_rmse = np.sqrt(lin_train_mse)\n",
        "lin_test_rmse = np.sqrt(lin_test_mse)\n",
        "\n",
        "\n",
        "print('Linear Regression Training Root Mean Squared Error:', lin_train_rmse)\n",
        "print('Linear Regression Testing Root Mean Squared Error:', lin_test_rmse)"
      ],
      "metadata": {
        "colab": {
          "base_uri": "https://localhost:8080/"
        },
        "id": "uU4-l8vjE24R",
        "outputId": "52d8afff-80a6-4c57-c63f-c521895ca3a0"
      },
      "execution_count": 88,
      "outputs": [
        {
          "output_type": "stream",
          "name": "stdout",
          "text": [
            "Linear Regression Training Root Mean Squared Error: 1140.3906352495649\n",
            "Linear Regression Testing Root Mean Squared Error: 1094.49053268292\n"
          ]
        }
      ]
    },
    {
      "cell_type": "markdown",
      "source": [
        "The RMSE indicates on average what the discrepancy is between the predicted sales vs actual sales for the bigger errors. We can notice that the dicrepancy is $1094 on the testing data."
      ],
      "metadata": {
        "id": "HOp4Ct5cuDFG"
      }
    },
    {
      "cell_type": "markdown",
      "source": [
        "# REGRESSION TREE"
      ],
      "metadata": {
        "id": "susTYIqHAZ1S"
      }
    },
    {
      "cell_type": "markdown",
      "source": [
        "Here below we create a loop to determine the depth through which our Decision Tree Model will perform the best. It will look through a range of depths from 1 through 38 and store the R2 scores in a Dataframe  in a descending order."
      ],
      "metadata": {
        "id": "3pHSPMzasGCH"
      }
    },
    {
      "cell_type": "code",
      "source": [
        "# CREATE A RANGE OF max_depth values\n",
        "depths = range(1,38)\n",
        "\n",
        "# CREATE A DATAFRAME TO STORE TEAIN AND TEST SCORES\n",
        "scores = pd.DataFrame(columns= ['Train', 'Test'], index = depths)\n",
        "\n",
        "#  LOOP OVER THE VALUES IN THE DEPTH RANGE\n",
        "for depth in depths:\n",
        "\n",
        "  # FIT THE NEW MODEL WITH THE DEPTH\n",
        "  dec = DecisionTreeRegressor(max_depth=depth)\n",
        "\n",
        "  # FIT THE MODEL\n",
        "  dec.fit(X_train_processed, y_train)\n",
        "\n",
        "  # CREATE A PREDICTION ARRAY\n",
        "  train_pred = dec.predict(X_train_processed)\n",
        "  test_pred = dec.predict(X_test_processed)\n",
        "\n",
        "  # EVALUATE THE MODEL USING R2 SCORE\n",
        "  train_r2 = r2_score(y_train, train_pred)\n",
        "  test_r2 = r2_score(y_test, test_pred)\n",
        "\n",
        "  # STORE THE SCORES IN A DATAFRAME\n",
        "  scores.loc[depth, 'Train'] = train_r2\n",
        "  scores.loc[depth, 'Test'] = test_r2\n",
        "  \n",
        "# GET THE BEST SCORES IN ORDER\n",
        "best_depth = scores.sort_values(by= 'Test', ascending= False).index[0]"
      ],
      "metadata": {
        "id": "lszL9bPuPuQ1"
      },
      "execution_count": 89,
      "outputs": []
    },
    {
      "cell_type": "markdown",
      "source": [
        "The depth with the best R2 Scores is applied to max_depth in the empty decision tree."
      ],
      "metadata": {
        "id": "-9oHwiGytJNs"
      }
    },
    {
      "cell_type": "code",
      "source": [
        "# Creating an empty Decision Tree Model \n",
        " \n",
        "dec_tree = DecisionTreeRegressor(random_state= 42, max_depth= best_depth)"
      ],
      "metadata": {
        "id": "RASVckq4IJfD"
      },
      "execution_count": 90,
      "outputs": []
    },
    {
      "cell_type": "markdown",
      "source": [
        "The training set is for into the Decision Tree"
      ],
      "metadata": {
        "id": "EG_mklY1tewS"
      }
    },
    {
      "cell_type": "code",
      "source": [
        "# Fit the Training Set into the Decision Tree\n",
        "\n",
        "dec_tree.fit(X_train_processed, y_train) "
      ],
      "metadata": {
        "colab": {
          "base_uri": "https://localhost:8080/",
          "height": 74
        },
        "id": "Bixfhl80I-xc",
        "outputId": "f29b0b64-0b19-406f-f24d-54c3a3c967e0"
      },
      "execution_count": 91,
      "outputs": [
        {
          "output_type": "execute_result",
          "data": {
            "text/plain": [
              "DecisionTreeRegressor(max_depth=5, random_state=42)"
            ],
            "text/html": [
              "<style>#sk-5a5c6955-6540-4d4f-bac7-b21ce4d43a14 {color: black;background-color: white;}#sk-5a5c6955-6540-4d4f-bac7-b21ce4d43a14 pre{padding: 0;}#sk-5a5c6955-6540-4d4f-bac7-b21ce4d43a14 div.sk-toggleable {background-color: white;}#sk-5a5c6955-6540-4d4f-bac7-b21ce4d43a14 label.sk-toggleable__label {cursor: pointer;display: block;width: 100%;margin-bottom: 0;padding: 0.3em;box-sizing: border-box;text-align: center;}#sk-5a5c6955-6540-4d4f-bac7-b21ce4d43a14 label.sk-toggleable__label-arrow:before {content: \"▸\";float: left;margin-right: 0.25em;color: #696969;}#sk-5a5c6955-6540-4d4f-bac7-b21ce4d43a14 label.sk-toggleable__label-arrow:hover:before {color: black;}#sk-5a5c6955-6540-4d4f-bac7-b21ce4d43a14 div.sk-estimator:hover label.sk-toggleable__label-arrow:before {color: black;}#sk-5a5c6955-6540-4d4f-bac7-b21ce4d43a14 div.sk-toggleable__content {max-height: 0;max-width: 0;overflow: hidden;text-align: left;background-color: #f0f8ff;}#sk-5a5c6955-6540-4d4f-bac7-b21ce4d43a14 div.sk-toggleable__content pre {margin: 0.2em;color: black;border-radius: 0.25em;background-color: #f0f8ff;}#sk-5a5c6955-6540-4d4f-bac7-b21ce4d43a14 input.sk-toggleable__control:checked~div.sk-toggleable__content {max-height: 200px;max-width: 100%;overflow: auto;}#sk-5a5c6955-6540-4d4f-bac7-b21ce4d43a14 input.sk-toggleable__control:checked~label.sk-toggleable__label-arrow:before {content: \"▾\";}#sk-5a5c6955-6540-4d4f-bac7-b21ce4d43a14 div.sk-estimator input.sk-toggleable__control:checked~label.sk-toggleable__label {background-color: #d4ebff;}#sk-5a5c6955-6540-4d4f-bac7-b21ce4d43a14 div.sk-label input.sk-toggleable__control:checked~label.sk-toggleable__label {background-color: #d4ebff;}#sk-5a5c6955-6540-4d4f-bac7-b21ce4d43a14 input.sk-hidden--visually {border: 0;clip: rect(1px 1px 1px 1px);clip: rect(1px, 1px, 1px, 1px);height: 1px;margin: -1px;overflow: hidden;padding: 0;position: absolute;width: 1px;}#sk-5a5c6955-6540-4d4f-bac7-b21ce4d43a14 div.sk-estimator {font-family: monospace;background-color: #f0f8ff;border: 1px dotted black;border-radius: 0.25em;box-sizing: border-box;margin-bottom: 0.5em;}#sk-5a5c6955-6540-4d4f-bac7-b21ce4d43a14 div.sk-estimator:hover {background-color: #d4ebff;}#sk-5a5c6955-6540-4d4f-bac7-b21ce4d43a14 div.sk-parallel-item::after {content: \"\";width: 100%;border-bottom: 1px solid gray;flex-grow: 1;}#sk-5a5c6955-6540-4d4f-bac7-b21ce4d43a14 div.sk-label:hover label.sk-toggleable__label {background-color: #d4ebff;}#sk-5a5c6955-6540-4d4f-bac7-b21ce4d43a14 div.sk-serial::before {content: \"\";position: absolute;border-left: 1px solid gray;box-sizing: border-box;top: 2em;bottom: 0;left: 50%;}#sk-5a5c6955-6540-4d4f-bac7-b21ce4d43a14 div.sk-serial {display: flex;flex-direction: column;align-items: center;background-color: white;padding-right: 0.2em;padding-left: 0.2em;}#sk-5a5c6955-6540-4d4f-bac7-b21ce4d43a14 div.sk-item {z-index: 1;}#sk-5a5c6955-6540-4d4f-bac7-b21ce4d43a14 div.sk-parallel {display: flex;align-items: stretch;justify-content: center;background-color: white;}#sk-5a5c6955-6540-4d4f-bac7-b21ce4d43a14 div.sk-parallel::before {content: \"\";position: absolute;border-left: 1px solid gray;box-sizing: border-box;top: 2em;bottom: 0;left: 50%;}#sk-5a5c6955-6540-4d4f-bac7-b21ce4d43a14 div.sk-parallel-item {display: flex;flex-direction: column;position: relative;background-color: white;}#sk-5a5c6955-6540-4d4f-bac7-b21ce4d43a14 div.sk-parallel-item:first-child::after {align-self: flex-end;width: 50%;}#sk-5a5c6955-6540-4d4f-bac7-b21ce4d43a14 div.sk-parallel-item:last-child::after {align-self: flex-start;width: 50%;}#sk-5a5c6955-6540-4d4f-bac7-b21ce4d43a14 div.sk-parallel-item:only-child::after {width: 0;}#sk-5a5c6955-6540-4d4f-bac7-b21ce4d43a14 div.sk-dashed-wrapped {border: 1px dashed gray;margin: 0 0.4em 0.5em 0.4em;box-sizing: border-box;padding-bottom: 0.4em;background-color: white;position: relative;}#sk-5a5c6955-6540-4d4f-bac7-b21ce4d43a14 div.sk-label label {font-family: monospace;font-weight: bold;background-color: white;display: inline-block;line-height: 1.2em;}#sk-5a5c6955-6540-4d4f-bac7-b21ce4d43a14 div.sk-label-container {position: relative;z-index: 2;text-align: center;}#sk-5a5c6955-6540-4d4f-bac7-b21ce4d43a14 div.sk-container {/* jupyter's `normalize.less` sets `[hidden] { display: none; }` but bootstrap.min.css set `[hidden] { display: none !important; }` so we also need the `!important` here to be able to override the default hidden behavior on the sphinx rendered scikit-learn.org. See: https://github.com/scikit-learn/scikit-learn/issues/21755 */display: inline-block !important;position: relative;}#sk-5a5c6955-6540-4d4f-bac7-b21ce4d43a14 div.sk-text-repr-fallback {display: none;}</style><div id=\"sk-5a5c6955-6540-4d4f-bac7-b21ce4d43a14\" class=\"sk-top-container\"><div class=\"sk-text-repr-fallback\"><pre>DecisionTreeRegressor(max_depth=5, random_state=42)</pre><b>Please rerun this cell to show the HTML repr or trust the notebook.</b></div><div class=\"sk-container\" hidden><div class=\"sk-item\"><div class=\"sk-estimator sk-toggleable\"><input class=\"sk-toggleable__control sk-hidden--visually\" id=\"e92e4025-e81d-4252-b9d1-5ff040438f98\" type=\"checkbox\" checked><label for=\"e92e4025-e81d-4252-b9d1-5ff040438f98\" class=\"sk-toggleable__label sk-toggleable__label-arrow\">DecisionTreeRegressor</label><div class=\"sk-toggleable__content\"><pre>DecisionTreeRegressor(max_depth=5, random_state=42)</pre></div></div></div></div></div>"
            ]
          },
          "metadata": {},
          "execution_count": 91
        }
      ]
    },
    {
      "cell_type": "markdown",
      "source": [
        "A prediction model is created with the decision tree."
      ],
      "metadata": {
        "id": "05_znOCutqDE"
      }
    },
    {
      "cell_type": "code",
      "source": [
        "# Create a Prediction Model for the Decision Tree\n",
        "\n",
        "train_pred_dec = dec_tree.predict(X_train_processed) \n",
        "test_pred_dec = dec_tree.predict(X_test_processed)"
      ],
      "metadata": {
        "id": "xDkXXmS3JR0R"
      },
      "execution_count": 92,
      "outputs": []
    },
    {
      "cell_type": "markdown",
      "source": [
        "# EVALUATION OF REGRESSION TREE"
      ],
      "metadata": {
        "id": "Dt-DwnMeR7OQ"
      }
    },
    {
      "cell_type": "markdown",
      "source": [
        "R2 SCORE"
      ],
      "metadata": {
        "id": "_56gd3ceKbQ9"
      }
    },
    {
      "cell_type": "code",
      "source": [
        "# Obtain the R2 Score\n",
        "\n",
        "\n",
        "dec_train_r2 = r2_score(y_train, train_pred_dec)\n",
        "dec_test_r2 =  r2_score(y_test, test_pred_dec)\n",
        "\n",
        "print('Regression Tree Training R2 Score:', dec_train_r2)\n",
        "print('Regression Tree Testing R2 Score:', dec_test_r2)"
      ],
      "metadata": {
        "colab": {
          "base_uri": "https://localhost:8080/"
        },
        "id": "RED340bqKX_N",
        "outputId": "adf45b5e-acf5-42df-9768-0a2a9f354875"
      },
      "execution_count": 93,
      "outputs": [
        {
          "output_type": "stream",
          "name": "stdout",
          "text": [
            "Regression Tree Training R2 Score: 0.6039397477322956\n",
            "Regression Tree Testing R2 Score: 0.5947099753159972\n"
          ]
        }
      ]
    },
    {
      "cell_type": "markdown",
      "source": [
        "The R2 Score indicates an improvement over the linear regression model. The data is still bias as the R2 Score is still relatively low. This model underfits the dataset as well."
      ],
      "metadata": {
        "id": "MbBKaxfuuIpJ"
      }
    },
    {
      "cell_type": "markdown",
      "source": [
        "MSE"
      ],
      "metadata": {
        "id": "c73nkw2VKcJj"
      }
    },
    {
      "cell_type": "code",
      "source": [
        "# Obtain the Mean Squared Error\n",
        "\n",
        "\n",
        "dec_train_mse = mean_squared_error(y_train, train_pred_dec)\n",
        "dec_test_mse = mean_squared_error(y_test, test_pred_dec)\n",
        "\n",
        "print('Regression Tree Training Mean Square Error:', dec_train_mse)\n",
        "print('Regression Tree Testing Mean Square Error:', dec_test_mse)"
      ],
      "metadata": {
        "colab": {
          "base_uri": "https://localhost:8080/"
        },
        "id": "UjXHxLAFKc8z",
        "outputId": "a87a0383-95e2-4d9e-e87c-5eb27ac6cfa7"
      },
      "execution_count": 94,
      "outputs": [
        {
          "output_type": "stream",
          "name": "stdout",
          "text": [
            "Regression Tree Training Mean Square Error: 1172122.7729098853\n",
            "Regression Tree Testing Mean Square Error: 1118185.973077762\n"
          ]
        }
      ]
    },
    {
      "cell_type": "markdown",
      "source": [
        "The MSE indicates some of the bigger errors have slightly reduced compared to the Linear Regression Model."
      ],
      "metadata": {
        "id": "iUIzVDtyuL3T"
      }
    },
    {
      "cell_type": "markdown",
      "source": [
        "RMSE"
      ],
      "metadata": {
        "id": "eKxuWlSlKdos"
      }
    },
    {
      "cell_type": "code",
      "source": [
        "# Obtain the Root Mean Squared Error\n",
        "\n",
        "\n",
        "dec_train_rmse = np.sqrt(dec_train_mse)\n",
        "dec_test_rmse = np.sqrt(dec_test_mse)\n",
        "\n",
        "\n",
        "print('Regression Tree Training Root Mean Squared Error:', dec_train_rmse)\n",
        "print('Regression Tree Testing Root Mean Squared Error:', dec_test_rmse)"
      ],
      "metadata": {
        "colab": {
          "base_uri": "https://localhost:8080/"
        },
        "id": "5TXU2ym7KeoI",
        "outputId": "0e0086e6-a304-44b8-e554-30458d1340f8"
      },
      "execution_count": 95,
      "outputs": [
        {
          "output_type": "stream",
          "name": "stdout",
          "text": [
            "Regression Tree Training Root Mean Squared Error: 1082.6461900869947\n",
            "Regression Tree Testing Root Mean Squared Error: 1057.4431299496734\n"
          ]
        }
      ]
    },
    {
      "cell_type": "markdown",
      "source": [
        "The RMSE indicates that the discrepancy between the predicted sales and actual sales dropped for the bigger errors in comparison to the Linear Regression Model. The new discrepancy is on average $1057 for large errora as compared to 1094 usd. for the Linear Regression Model."
      ],
      "metadata": {
        "id": "Kg7gPtsquQQ9"
      }
    },
    {
      "cell_type": "markdown",
      "source": [
        "# MODEL CHOICE"
      ],
      "metadata": {
        "id": "z_x-yNx9STcF"
      }
    },
    {
      "cell_type": "markdown",
      "source": [
        "Both these models underfit the data, this could either be because there isnt enough data or there is very little correlation in the data to the target. To address this, we can either add for data or add new features to the data. In the case of this dataset it seems to underfit because there is very little correlation between the features and the target. Therefore additional features may be required to better fit both the models.\n",
        "\n",
        "Out of the two models presented above, I would recommend the Regression Tree Model as it performed slightly better than the Linear Regression Model."
      ],
      "metadata": {
        "id": "mhDvJFSUzYZi"
      }
    }
  ]
}