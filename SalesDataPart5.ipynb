{
  "nbformat": 4,
  "nbformat_minor": 0,
  "metadata": {
    "colab": {
      "name": "SalesDataPart5.ipynb",
      "provenance": [],
      "collapsed_sections": [],
      "mount_file_id": "1PUjCwaHi8oyKJyi4w3gzQ8LDdjlz3aFZ",
      "authorship_tag": "ABX9TyOyi6Aa6WXYzr4WWg9pHKsM",
      "include_colab_link": true
    },
    "kernelspec": {
      "name": "python3",
      "display_name": "Python 3"
    },
    "language_info": {
      "name": "python"
    }
  },
  "cells": [
    {
      "cell_type": "markdown",
      "metadata": {
        "id": "view-in-github",
        "colab_type": "text"
      },
      "source": [
        "<a href=\"https://colab.research.google.com/github/kritp144/Sales-Prediction/blob/main/SalesDataPart5.ipynb\" target=\"_parent\"><img src=\"https://colab.research.google.com/assets/colab-badge.svg\" alt=\"Open In Colab\"/></a>"
      ]
    },
    {
      "cell_type": "markdown",
      "source": [
        "## SALES PREDICTION PROJECT\n",
        "# KRIT PATEL\n",
        "# 05/18/2022"
      ],
      "metadata": {
        "id": "AFq90s3xoYK8"
      }
    },
    {
      "cell_type": "markdown",
      "source": [
        "# THE OBJECTIVE OF THIS PART OF THE PROJECT IS TO CREATE A PRE PROCESSING PIPELINE TO PREPARE THE DATASET FOR MACHINE LEARNING."
      ],
      "metadata": {
        "id": "gBdvq7GhoXMH"
      }
    },
    {
      "cell_type": "markdown",
      "source": [
        "IN ORDER TO DO SO, WE MUST FIRST IMPORT ALL RELEVANT LIBRARIES"
      ],
      "metadata": {
        "id": "X5n_ZTeap_Ju"
      }
    },
    {
      "cell_type": "code",
      "execution_count": 86,
      "metadata": {
        "id": "IuEKWcE8oEP2"
      },
      "outputs": [],
      "source": [
        "import pandas as pd\n",
        "import numpy as np\n",
        "from sklearn.preprocessing import StandardScaler, OneHotEncoder\n",
        "from sklearn.impute import SimpleImputer\n",
        "from sklearn.compose import make_column_selector, make_column_transformer\n",
        "from sklearn.pipeline import make_pipeline\n",
        "from sklearn.model_selection import train_test_split\n",
        "from sklearn import set_config\n",
        "\n",
        "# This shows the pipeline diagram\n",
        "set_config(display= 'diagram')"
      ]
    },
    {
      "cell_type": "markdown",
      "source": [
        "IMPORTING AND LOADING THE DATA"
      ],
      "metadata": {
        "id": "qNISvxmxqVa4"
      }
    },
    {
      "cell_type": "code",
      "source": [
        "# Defining the pathway\n",
        "sales_path = '/content/drive/MyDrive/DATA SCIENCE/CODES/project 1/sales_predictions.csv'\n",
        "\n",
        "# Defining the DatatFlow and Reading the Data\n",
        "sales_df = pd.read_csv(sales_path)\n",
        "sales_df.head()"
      ],
      "metadata": {
        "colab": {
          "base_uri": "https://localhost:8080/",
          "height": 353
        },
        "id": "E6IUduhQqn2H",
        "outputId": "5ec0806e-5308-4f30-a912-a25e95ef0c56"
      },
      "execution_count": 87,
      "outputs": [
        {
          "output_type": "execute_result",
          "data": {
            "text/plain": [
              "  Item_Identifier  Item_Weight Item_Fat_Content  Item_Visibility  \\\n",
              "0           FDA15         9.30          Low Fat         0.016047   \n",
              "1           DRC01         5.92          Regular         0.019278   \n",
              "2           FDN15        17.50          Low Fat         0.016760   \n",
              "3           FDX07        19.20          Regular         0.000000   \n",
              "4           NCD19         8.93          Low Fat         0.000000   \n",
              "\n",
              "               Item_Type  Item_MRP Outlet_Identifier  \\\n",
              "0                  Dairy  249.8092            OUT049   \n",
              "1            Soft Drinks   48.2692            OUT018   \n",
              "2                   Meat  141.6180            OUT049   \n",
              "3  Fruits and Vegetables  182.0950            OUT010   \n",
              "4              Household   53.8614            OUT013   \n",
              "\n",
              "   Outlet_Establishment_Year Outlet_Size Outlet_Location_Type  \\\n",
              "0                       1999      Medium               Tier 1   \n",
              "1                       2009      Medium               Tier 3   \n",
              "2                       1999      Medium               Tier 1   \n",
              "3                       1998         NaN               Tier 3   \n",
              "4                       1987        High               Tier 3   \n",
              "\n",
              "         Outlet_Type  Item_Outlet_Sales  \n",
              "0  Supermarket Type1          3735.1380  \n",
              "1  Supermarket Type2           443.4228  \n",
              "2  Supermarket Type1          2097.2700  \n",
              "3      Grocery Store           732.3800  \n",
              "4  Supermarket Type1           994.7052  "
            ],
            "text/html": [
              "\n",
              "  <div id=\"df-26d3c458-e0f8-4351-b4a7-e8b1182d1723\">\n",
              "    <div class=\"colab-df-container\">\n",
              "      <div>\n",
              "<style scoped>\n",
              "    .dataframe tbody tr th:only-of-type {\n",
              "        vertical-align: middle;\n",
              "    }\n",
              "\n",
              "    .dataframe tbody tr th {\n",
              "        vertical-align: top;\n",
              "    }\n",
              "\n",
              "    .dataframe thead th {\n",
              "        text-align: right;\n",
              "    }\n",
              "</style>\n",
              "<table border=\"1\" class=\"dataframe\">\n",
              "  <thead>\n",
              "    <tr style=\"text-align: right;\">\n",
              "      <th></th>\n",
              "      <th>Item_Identifier</th>\n",
              "      <th>Item_Weight</th>\n",
              "      <th>Item_Fat_Content</th>\n",
              "      <th>Item_Visibility</th>\n",
              "      <th>Item_Type</th>\n",
              "      <th>Item_MRP</th>\n",
              "      <th>Outlet_Identifier</th>\n",
              "      <th>Outlet_Establishment_Year</th>\n",
              "      <th>Outlet_Size</th>\n",
              "      <th>Outlet_Location_Type</th>\n",
              "      <th>Outlet_Type</th>\n",
              "      <th>Item_Outlet_Sales</th>\n",
              "    </tr>\n",
              "  </thead>\n",
              "  <tbody>\n",
              "    <tr>\n",
              "      <th>0</th>\n",
              "      <td>FDA15</td>\n",
              "      <td>9.30</td>\n",
              "      <td>Low Fat</td>\n",
              "      <td>0.016047</td>\n",
              "      <td>Dairy</td>\n",
              "      <td>249.8092</td>\n",
              "      <td>OUT049</td>\n",
              "      <td>1999</td>\n",
              "      <td>Medium</td>\n",
              "      <td>Tier 1</td>\n",
              "      <td>Supermarket Type1</td>\n",
              "      <td>3735.1380</td>\n",
              "    </tr>\n",
              "    <tr>\n",
              "      <th>1</th>\n",
              "      <td>DRC01</td>\n",
              "      <td>5.92</td>\n",
              "      <td>Regular</td>\n",
              "      <td>0.019278</td>\n",
              "      <td>Soft Drinks</td>\n",
              "      <td>48.2692</td>\n",
              "      <td>OUT018</td>\n",
              "      <td>2009</td>\n",
              "      <td>Medium</td>\n",
              "      <td>Tier 3</td>\n",
              "      <td>Supermarket Type2</td>\n",
              "      <td>443.4228</td>\n",
              "    </tr>\n",
              "    <tr>\n",
              "      <th>2</th>\n",
              "      <td>FDN15</td>\n",
              "      <td>17.50</td>\n",
              "      <td>Low Fat</td>\n",
              "      <td>0.016760</td>\n",
              "      <td>Meat</td>\n",
              "      <td>141.6180</td>\n",
              "      <td>OUT049</td>\n",
              "      <td>1999</td>\n",
              "      <td>Medium</td>\n",
              "      <td>Tier 1</td>\n",
              "      <td>Supermarket Type1</td>\n",
              "      <td>2097.2700</td>\n",
              "    </tr>\n",
              "    <tr>\n",
              "      <th>3</th>\n",
              "      <td>FDX07</td>\n",
              "      <td>19.20</td>\n",
              "      <td>Regular</td>\n",
              "      <td>0.000000</td>\n",
              "      <td>Fruits and Vegetables</td>\n",
              "      <td>182.0950</td>\n",
              "      <td>OUT010</td>\n",
              "      <td>1998</td>\n",
              "      <td>NaN</td>\n",
              "      <td>Tier 3</td>\n",
              "      <td>Grocery Store</td>\n",
              "      <td>732.3800</td>\n",
              "    </tr>\n",
              "    <tr>\n",
              "      <th>4</th>\n",
              "      <td>NCD19</td>\n",
              "      <td>8.93</td>\n",
              "      <td>Low Fat</td>\n",
              "      <td>0.000000</td>\n",
              "      <td>Household</td>\n",
              "      <td>53.8614</td>\n",
              "      <td>OUT013</td>\n",
              "      <td>1987</td>\n",
              "      <td>High</td>\n",
              "      <td>Tier 3</td>\n",
              "      <td>Supermarket Type1</td>\n",
              "      <td>994.7052</td>\n",
              "    </tr>\n",
              "  </tbody>\n",
              "</table>\n",
              "</div>\n",
              "      <button class=\"colab-df-convert\" onclick=\"convertToInteractive('df-26d3c458-e0f8-4351-b4a7-e8b1182d1723')\"\n",
              "              title=\"Convert this dataframe to an interactive table.\"\n",
              "              style=\"display:none;\">\n",
              "        \n",
              "  <svg xmlns=\"http://www.w3.org/2000/svg\" height=\"24px\"viewBox=\"0 0 24 24\"\n",
              "       width=\"24px\">\n",
              "    <path d=\"M0 0h24v24H0V0z\" fill=\"none\"/>\n",
              "    <path d=\"M18.56 5.44l.94 2.06.94-2.06 2.06-.94-2.06-.94-.94-2.06-.94 2.06-2.06.94zm-11 1L8.5 8.5l.94-2.06 2.06-.94-2.06-.94L8.5 2.5l-.94 2.06-2.06.94zm10 10l.94 2.06.94-2.06 2.06-.94-2.06-.94-.94-2.06-.94 2.06-2.06.94z\"/><path d=\"M17.41 7.96l-1.37-1.37c-.4-.4-.92-.59-1.43-.59-.52 0-1.04.2-1.43.59L10.3 9.45l-7.72 7.72c-.78.78-.78 2.05 0 2.83L4 21.41c.39.39.9.59 1.41.59.51 0 1.02-.2 1.41-.59l7.78-7.78 2.81-2.81c.8-.78.8-2.07 0-2.86zM5.41 20L4 18.59l7.72-7.72 1.47 1.35L5.41 20z\"/>\n",
              "  </svg>\n",
              "      </button>\n",
              "      \n",
              "  <style>\n",
              "    .colab-df-container {\n",
              "      display:flex;\n",
              "      flex-wrap:wrap;\n",
              "      gap: 12px;\n",
              "    }\n",
              "\n",
              "    .colab-df-convert {\n",
              "      background-color: #E8F0FE;\n",
              "      border: none;\n",
              "      border-radius: 50%;\n",
              "      cursor: pointer;\n",
              "      display: none;\n",
              "      fill: #1967D2;\n",
              "      height: 32px;\n",
              "      padding: 0 0 0 0;\n",
              "      width: 32px;\n",
              "    }\n",
              "\n",
              "    .colab-df-convert:hover {\n",
              "      background-color: #E2EBFA;\n",
              "      box-shadow: 0px 1px 2px rgba(60, 64, 67, 0.3), 0px 1px 3px 1px rgba(60, 64, 67, 0.15);\n",
              "      fill: #174EA6;\n",
              "    }\n",
              "\n",
              "    [theme=dark] .colab-df-convert {\n",
              "      background-color: #3B4455;\n",
              "      fill: #D2E3FC;\n",
              "    }\n",
              "\n",
              "    [theme=dark] .colab-df-convert:hover {\n",
              "      background-color: #434B5C;\n",
              "      box-shadow: 0px 1px 3px 1px rgba(0, 0, 0, 0.15);\n",
              "      filter: drop-shadow(0px 1px 2px rgba(0, 0, 0, 0.3));\n",
              "      fill: #FFFFFF;\n",
              "    }\n",
              "  </style>\n",
              "\n",
              "      <script>\n",
              "        const buttonEl =\n",
              "          document.querySelector('#df-26d3c458-e0f8-4351-b4a7-e8b1182d1723 button.colab-df-convert');\n",
              "        buttonEl.style.display =\n",
              "          google.colab.kernel.accessAllowed ? 'block' : 'none';\n",
              "\n",
              "        async function convertToInteractive(key) {\n",
              "          const element = document.querySelector('#df-26d3c458-e0f8-4351-b4a7-e8b1182d1723');\n",
              "          const dataTable =\n",
              "            await google.colab.kernel.invokeFunction('convertToInteractive',\n",
              "                                                     [key], {});\n",
              "          if (!dataTable) return;\n",
              "\n",
              "          const docLinkHtml = 'Like what you see? Visit the ' +\n",
              "            '<a target=\"_blank\" href=https://colab.research.google.com/notebooks/data_table.ipynb>data table notebook</a>'\n",
              "            + ' to learn more about interactive tables.';\n",
              "          element.innerHTML = '';\n",
              "          dataTable['output_type'] = 'display_data';\n",
              "          await google.colab.output.renderOutput(dataTable, element);\n",
              "          const docLink = document.createElement('div');\n",
              "          docLink.innerHTML = docLinkHtml;\n",
              "          element.appendChild(docLink);\n",
              "        }\n",
              "      </script>\n",
              "    </div>\n",
              "  </div>\n",
              "  "
            ]
          },
          "metadata": {},
          "execution_count": 87
        }
      ]
    },
    {
      "cell_type": "code",
      "source": [
        "# Checkin the info \n",
        "sales_df.info()"
      ],
      "metadata": {
        "colab": {
          "base_uri": "https://localhost:8080/"
        },
        "id": "76HL5Oc2vIpG",
        "outputId": "dc8ad45a-c073-4b33-e1f3-da4181ab0ac7"
      },
      "execution_count": 88,
      "outputs": [
        {
          "output_type": "stream",
          "name": "stdout",
          "text": [
            "<class 'pandas.core.frame.DataFrame'>\n",
            "RangeIndex: 8523 entries, 0 to 8522\n",
            "Data columns (total 12 columns):\n",
            " #   Column                     Non-Null Count  Dtype  \n",
            "---  ------                     --------------  -----  \n",
            " 0   Item_Identifier            8523 non-null   object \n",
            " 1   Item_Weight                7060 non-null   float64\n",
            " 2   Item_Fat_Content           8523 non-null   object \n",
            " 3   Item_Visibility            8523 non-null   float64\n",
            " 4   Item_Type                  8523 non-null   object \n",
            " 5   Item_MRP                   8523 non-null   float64\n",
            " 6   Outlet_Identifier          8523 non-null   object \n",
            " 7   Outlet_Establishment_Year  8523 non-null   int64  \n",
            " 8   Outlet_Size                6113 non-null   object \n",
            " 9   Outlet_Location_Type       8523 non-null   object \n",
            " 10  Outlet_Type                8523 non-null   object \n",
            " 11  Item_Outlet_Sales          8523 non-null   float64\n",
            "dtypes: float64(4), int64(1), object(7)\n",
            "memory usage: 799.2+ KB\n"
          ]
        }
      ]
    },
    {
      "cell_type": "code",
      "source": [
        "# Standardize the Item_Fat_Content Data\n",
        "\n",
        "# Replacing LF with Low Fat\n",
        "sales_df['Item_Fat_Content'] = sales_df['Item_Fat_Content'].replace('LF', 'Low Fat')\n",
        "\n",
        "# Replacing low fat to Low Fat\n",
        "sales_df['Item_Fat_Content'] = sales_df['Item_Fat_Content'].replace('low fat', 'Low Fat')\n",
        "\n",
        "# Replacing reg to Regular\n",
        "\n",
        "sales_df['Item_Fat_Content'] = sales_df['Item_Fat_Content'].replace('reg', 'Regular')\n",
        "\n"
      ],
      "metadata": {
        "id": "bm_5dhA3JLKz"
      },
      "execution_count": 89,
      "outputs": []
    },
    {
      "cell_type": "markdown",
      "source": [
        "IDENTIFING THE TARGET (Y) AND THE FEATURES (X)"
      ],
      "metadata": {
        "id": "nRKRXfI2qy9N"
      }
    },
    {
      "cell_type": "code",
      "source": [
        "X = sales_df.drop(columns= ['Item_Outlet_Sales'])\n",
        "y = sales_df['Item_Outlet_Sales']  "
      ],
      "metadata": {
        "id": "DXPpbZW3rTql"
      },
      "execution_count": 90,
      "outputs": []
    },
    {
      "cell_type": "markdown",
      "source": [
        "PERFORMING A TRAIN TEST SPLIT"
      ],
      "metadata": {
        "id": "IYY06YWmrUIk"
      }
    },
    {
      "cell_type": "code",
      "source": [
        "X_train, X_test, y_train, y_test = train_test_split( X, y, random_state=42) \n"
      ],
      "metadata": {
        "id": "GqNCG2ypxT8P"
      },
      "execution_count": 91,
      "outputs": []
    },
    {
      "cell_type": "markdown",
      "source": [
        "CREATING A PRE PROCESSING PIPELINE"
      ],
      "metadata": {
        "id": "teWssYcYyMSy"
      }
    },
    {
      "cell_type": "markdown",
      "source": [
        "1) IDENTIFYING EACH FEATURE:\n",
        "\n",
        "\n",
        "NUMERICAL FEATURES: Item_Weight, Item_Visibility, Item_MRP, Outlet_Establishment_Year\n",
        "\n",
        "\n",
        "ORDINAL FEATURES: Outlet_Size, Outlet_Tier, Item_Fat_Content \n",
        "\n",
        "\n",
        "NORMINAL FEATURES: Item_Type, Outlet_Type"
      ],
      "metadata": {
        "id": "tTuSNSENywAI"
      }
    },
    {
      "cell_type": "code",
      "source": [
        "# Instantiating Column Selectors\n",
        "\n",
        "#Categorical Column Selector\n",
        "cat_selector = make_column_selector(dtype_include= 'object')\n",
        "\n",
        "# Numerical Column Selector\n",
        "num_selector = make_column_selector(dtype_include= 'number')"
      ],
      "metadata": {
        "id": "5ZZ7PcIfygi9"
      },
      "execution_count": 92,
      "outputs": []
    },
    {
      "cell_type": "code",
      "source": [
        "# Instantiating Transformers\n",
        "\n",
        "# Frequency Imputers\n",
        "freq_imputer = SimpleImputer(strategy= 'most_frequent')\n",
        "\n",
        "# Mean Imputer\n",
        "mean_imputer = SimpleImputer(strategy= 'mean')\n",
        "\n",
        "# Scaler\n",
        "scaler= StandardScaler()\n",
        "\n",
        "# One Hot Encoder\n",
        "ohe = OneHotEncoder(sparse= False, handle_unknown= 'ignore')"
      ],
      "metadata": {
        "id": "hisDEU532528"
      },
      "execution_count": 93,
      "outputs": []
    },
    {
      "cell_type": "code",
      "source": [
        "#Instantiating Pipelines\n",
        "\n",
        "# Numerical Pipeline\n",
        "numeric_pipe = make_pipeline(mean_imputer, scaler)\n",
        "numeric_pipe "
      ],
      "metadata": {
        "colab": {
          "base_uri": "https://localhost:8080/",
          "height": 124
        },
        "id": "GbVB5fCs5Bhr",
        "outputId": "93d1a715-7a84-42cf-b8d1-be2dc4c32ec5"
      },
      "execution_count": 94,
      "outputs": [
        {
          "output_type": "execute_result",
          "data": {
            "text/plain": [
              "Pipeline(steps=[('simpleimputer', SimpleImputer()),\n",
              "                ('standardscaler', StandardScaler())])"
            ],
            "text/html": [
              "<style>#sk-ce16d25e-8f65-44c7-bdaf-b0cbce004dc1 {color: black;background-color: white;}#sk-ce16d25e-8f65-44c7-bdaf-b0cbce004dc1 pre{padding: 0;}#sk-ce16d25e-8f65-44c7-bdaf-b0cbce004dc1 div.sk-toggleable {background-color: white;}#sk-ce16d25e-8f65-44c7-bdaf-b0cbce004dc1 label.sk-toggleable__label {cursor: pointer;display: block;width: 100%;margin-bottom: 0;padding: 0.3em;box-sizing: border-box;text-align: center;}#sk-ce16d25e-8f65-44c7-bdaf-b0cbce004dc1 label.sk-toggleable__label-arrow:before {content: \"▸\";float: left;margin-right: 0.25em;color: #696969;}#sk-ce16d25e-8f65-44c7-bdaf-b0cbce004dc1 label.sk-toggleable__label-arrow:hover:before {color: black;}#sk-ce16d25e-8f65-44c7-bdaf-b0cbce004dc1 div.sk-estimator:hover label.sk-toggleable__label-arrow:before {color: black;}#sk-ce16d25e-8f65-44c7-bdaf-b0cbce004dc1 div.sk-toggleable__content {max-height: 0;max-width: 0;overflow: hidden;text-align: left;background-color: #f0f8ff;}#sk-ce16d25e-8f65-44c7-bdaf-b0cbce004dc1 div.sk-toggleable__content pre {margin: 0.2em;color: black;border-radius: 0.25em;background-color: #f0f8ff;}#sk-ce16d25e-8f65-44c7-bdaf-b0cbce004dc1 input.sk-toggleable__control:checked~div.sk-toggleable__content {max-height: 200px;max-width: 100%;overflow: auto;}#sk-ce16d25e-8f65-44c7-bdaf-b0cbce004dc1 input.sk-toggleable__control:checked~label.sk-toggleable__label-arrow:before {content: \"▾\";}#sk-ce16d25e-8f65-44c7-bdaf-b0cbce004dc1 div.sk-estimator input.sk-toggleable__control:checked~label.sk-toggleable__label {background-color: #d4ebff;}#sk-ce16d25e-8f65-44c7-bdaf-b0cbce004dc1 div.sk-label input.sk-toggleable__control:checked~label.sk-toggleable__label {background-color: #d4ebff;}#sk-ce16d25e-8f65-44c7-bdaf-b0cbce004dc1 input.sk-hidden--visually {border: 0;clip: rect(1px 1px 1px 1px);clip: rect(1px, 1px, 1px, 1px);height: 1px;margin: -1px;overflow: hidden;padding: 0;position: absolute;width: 1px;}#sk-ce16d25e-8f65-44c7-bdaf-b0cbce004dc1 div.sk-estimator {font-family: monospace;background-color: #f0f8ff;border: 1px dotted black;border-radius: 0.25em;box-sizing: border-box;margin-bottom: 0.5em;}#sk-ce16d25e-8f65-44c7-bdaf-b0cbce004dc1 div.sk-estimator:hover {background-color: #d4ebff;}#sk-ce16d25e-8f65-44c7-bdaf-b0cbce004dc1 div.sk-parallel-item::after {content: \"\";width: 100%;border-bottom: 1px solid gray;flex-grow: 1;}#sk-ce16d25e-8f65-44c7-bdaf-b0cbce004dc1 div.sk-label:hover label.sk-toggleable__label {background-color: #d4ebff;}#sk-ce16d25e-8f65-44c7-bdaf-b0cbce004dc1 div.sk-serial::before {content: \"\";position: absolute;border-left: 1px solid gray;box-sizing: border-box;top: 2em;bottom: 0;left: 50%;}#sk-ce16d25e-8f65-44c7-bdaf-b0cbce004dc1 div.sk-serial {display: flex;flex-direction: column;align-items: center;background-color: white;padding-right: 0.2em;padding-left: 0.2em;}#sk-ce16d25e-8f65-44c7-bdaf-b0cbce004dc1 div.sk-item {z-index: 1;}#sk-ce16d25e-8f65-44c7-bdaf-b0cbce004dc1 div.sk-parallel {display: flex;align-items: stretch;justify-content: center;background-color: white;}#sk-ce16d25e-8f65-44c7-bdaf-b0cbce004dc1 div.sk-parallel::before {content: \"\";position: absolute;border-left: 1px solid gray;box-sizing: border-box;top: 2em;bottom: 0;left: 50%;}#sk-ce16d25e-8f65-44c7-bdaf-b0cbce004dc1 div.sk-parallel-item {display: flex;flex-direction: column;position: relative;background-color: white;}#sk-ce16d25e-8f65-44c7-bdaf-b0cbce004dc1 div.sk-parallel-item:first-child::after {align-self: flex-end;width: 50%;}#sk-ce16d25e-8f65-44c7-bdaf-b0cbce004dc1 div.sk-parallel-item:last-child::after {align-self: flex-start;width: 50%;}#sk-ce16d25e-8f65-44c7-bdaf-b0cbce004dc1 div.sk-parallel-item:only-child::after {width: 0;}#sk-ce16d25e-8f65-44c7-bdaf-b0cbce004dc1 div.sk-dashed-wrapped {border: 1px dashed gray;margin: 0 0.4em 0.5em 0.4em;box-sizing: border-box;padding-bottom: 0.4em;background-color: white;position: relative;}#sk-ce16d25e-8f65-44c7-bdaf-b0cbce004dc1 div.sk-label label {font-family: monospace;font-weight: bold;background-color: white;display: inline-block;line-height: 1.2em;}#sk-ce16d25e-8f65-44c7-bdaf-b0cbce004dc1 div.sk-label-container {position: relative;z-index: 2;text-align: center;}#sk-ce16d25e-8f65-44c7-bdaf-b0cbce004dc1 div.sk-container {/* jupyter's `normalize.less` sets `[hidden] { display: none; }` but bootstrap.min.css set `[hidden] { display: none !important; }` so we also need the `!important` here to be able to override the default hidden behavior on the sphinx rendered scikit-learn.org. See: https://github.com/scikit-learn/scikit-learn/issues/21755 */display: inline-block !important;position: relative;}#sk-ce16d25e-8f65-44c7-bdaf-b0cbce004dc1 div.sk-text-repr-fallback {display: none;}</style><div id=\"sk-ce16d25e-8f65-44c7-bdaf-b0cbce004dc1\" class=\"sk-top-container\"><div class=\"sk-text-repr-fallback\"><pre>Pipeline(steps=[(&#x27;simpleimputer&#x27;, SimpleImputer()),\n",
              "                (&#x27;standardscaler&#x27;, StandardScaler())])</pre><b>Please rerun this cell to show the HTML repr or trust the notebook.</b></div><div class=\"sk-container\" hidden><div class=\"sk-item sk-dashed-wrapped\"><div class=\"sk-label-container\"><div class=\"sk-label sk-toggleable\"><input class=\"sk-toggleable__control sk-hidden--visually\" id=\"04742e1b-5584-4f2f-812f-792d28c46a3f\" type=\"checkbox\" ><label for=\"04742e1b-5584-4f2f-812f-792d28c46a3f\" class=\"sk-toggleable__label sk-toggleable__label-arrow\">Pipeline</label><div class=\"sk-toggleable__content\"><pre>Pipeline(steps=[(&#x27;simpleimputer&#x27;, SimpleImputer()),\n",
              "                (&#x27;standardscaler&#x27;, StandardScaler())])</pre></div></div></div><div class=\"sk-serial\"><div class=\"sk-item\"><div class=\"sk-estimator sk-toggleable\"><input class=\"sk-toggleable__control sk-hidden--visually\" id=\"83b6d2cd-2ab9-4833-b46c-4f2ff93c77a0\" type=\"checkbox\" ><label for=\"83b6d2cd-2ab9-4833-b46c-4f2ff93c77a0\" class=\"sk-toggleable__label sk-toggleable__label-arrow\">SimpleImputer</label><div class=\"sk-toggleable__content\"><pre>SimpleImputer()</pre></div></div></div><div class=\"sk-item\"><div class=\"sk-estimator sk-toggleable\"><input class=\"sk-toggleable__control sk-hidden--visually\" id=\"228ec9c5-a13d-40c4-8f4c-94643cd80e8a\" type=\"checkbox\" ><label for=\"228ec9c5-a13d-40c4-8f4c-94643cd80e8a\" class=\"sk-toggleable__label sk-toggleable__label-arrow\">StandardScaler</label><div class=\"sk-toggleable__content\"><pre>StandardScaler()</pre></div></div></div></div></div></div></div>"
            ]
          },
          "metadata": {},
          "execution_count": 94
        }
      ]
    },
    {
      "cell_type": "code",
      "source": [
        "from pandas.core.arrays import categorical\n",
        "# Categorical Pipwline\n",
        "categorical_pipe = make_pipeline(freq_imputer, ohe)\n",
        "categorical_pipe"
      ],
      "metadata": {
        "colab": {
          "base_uri": "https://localhost:8080/",
          "height": 124
        },
        "id": "EfvY8fvA6Al9",
        "outputId": "27b9f373-9f4b-4f55-c540-d7a7bc344a8c"
      },
      "execution_count": 95,
      "outputs": [
        {
          "output_type": "execute_result",
          "data": {
            "text/plain": [
              "Pipeline(steps=[('simpleimputer', SimpleImputer(strategy='most_frequent')),\n",
              "                ('onehotencoder',\n",
              "                 OneHotEncoder(handle_unknown='ignore', sparse=False))])"
            ],
            "text/html": [
              "<style>#sk-928e23aa-3738-4514-953d-94838ccd0f84 {color: black;background-color: white;}#sk-928e23aa-3738-4514-953d-94838ccd0f84 pre{padding: 0;}#sk-928e23aa-3738-4514-953d-94838ccd0f84 div.sk-toggleable {background-color: white;}#sk-928e23aa-3738-4514-953d-94838ccd0f84 label.sk-toggleable__label {cursor: pointer;display: block;width: 100%;margin-bottom: 0;padding: 0.3em;box-sizing: border-box;text-align: center;}#sk-928e23aa-3738-4514-953d-94838ccd0f84 label.sk-toggleable__label-arrow:before {content: \"▸\";float: left;margin-right: 0.25em;color: #696969;}#sk-928e23aa-3738-4514-953d-94838ccd0f84 label.sk-toggleable__label-arrow:hover:before {color: black;}#sk-928e23aa-3738-4514-953d-94838ccd0f84 div.sk-estimator:hover label.sk-toggleable__label-arrow:before {color: black;}#sk-928e23aa-3738-4514-953d-94838ccd0f84 div.sk-toggleable__content {max-height: 0;max-width: 0;overflow: hidden;text-align: left;background-color: #f0f8ff;}#sk-928e23aa-3738-4514-953d-94838ccd0f84 div.sk-toggleable__content pre {margin: 0.2em;color: black;border-radius: 0.25em;background-color: #f0f8ff;}#sk-928e23aa-3738-4514-953d-94838ccd0f84 input.sk-toggleable__control:checked~div.sk-toggleable__content {max-height: 200px;max-width: 100%;overflow: auto;}#sk-928e23aa-3738-4514-953d-94838ccd0f84 input.sk-toggleable__control:checked~label.sk-toggleable__label-arrow:before {content: \"▾\";}#sk-928e23aa-3738-4514-953d-94838ccd0f84 div.sk-estimator input.sk-toggleable__control:checked~label.sk-toggleable__label {background-color: #d4ebff;}#sk-928e23aa-3738-4514-953d-94838ccd0f84 div.sk-label input.sk-toggleable__control:checked~label.sk-toggleable__label {background-color: #d4ebff;}#sk-928e23aa-3738-4514-953d-94838ccd0f84 input.sk-hidden--visually {border: 0;clip: rect(1px 1px 1px 1px);clip: rect(1px, 1px, 1px, 1px);height: 1px;margin: -1px;overflow: hidden;padding: 0;position: absolute;width: 1px;}#sk-928e23aa-3738-4514-953d-94838ccd0f84 div.sk-estimator {font-family: monospace;background-color: #f0f8ff;border: 1px dotted black;border-radius: 0.25em;box-sizing: border-box;margin-bottom: 0.5em;}#sk-928e23aa-3738-4514-953d-94838ccd0f84 div.sk-estimator:hover {background-color: #d4ebff;}#sk-928e23aa-3738-4514-953d-94838ccd0f84 div.sk-parallel-item::after {content: \"\";width: 100%;border-bottom: 1px solid gray;flex-grow: 1;}#sk-928e23aa-3738-4514-953d-94838ccd0f84 div.sk-label:hover label.sk-toggleable__label {background-color: #d4ebff;}#sk-928e23aa-3738-4514-953d-94838ccd0f84 div.sk-serial::before {content: \"\";position: absolute;border-left: 1px solid gray;box-sizing: border-box;top: 2em;bottom: 0;left: 50%;}#sk-928e23aa-3738-4514-953d-94838ccd0f84 div.sk-serial {display: flex;flex-direction: column;align-items: center;background-color: white;padding-right: 0.2em;padding-left: 0.2em;}#sk-928e23aa-3738-4514-953d-94838ccd0f84 div.sk-item {z-index: 1;}#sk-928e23aa-3738-4514-953d-94838ccd0f84 div.sk-parallel {display: flex;align-items: stretch;justify-content: center;background-color: white;}#sk-928e23aa-3738-4514-953d-94838ccd0f84 div.sk-parallel::before {content: \"\";position: absolute;border-left: 1px solid gray;box-sizing: border-box;top: 2em;bottom: 0;left: 50%;}#sk-928e23aa-3738-4514-953d-94838ccd0f84 div.sk-parallel-item {display: flex;flex-direction: column;position: relative;background-color: white;}#sk-928e23aa-3738-4514-953d-94838ccd0f84 div.sk-parallel-item:first-child::after {align-self: flex-end;width: 50%;}#sk-928e23aa-3738-4514-953d-94838ccd0f84 div.sk-parallel-item:last-child::after {align-self: flex-start;width: 50%;}#sk-928e23aa-3738-4514-953d-94838ccd0f84 div.sk-parallel-item:only-child::after {width: 0;}#sk-928e23aa-3738-4514-953d-94838ccd0f84 div.sk-dashed-wrapped {border: 1px dashed gray;margin: 0 0.4em 0.5em 0.4em;box-sizing: border-box;padding-bottom: 0.4em;background-color: white;position: relative;}#sk-928e23aa-3738-4514-953d-94838ccd0f84 div.sk-label label {font-family: monospace;font-weight: bold;background-color: white;display: inline-block;line-height: 1.2em;}#sk-928e23aa-3738-4514-953d-94838ccd0f84 div.sk-label-container {position: relative;z-index: 2;text-align: center;}#sk-928e23aa-3738-4514-953d-94838ccd0f84 div.sk-container {/* jupyter's `normalize.less` sets `[hidden] { display: none; }` but bootstrap.min.css set `[hidden] { display: none !important; }` so we also need the `!important` here to be able to override the default hidden behavior on the sphinx rendered scikit-learn.org. See: https://github.com/scikit-learn/scikit-learn/issues/21755 */display: inline-block !important;position: relative;}#sk-928e23aa-3738-4514-953d-94838ccd0f84 div.sk-text-repr-fallback {display: none;}</style><div id=\"sk-928e23aa-3738-4514-953d-94838ccd0f84\" class=\"sk-top-container\"><div class=\"sk-text-repr-fallback\"><pre>Pipeline(steps=[(&#x27;simpleimputer&#x27;, SimpleImputer(strategy=&#x27;most_frequent&#x27;)),\n",
              "                (&#x27;onehotencoder&#x27;,\n",
              "                 OneHotEncoder(handle_unknown=&#x27;ignore&#x27;, sparse=False))])</pre><b>Please rerun this cell to show the HTML repr or trust the notebook.</b></div><div class=\"sk-container\" hidden><div class=\"sk-item sk-dashed-wrapped\"><div class=\"sk-label-container\"><div class=\"sk-label sk-toggleable\"><input class=\"sk-toggleable__control sk-hidden--visually\" id=\"83a845ff-e096-4afd-ba36-fd01e09079a5\" type=\"checkbox\" ><label for=\"83a845ff-e096-4afd-ba36-fd01e09079a5\" class=\"sk-toggleable__label sk-toggleable__label-arrow\">Pipeline</label><div class=\"sk-toggleable__content\"><pre>Pipeline(steps=[(&#x27;simpleimputer&#x27;, SimpleImputer(strategy=&#x27;most_frequent&#x27;)),\n",
              "                (&#x27;onehotencoder&#x27;,\n",
              "                 OneHotEncoder(handle_unknown=&#x27;ignore&#x27;, sparse=False))])</pre></div></div></div><div class=\"sk-serial\"><div class=\"sk-item\"><div class=\"sk-estimator sk-toggleable\"><input class=\"sk-toggleable__control sk-hidden--visually\" id=\"8db1447b-a632-41a1-803f-44a46d66f5d3\" type=\"checkbox\" ><label for=\"8db1447b-a632-41a1-803f-44a46d66f5d3\" class=\"sk-toggleable__label sk-toggleable__label-arrow\">SimpleImputer</label><div class=\"sk-toggleable__content\"><pre>SimpleImputer(strategy=&#x27;most_frequent&#x27;)</pre></div></div></div><div class=\"sk-item\"><div class=\"sk-estimator sk-toggleable\"><input class=\"sk-toggleable__control sk-hidden--visually\" id=\"b8a4dea8-6e5a-43e3-9010-2e05a8703105\" type=\"checkbox\" ><label for=\"b8a4dea8-6e5a-43e3-9010-2e05a8703105\" class=\"sk-toggleable__label sk-toggleable__label-arrow\">OneHotEncoder</label><div class=\"sk-toggleable__content\"><pre>OneHotEncoder(handle_unknown=&#x27;ignore&#x27;, sparse=False)</pre></div></div></div></div></div></div></div>"
            ]
          },
          "metadata": {},
          "execution_count": 95
        }
      ]
    },
    {
      "cell_type": "code",
      "source": [
        "# Instantiating Column Transformer\n",
        "\n",
        "#Tuples for Coulumn Transformer\n",
        "number_tuple = (numeric_pipe, num_selector)\n",
        "category_tuple = (categorical_pipe, cat_selector)\n",
        "\n",
        "# Column Transformer\n",
        "preprocessor = make_column_transformer(number_tuple, category_tuple)\n",
        "preprocessor"
      ],
      "metadata": {
        "colab": {
          "base_uri": "https://localhost:8080/",
          "height": 149
        },
        "id": "8eghvYud67uj",
        "outputId": "d0e09090-fa8c-4087-a2d8-8b9f867ebf56"
      },
      "execution_count": 96,
      "outputs": [
        {
          "output_type": "execute_result",
          "data": {
            "text/plain": [
              "ColumnTransformer(transformers=[('pipeline-1',\n",
              "                                 Pipeline(steps=[('simpleimputer',\n",
              "                                                  SimpleImputer()),\n",
              "                                                 ('standardscaler',\n",
              "                                                  StandardScaler())]),\n",
              "                                 <sklearn.compose._column_transformer.make_column_selector object at 0x7f80939ca950>),\n",
              "                                ('pipeline-2',\n",
              "                                 Pipeline(steps=[('simpleimputer',\n",
              "                                                  SimpleImputer(strategy='most_frequent')),\n",
              "                                                 ('onehotencoder',\n",
              "                                                  OneHotEncoder(handle_unknown='ignore',\n",
              "                                                                sparse=False))]),\n",
              "                                 <sklearn.compose._column_transformer.make_column_selector object at 0x7f80939ca550>)])"
            ],
            "text/html": [
              "<style>#sk-2e74db92-c00e-40c9-94e7-037ee11a6fbe {color: black;background-color: white;}#sk-2e74db92-c00e-40c9-94e7-037ee11a6fbe pre{padding: 0;}#sk-2e74db92-c00e-40c9-94e7-037ee11a6fbe div.sk-toggleable {background-color: white;}#sk-2e74db92-c00e-40c9-94e7-037ee11a6fbe label.sk-toggleable__label {cursor: pointer;display: block;width: 100%;margin-bottom: 0;padding: 0.3em;box-sizing: border-box;text-align: center;}#sk-2e74db92-c00e-40c9-94e7-037ee11a6fbe label.sk-toggleable__label-arrow:before {content: \"▸\";float: left;margin-right: 0.25em;color: #696969;}#sk-2e74db92-c00e-40c9-94e7-037ee11a6fbe label.sk-toggleable__label-arrow:hover:before {color: black;}#sk-2e74db92-c00e-40c9-94e7-037ee11a6fbe div.sk-estimator:hover label.sk-toggleable__label-arrow:before {color: black;}#sk-2e74db92-c00e-40c9-94e7-037ee11a6fbe div.sk-toggleable__content {max-height: 0;max-width: 0;overflow: hidden;text-align: left;background-color: #f0f8ff;}#sk-2e74db92-c00e-40c9-94e7-037ee11a6fbe div.sk-toggleable__content pre {margin: 0.2em;color: black;border-radius: 0.25em;background-color: #f0f8ff;}#sk-2e74db92-c00e-40c9-94e7-037ee11a6fbe input.sk-toggleable__control:checked~div.sk-toggleable__content {max-height: 200px;max-width: 100%;overflow: auto;}#sk-2e74db92-c00e-40c9-94e7-037ee11a6fbe input.sk-toggleable__control:checked~label.sk-toggleable__label-arrow:before {content: \"▾\";}#sk-2e74db92-c00e-40c9-94e7-037ee11a6fbe div.sk-estimator input.sk-toggleable__control:checked~label.sk-toggleable__label {background-color: #d4ebff;}#sk-2e74db92-c00e-40c9-94e7-037ee11a6fbe div.sk-label input.sk-toggleable__control:checked~label.sk-toggleable__label {background-color: #d4ebff;}#sk-2e74db92-c00e-40c9-94e7-037ee11a6fbe input.sk-hidden--visually {border: 0;clip: rect(1px 1px 1px 1px);clip: rect(1px, 1px, 1px, 1px);height: 1px;margin: -1px;overflow: hidden;padding: 0;position: absolute;width: 1px;}#sk-2e74db92-c00e-40c9-94e7-037ee11a6fbe div.sk-estimator {font-family: monospace;background-color: #f0f8ff;border: 1px dotted black;border-radius: 0.25em;box-sizing: border-box;margin-bottom: 0.5em;}#sk-2e74db92-c00e-40c9-94e7-037ee11a6fbe div.sk-estimator:hover {background-color: #d4ebff;}#sk-2e74db92-c00e-40c9-94e7-037ee11a6fbe div.sk-parallel-item::after {content: \"\";width: 100%;border-bottom: 1px solid gray;flex-grow: 1;}#sk-2e74db92-c00e-40c9-94e7-037ee11a6fbe div.sk-label:hover label.sk-toggleable__label {background-color: #d4ebff;}#sk-2e74db92-c00e-40c9-94e7-037ee11a6fbe div.sk-serial::before {content: \"\";position: absolute;border-left: 1px solid gray;box-sizing: border-box;top: 2em;bottom: 0;left: 50%;}#sk-2e74db92-c00e-40c9-94e7-037ee11a6fbe div.sk-serial {display: flex;flex-direction: column;align-items: center;background-color: white;padding-right: 0.2em;padding-left: 0.2em;}#sk-2e74db92-c00e-40c9-94e7-037ee11a6fbe div.sk-item {z-index: 1;}#sk-2e74db92-c00e-40c9-94e7-037ee11a6fbe div.sk-parallel {display: flex;align-items: stretch;justify-content: center;background-color: white;}#sk-2e74db92-c00e-40c9-94e7-037ee11a6fbe div.sk-parallel::before {content: \"\";position: absolute;border-left: 1px solid gray;box-sizing: border-box;top: 2em;bottom: 0;left: 50%;}#sk-2e74db92-c00e-40c9-94e7-037ee11a6fbe div.sk-parallel-item {display: flex;flex-direction: column;position: relative;background-color: white;}#sk-2e74db92-c00e-40c9-94e7-037ee11a6fbe div.sk-parallel-item:first-child::after {align-self: flex-end;width: 50%;}#sk-2e74db92-c00e-40c9-94e7-037ee11a6fbe div.sk-parallel-item:last-child::after {align-self: flex-start;width: 50%;}#sk-2e74db92-c00e-40c9-94e7-037ee11a6fbe div.sk-parallel-item:only-child::after {width: 0;}#sk-2e74db92-c00e-40c9-94e7-037ee11a6fbe div.sk-dashed-wrapped {border: 1px dashed gray;margin: 0 0.4em 0.5em 0.4em;box-sizing: border-box;padding-bottom: 0.4em;background-color: white;position: relative;}#sk-2e74db92-c00e-40c9-94e7-037ee11a6fbe div.sk-label label {font-family: monospace;font-weight: bold;background-color: white;display: inline-block;line-height: 1.2em;}#sk-2e74db92-c00e-40c9-94e7-037ee11a6fbe div.sk-label-container {position: relative;z-index: 2;text-align: center;}#sk-2e74db92-c00e-40c9-94e7-037ee11a6fbe div.sk-container {/* jupyter's `normalize.less` sets `[hidden] { display: none; }` but bootstrap.min.css set `[hidden] { display: none !important; }` so we also need the `!important` here to be able to override the default hidden behavior on the sphinx rendered scikit-learn.org. See: https://github.com/scikit-learn/scikit-learn/issues/21755 */display: inline-block !important;position: relative;}#sk-2e74db92-c00e-40c9-94e7-037ee11a6fbe div.sk-text-repr-fallback {display: none;}</style><div id=\"sk-2e74db92-c00e-40c9-94e7-037ee11a6fbe\" class=\"sk-top-container\"><div class=\"sk-text-repr-fallback\"><pre>ColumnTransformer(transformers=[(&#x27;pipeline-1&#x27;,\n",
              "                                 Pipeline(steps=[(&#x27;simpleimputer&#x27;,\n",
              "                                                  SimpleImputer()),\n",
              "                                                 (&#x27;standardscaler&#x27;,\n",
              "                                                  StandardScaler())]),\n",
              "                                 &lt;sklearn.compose._column_transformer.make_column_selector object at 0x7f80939ca950&gt;),\n",
              "                                (&#x27;pipeline-2&#x27;,\n",
              "                                 Pipeline(steps=[(&#x27;simpleimputer&#x27;,\n",
              "                                                  SimpleImputer(strategy=&#x27;most_frequent&#x27;)),\n",
              "                                                 (&#x27;onehotencoder&#x27;,\n",
              "                                                  OneHotEncoder(handle_unknown=&#x27;ignore&#x27;,\n",
              "                                                                sparse=False))]),\n",
              "                                 &lt;sklearn.compose._column_transformer.make_column_selector object at 0x7f80939ca550&gt;)])</pre><b>Please rerun this cell to show the HTML repr or trust the notebook.</b></div><div class=\"sk-container\" hidden><div class=\"sk-item sk-dashed-wrapped\"><div class=\"sk-label-container\"><div class=\"sk-label sk-toggleable\"><input class=\"sk-toggleable__control sk-hidden--visually\" id=\"07c525b7-60e3-4eaa-ab49-6f915c4461a4\" type=\"checkbox\" ><label for=\"07c525b7-60e3-4eaa-ab49-6f915c4461a4\" class=\"sk-toggleable__label sk-toggleable__label-arrow\">ColumnTransformer</label><div class=\"sk-toggleable__content\"><pre>ColumnTransformer(transformers=[(&#x27;pipeline-1&#x27;,\n",
              "                                 Pipeline(steps=[(&#x27;simpleimputer&#x27;,\n",
              "                                                  SimpleImputer()),\n",
              "                                                 (&#x27;standardscaler&#x27;,\n",
              "                                                  StandardScaler())]),\n",
              "                                 &lt;sklearn.compose._column_transformer.make_column_selector object at 0x7f80939ca950&gt;),\n",
              "                                (&#x27;pipeline-2&#x27;,\n",
              "                                 Pipeline(steps=[(&#x27;simpleimputer&#x27;,\n",
              "                                                  SimpleImputer(strategy=&#x27;most_frequent&#x27;)),\n",
              "                                                 (&#x27;onehotencoder&#x27;,\n",
              "                                                  OneHotEncoder(handle_unknown=&#x27;ignore&#x27;,\n",
              "                                                                sparse=False))]),\n",
              "                                 &lt;sklearn.compose._column_transformer.make_column_selector object at 0x7f80939ca550&gt;)])</pre></div></div></div><div class=\"sk-parallel\"><div class=\"sk-parallel-item\"><div class=\"sk-item\"><div class=\"sk-label-container\"><div class=\"sk-label sk-toggleable\"><input class=\"sk-toggleable__control sk-hidden--visually\" id=\"4ae9729d-f8cd-4d56-84e6-742f9b6d39b0\" type=\"checkbox\" ><label for=\"4ae9729d-f8cd-4d56-84e6-742f9b6d39b0\" class=\"sk-toggleable__label sk-toggleable__label-arrow\">pipeline-1</label><div class=\"sk-toggleable__content\"><pre>&lt;sklearn.compose._column_transformer.make_column_selector object at 0x7f80939ca950&gt;</pre></div></div></div><div class=\"sk-serial\"><div class=\"sk-item\"><div class=\"sk-serial\"><div class=\"sk-item\"><div class=\"sk-estimator sk-toggleable\"><input class=\"sk-toggleable__control sk-hidden--visually\" id=\"de92bd84-bc43-4b86-bc98-d0efc85df1eb\" type=\"checkbox\" ><label for=\"de92bd84-bc43-4b86-bc98-d0efc85df1eb\" class=\"sk-toggleable__label sk-toggleable__label-arrow\">SimpleImputer</label><div class=\"sk-toggleable__content\"><pre>SimpleImputer()</pre></div></div></div><div class=\"sk-item\"><div class=\"sk-estimator sk-toggleable\"><input class=\"sk-toggleable__control sk-hidden--visually\" id=\"bcaed435-71ff-4ab0-8989-b2958c82ea83\" type=\"checkbox\" ><label for=\"bcaed435-71ff-4ab0-8989-b2958c82ea83\" class=\"sk-toggleable__label sk-toggleable__label-arrow\">StandardScaler</label><div class=\"sk-toggleable__content\"><pre>StandardScaler()</pre></div></div></div></div></div></div></div></div><div class=\"sk-parallel-item\"><div class=\"sk-item\"><div class=\"sk-label-container\"><div class=\"sk-label sk-toggleable\"><input class=\"sk-toggleable__control sk-hidden--visually\" id=\"9e96e1c6-c6df-4642-b5d0-c058eec2db76\" type=\"checkbox\" ><label for=\"9e96e1c6-c6df-4642-b5d0-c058eec2db76\" class=\"sk-toggleable__label sk-toggleable__label-arrow\">pipeline-2</label><div class=\"sk-toggleable__content\"><pre>&lt;sklearn.compose._column_transformer.make_column_selector object at 0x7f80939ca550&gt;</pre></div></div></div><div class=\"sk-serial\"><div class=\"sk-item\"><div class=\"sk-serial\"><div class=\"sk-item\"><div class=\"sk-estimator sk-toggleable\"><input class=\"sk-toggleable__control sk-hidden--visually\" id=\"aa09fde0-299e-4edf-9ed1-74aa7d0fc51a\" type=\"checkbox\" ><label for=\"aa09fde0-299e-4edf-9ed1-74aa7d0fc51a\" class=\"sk-toggleable__label sk-toggleable__label-arrow\">SimpleImputer</label><div class=\"sk-toggleable__content\"><pre>SimpleImputer(strategy=&#x27;most_frequent&#x27;)</pre></div></div></div><div class=\"sk-item\"><div class=\"sk-estimator sk-toggleable\"><input class=\"sk-toggleable__control sk-hidden--visually\" id=\"f8efa336-fb97-4c37-a89c-e8868f108cb1\" type=\"checkbox\" ><label for=\"f8efa336-fb97-4c37-a89c-e8868f108cb1\" class=\"sk-toggleable__label sk-toggleable__label-arrow\">OneHotEncoder</label><div class=\"sk-toggleable__content\"><pre>OneHotEncoder(handle_unknown=&#x27;ignore&#x27;, sparse=False)</pre></div></div></div></div></div></div></div></div></div></div></div></div>"
            ]
          },
          "metadata": {},
          "execution_count": 96
        }
      ]
    },
    {
      "cell_type": "code",
      "source": [
        "# Fit the training data\n",
        "preprocessor.fit(X_train)"
      ],
      "metadata": {
        "colab": {
          "base_uri": "https://localhost:8080/",
          "height": 149
        },
        "id": "BxdoltCP67hL",
        "outputId": "24cac8b4-e939-4db4-a758-e409ace57233"
      },
      "execution_count": 97,
      "outputs": [
        {
          "output_type": "execute_result",
          "data": {
            "text/plain": [
              "ColumnTransformer(transformers=[('pipeline-1',\n",
              "                                 Pipeline(steps=[('simpleimputer',\n",
              "                                                  SimpleImputer()),\n",
              "                                                 ('standardscaler',\n",
              "                                                  StandardScaler())]),\n",
              "                                 <sklearn.compose._column_transformer.make_column_selector object at 0x7f80939ca950>),\n",
              "                                ('pipeline-2',\n",
              "                                 Pipeline(steps=[('simpleimputer',\n",
              "                                                  SimpleImputer(strategy='most_frequent')),\n",
              "                                                 ('onehotencoder',\n",
              "                                                  OneHotEncoder(handle_unknown='ignore',\n",
              "                                                                sparse=False))]),\n",
              "                                 <sklearn.compose._column_transformer.make_column_selector object at 0x7f80939ca550>)])"
            ],
            "text/html": [
              "<style>#sk-14e4cafc-f22f-400a-a02e-e8e02ddd32bd {color: black;background-color: white;}#sk-14e4cafc-f22f-400a-a02e-e8e02ddd32bd pre{padding: 0;}#sk-14e4cafc-f22f-400a-a02e-e8e02ddd32bd div.sk-toggleable {background-color: white;}#sk-14e4cafc-f22f-400a-a02e-e8e02ddd32bd label.sk-toggleable__label {cursor: pointer;display: block;width: 100%;margin-bottom: 0;padding: 0.3em;box-sizing: border-box;text-align: center;}#sk-14e4cafc-f22f-400a-a02e-e8e02ddd32bd label.sk-toggleable__label-arrow:before {content: \"▸\";float: left;margin-right: 0.25em;color: #696969;}#sk-14e4cafc-f22f-400a-a02e-e8e02ddd32bd label.sk-toggleable__label-arrow:hover:before {color: black;}#sk-14e4cafc-f22f-400a-a02e-e8e02ddd32bd div.sk-estimator:hover label.sk-toggleable__label-arrow:before {color: black;}#sk-14e4cafc-f22f-400a-a02e-e8e02ddd32bd div.sk-toggleable__content {max-height: 0;max-width: 0;overflow: hidden;text-align: left;background-color: #f0f8ff;}#sk-14e4cafc-f22f-400a-a02e-e8e02ddd32bd div.sk-toggleable__content pre {margin: 0.2em;color: black;border-radius: 0.25em;background-color: #f0f8ff;}#sk-14e4cafc-f22f-400a-a02e-e8e02ddd32bd input.sk-toggleable__control:checked~div.sk-toggleable__content {max-height: 200px;max-width: 100%;overflow: auto;}#sk-14e4cafc-f22f-400a-a02e-e8e02ddd32bd input.sk-toggleable__control:checked~label.sk-toggleable__label-arrow:before {content: \"▾\";}#sk-14e4cafc-f22f-400a-a02e-e8e02ddd32bd div.sk-estimator input.sk-toggleable__control:checked~label.sk-toggleable__label {background-color: #d4ebff;}#sk-14e4cafc-f22f-400a-a02e-e8e02ddd32bd div.sk-label input.sk-toggleable__control:checked~label.sk-toggleable__label {background-color: #d4ebff;}#sk-14e4cafc-f22f-400a-a02e-e8e02ddd32bd input.sk-hidden--visually {border: 0;clip: rect(1px 1px 1px 1px);clip: rect(1px, 1px, 1px, 1px);height: 1px;margin: -1px;overflow: hidden;padding: 0;position: absolute;width: 1px;}#sk-14e4cafc-f22f-400a-a02e-e8e02ddd32bd div.sk-estimator {font-family: monospace;background-color: #f0f8ff;border: 1px dotted black;border-radius: 0.25em;box-sizing: border-box;margin-bottom: 0.5em;}#sk-14e4cafc-f22f-400a-a02e-e8e02ddd32bd div.sk-estimator:hover {background-color: #d4ebff;}#sk-14e4cafc-f22f-400a-a02e-e8e02ddd32bd div.sk-parallel-item::after {content: \"\";width: 100%;border-bottom: 1px solid gray;flex-grow: 1;}#sk-14e4cafc-f22f-400a-a02e-e8e02ddd32bd div.sk-label:hover label.sk-toggleable__label {background-color: #d4ebff;}#sk-14e4cafc-f22f-400a-a02e-e8e02ddd32bd div.sk-serial::before {content: \"\";position: absolute;border-left: 1px solid gray;box-sizing: border-box;top: 2em;bottom: 0;left: 50%;}#sk-14e4cafc-f22f-400a-a02e-e8e02ddd32bd div.sk-serial {display: flex;flex-direction: column;align-items: center;background-color: white;padding-right: 0.2em;padding-left: 0.2em;}#sk-14e4cafc-f22f-400a-a02e-e8e02ddd32bd div.sk-item {z-index: 1;}#sk-14e4cafc-f22f-400a-a02e-e8e02ddd32bd div.sk-parallel {display: flex;align-items: stretch;justify-content: center;background-color: white;}#sk-14e4cafc-f22f-400a-a02e-e8e02ddd32bd div.sk-parallel::before {content: \"\";position: absolute;border-left: 1px solid gray;box-sizing: border-box;top: 2em;bottom: 0;left: 50%;}#sk-14e4cafc-f22f-400a-a02e-e8e02ddd32bd div.sk-parallel-item {display: flex;flex-direction: column;position: relative;background-color: white;}#sk-14e4cafc-f22f-400a-a02e-e8e02ddd32bd div.sk-parallel-item:first-child::after {align-self: flex-end;width: 50%;}#sk-14e4cafc-f22f-400a-a02e-e8e02ddd32bd div.sk-parallel-item:last-child::after {align-self: flex-start;width: 50%;}#sk-14e4cafc-f22f-400a-a02e-e8e02ddd32bd div.sk-parallel-item:only-child::after {width: 0;}#sk-14e4cafc-f22f-400a-a02e-e8e02ddd32bd div.sk-dashed-wrapped {border: 1px dashed gray;margin: 0 0.4em 0.5em 0.4em;box-sizing: border-box;padding-bottom: 0.4em;background-color: white;position: relative;}#sk-14e4cafc-f22f-400a-a02e-e8e02ddd32bd div.sk-label label {font-family: monospace;font-weight: bold;background-color: white;display: inline-block;line-height: 1.2em;}#sk-14e4cafc-f22f-400a-a02e-e8e02ddd32bd div.sk-label-container {position: relative;z-index: 2;text-align: center;}#sk-14e4cafc-f22f-400a-a02e-e8e02ddd32bd div.sk-container {/* jupyter's `normalize.less` sets `[hidden] { display: none; }` but bootstrap.min.css set `[hidden] { display: none !important; }` so we also need the `!important` here to be able to override the default hidden behavior on the sphinx rendered scikit-learn.org. See: https://github.com/scikit-learn/scikit-learn/issues/21755 */display: inline-block !important;position: relative;}#sk-14e4cafc-f22f-400a-a02e-e8e02ddd32bd div.sk-text-repr-fallback {display: none;}</style><div id=\"sk-14e4cafc-f22f-400a-a02e-e8e02ddd32bd\" class=\"sk-top-container\"><div class=\"sk-text-repr-fallback\"><pre>ColumnTransformer(transformers=[(&#x27;pipeline-1&#x27;,\n",
              "                                 Pipeline(steps=[(&#x27;simpleimputer&#x27;,\n",
              "                                                  SimpleImputer()),\n",
              "                                                 (&#x27;standardscaler&#x27;,\n",
              "                                                  StandardScaler())]),\n",
              "                                 &lt;sklearn.compose._column_transformer.make_column_selector object at 0x7f80939ca950&gt;),\n",
              "                                (&#x27;pipeline-2&#x27;,\n",
              "                                 Pipeline(steps=[(&#x27;simpleimputer&#x27;,\n",
              "                                                  SimpleImputer(strategy=&#x27;most_frequent&#x27;)),\n",
              "                                                 (&#x27;onehotencoder&#x27;,\n",
              "                                                  OneHotEncoder(handle_unknown=&#x27;ignore&#x27;,\n",
              "                                                                sparse=False))]),\n",
              "                                 &lt;sklearn.compose._column_transformer.make_column_selector object at 0x7f80939ca550&gt;)])</pre><b>Please rerun this cell to show the HTML repr or trust the notebook.</b></div><div class=\"sk-container\" hidden><div class=\"sk-item sk-dashed-wrapped\"><div class=\"sk-label-container\"><div class=\"sk-label sk-toggleable\"><input class=\"sk-toggleable__control sk-hidden--visually\" id=\"e3539a58-5e9c-41a3-85d4-8ada6313227a\" type=\"checkbox\" ><label for=\"e3539a58-5e9c-41a3-85d4-8ada6313227a\" class=\"sk-toggleable__label sk-toggleable__label-arrow\">ColumnTransformer</label><div class=\"sk-toggleable__content\"><pre>ColumnTransformer(transformers=[(&#x27;pipeline-1&#x27;,\n",
              "                                 Pipeline(steps=[(&#x27;simpleimputer&#x27;,\n",
              "                                                  SimpleImputer()),\n",
              "                                                 (&#x27;standardscaler&#x27;,\n",
              "                                                  StandardScaler())]),\n",
              "                                 &lt;sklearn.compose._column_transformer.make_column_selector object at 0x7f80939ca950&gt;),\n",
              "                                (&#x27;pipeline-2&#x27;,\n",
              "                                 Pipeline(steps=[(&#x27;simpleimputer&#x27;,\n",
              "                                                  SimpleImputer(strategy=&#x27;most_frequent&#x27;)),\n",
              "                                                 (&#x27;onehotencoder&#x27;,\n",
              "                                                  OneHotEncoder(handle_unknown=&#x27;ignore&#x27;,\n",
              "                                                                sparse=False))]),\n",
              "                                 &lt;sklearn.compose._column_transformer.make_column_selector object at 0x7f80939ca550&gt;)])</pre></div></div></div><div class=\"sk-parallel\"><div class=\"sk-parallel-item\"><div class=\"sk-item\"><div class=\"sk-label-container\"><div class=\"sk-label sk-toggleable\"><input class=\"sk-toggleable__control sk-hidden--visually\" id=\"7991b6c8-000e-4aa1-8aaf-f62436013718\" type=\"checkbox\" ><label for=\"7991b6c8-000e-4aa1-8aaf-f62436013718\" class=\"sk-toggleable__label sk-toggleable__label-arrow\">pipeline-1</label><div class=\"sk-toggleable__content\"><pre>&lt;sklearn.compose._column_transformer.make_column_selector object at 0x7f80939ca950&gt;</pre></div></div></div><div class=\"sk-serial\"><div class=\"sk-item\"><div class=\"sk-serial\"><div class=\"sk-item\"><div class=\"sk-estimator sk-toggleable\"><input class=\"sk-toggleable__control sk-hidden--visually\" id=\"12ca3e0a-4faa-48c1-bed6-8e3297e1800e\" type=\"checkbox\" ><label for=\"12ca3e0a-4faa-48c1-bed6-8e3297e1800e\" class=\"sk-toggleable__label sk-toggleable__label-arrow\">SimpleImputer</label><div class=\"sk-toggleable__content\"><pre>SimpleImputer()</pre></div></div></div><div class=\"sk-item\"><div class=\"sk-estimator sk-toggleable\"><input class=\"sk-toggleable__control sk-hidden--visually\" id=\"0998a0d0-d9d6-4cec-a993-f13ac4ea9649\" type=\"checkbox\" ><label for=\"0998a0d0-d9d6-4cec-a993-f13ac4ea9649\" class=\"sk-toggleable__label sk-toggleable__label-arrow\">StandardScaler</label><div class=\"sk-toggleable__content\"><pre>StandardScaler()</pre></div></div></div></div></div></div></div></div><div class=\"sk-parallel-item\"><div class=\"sk-item\"><div class=\"sk-label-container\"><div class=\"sk-label sk-toggleable\"><input class=\"sk-toggleable__control sk-hidden--visually\" id=\"14077a7d-5bc3-44c4-ba96-a2fa36746957\" type=\"checkbox\" ><label for=\"14077a7d-5bc3-44c4-ba96-a2fa36746957\" class=\"sk-toggleable__label sk-toggleable__label-arrow\">pipeline-2</label><div class=\"sk-toggleable__content\"><pre>&lt;sklearn.compose._column_transformer.make_column_selector object at 0x7f80939ca550&gt;</pre></div></div></div><div class=\"sk-serial\"><div class=\"sk-item\"><div class=\"sk-serial\"><div class=\"sk-item\"><div class=\"sk-estimator sk-toggleable\"><input class=\"sk-toggleable__control sk-hidden--visually\" id=\"84d39165-c15e-4197-848d-29db4b07f1df\" type=\"checkbox\" ><label for=\"84d39165-c15e-4197-848d-29db4b07f1df\" class=\"sk-toggleable__label sk-toggleable__label-arrow\">SimpleImputer</label><div class=\"sk-toggleable__content\"><pre>SimpleImputer(strategy=&#x27;most_frequent&#x27;)</pre></div></div></div><div class=\"sk-item\"><div class=\"sk-estimator sk-toggleable\"><input class=\"sk-toggleable__control sk-hidden--visually\" id=\"20d0259d-cb27-416a-8b1f-3e1a77d59ffe\" type=\"checkbox\" ><label for=\"20d0259d-cb27-416a-8b1f-3e1a77d59ffe\" class=\"sk-toggleable__label sk-toggleable__label-arrow\">OneHotEncoder</label><div class=\"sk-toggleable__content\"><pre>OneHotEncoder(handle_unknown=&#x27;ignore&#x27;, sparse=False)</pre></div></div></div></div></div></div></div></div></div></div></div></div>"
            ]
          },
          "metadata": {},
          "execution_count": 97
        }
      ]
    },
    {
      "cell_type": "code",
      "source": [
        "# Transforning Training and Testing Data\n",
        "X_train_processed = preprocessor.transform(X_train)\n",
        "X_test_processed = preprocessor.transform(X_test)"
      ],
      "metadata": {
        "id": "Wjxewthh67Fv"
      },
      "execution_count": 98,
      "outputs": []
    }
  ]
}