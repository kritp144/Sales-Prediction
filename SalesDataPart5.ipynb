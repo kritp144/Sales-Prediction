{
  "nbformat": 4,
  "nbformat_minor": 0,
  "metadata": {
    "colab": {
      "name": "SalesDataPart5.ipynb",
      "provenance": [],
      "collapsed_sections": [],
      "mount_file_id": "1PUjCwaHi8oyKJyi4w3gzQ8LDdjlz3aFZ",
      "authorship_tag": "ABX9TyMN/1nVBtUVqvE6S1MPWH08",
      "include_colab_link": true
    },
    "kernelspec": {
      "name": "python3",
      "display_name": "Python 3"
    },
    "language_info": {
      "name": "python"
    }
  },
  "cells": [
    {
      "cell_type": "markdown",
      "metadata": {
        "id": "view-in-github",
        "colab_type": "text"
      },
      "source": [
        "<a href=\"https://colab.research.google.com/github/kritp144/Sales-Prediction/blob/main/SalesDataPart5.ipynb\" target=\"_parent\"><img src=\"https://colab.research.google.com/assets/colab-badge.svg\" alt=\"Open In Colab\"/></a>"
      ]
    },
    {
      "cell_type": "markdown",
      "source": [
        "## SALES PREDICTION PROJECT\n",
        "# KRIT PATEL\n",
        "# 05/18/2022"
      ],
      "metadata": {
        "id": "AFq90s3xoYK8"
      }
    },
    {
      "cell_type": "markdown",
      "source": [
        "# THE OBJECTIVE OF THIS PART OF THE PROJECT IS TO CREATE A PRE PROCESSING PIPELINE TO PREPARE THE DATASET FOR MACHINE LEARNING."
      ],
      "metadata": {
        "id": "gBdvq7GhoXMH"
      }
    },
    {
      "cell_type": "markdown",
      "source": [
        "IN ORDER TO DO SO, WE MUST FIRST IMPORT ALL RELEVANT LIBRARIES"
      ],
      "metadata": {
        "id": "X5n_ZTeap_Ju"
      }
    },
    {
      "cell_type": "code",
      "execution_count": 3,
      "metadata": {
        "id": "IuEKWcE8oEP2"
      },
      "outputs": [],
      "source": [
        "import pandas as pd\n",
        "import numpy as np\n",
        "from sklearn.preprocessing import StandardScaler, OneHotEncoder\n",
        "from sklearn.impute import SimpleImputer\n",
        "from sklearn.compose import make_column_selector, make_column_transformer\n",
        "from sklearn.pipeline import make_pipeline\n",
        "from sklearn.model_selection import train_test_split\n",
        "from sklearn import set_config\n",
        "\n",
        "# This shows the pipeline diagram\n",
        "set_config(display= 'diagram')"
      ]
    },
    {
      "cell_type": "markdown",
      "source": [
        "IMPORTING AND LOADING THE DATA"
      ],
      "metadata": {
        "id": "qNISvxmxqVa4"
      }
    },
    {
      "cell_type": "code",
      "source": [
        "# Defining the pathway\n",
        "sales_path = '/content/drive/MyDrive/DATA SCIENCE/CODES/project 1/sales_predictions.csv'\n",
        "\n",
        "# Defining the DatatFlow and Reading the Data\n",
        "sales_df = pd.read_csv(sales_path)\n",
        "sales_df.head()"
      ],
      "metadata": {
        "colab": {
          "base_uri": "https://localhost:8080/",
          "height": 353
        },
        "id": "E6IUduhQqn2H",
        "outputId": "e4155513-98d0-465d-c84d-225bec0adc42"
      },
      "execution_count": 4,
      "outputs": [
        {
          "output_type": "execute_result",
          "data": {
            "text/plain": [
              "  Item_Identifier  Item_Weight Item_Fat_Content  Item_Visibility  \\\n",
              "0           FDA15         9.30          Low Fat         0.016047   \n",
              "1           DRC01         5.92          Regular         0.019278   \n",
              "2           FDN15        17.50          Low Fat         0.016760   \n",
              "3           FDX07        19.20          Regular         0.000000   \n",
              "4           NCD19         8.93          Low Fat         0.000000   \n",
              "\n",
              "               Item_Type  Item_MRP Outlet_Identifier  \\\n",
              "0                  Dairy  249.8092            OUT049   \n",
              "1            Soft Drinks   48.2692            OUT018   \n",
              "2                   Meat  141.6180            OUT049   \n",
              "3  Fruits and Vegetables  182.0950            OUT010   \n",
              "4              Household   53.8614            OUT013   \n",
              "\n",
              "   Outlet_Establishment_Year Outlet_Size Outlet_Location_Type  \\\n",
              "0                       1999      Medium               Tier 1   \n",
              "1                       2009      Medium               Tier 3   \n",
              "2                       1999      Medium               Tier 1   \n",
              "3                       1998         NaN               Tier 3   \n",
              "4                       1987        High               Tier 3   \n",
              "\n",
              "         Outlet_Type  Item_Outlet_Sales  \n",
              "0  Supermarket Type1          3735.1380  \n",
              "1  Supermarket Type2           443.4228  \n",
              "2  Supermarket Type1          2097.2700  \n",
              "3      Grocery Store           732.3800  \n",
              "4  Supermarket Type1           994.7052  "
            ],
            "text/html": [
              "\n",
              "  <div id=\"df-4aeb8624-2291-4089-86e7-533064fcdadb\">\n",
              "    <div class=\"colab-df-container\">\n",
              "      <div>\n",
              "<style scoped>\n",
              "    .dataframe tbody tr th:only-of-type {\n",
              "        vertical-align: middle;\n",
              "    }\n",
              "\n",
              "    .dataframe tbody tr th {\n",
              "        vertical-align: top;\n",
              "    }\n",
              "\n",
              "    .dataframe thead th {\n",
              "        text-align: right;\n",
              "    }\n",
              "</style>\n",
              "<table border=\"1\" class=\"dataframe\">\n",
              "  <thead>\n",
              "    <tr style=\"text-align: right;\">\n",
              "      <th></th>\n",
              "      <th>Item_Identifier</th>\n",
              "      <th>Item_Weight</th>\n",
              "      <th>Item_Fat_Content</th>\n",
              "      <th>Item_Visibility</th>\n",
              "      <th>Item_Type</th>\n",
              "      <th>Item_MRP</th>\n",
              "      <th>Outlet_Identifier</th>\n",
              "      <th>Outlet_Establishment_Year</th>\n",
              "      <th>Outlet_Size</th>\n",
              "      <th>Outlet_Location_Type</th>\n",
              "      <th>Outlet_Type</th>\n",
              "      <th>Item_Outlet_Sales</th>\n",
              "    </tr>\n",
              "  </thead>\n",
              "  <tbody>\n",
              "    <tr>\n",
              "      <th>0</th>\n",
              "      <td>FDA15</td>\n",
              "      <td>9.30</td>\n",
              "      <td>Low Fat</td>\n",
              "      <td>0.016047</td>\n",
              "      <td>Dairy</td>\n",
              "      <td>249.8092</td>\n",
              "      <td>OUT049</td>\n",
              "      <td>1999</td>\n",
              "      <td>Medium</td>\n",
              "      <td>Tier 1</td>\n",
              "      <td>Supermarket Type1</td>\n",
              "      <td>3735.1380</td>\n",
              "    </tr>\n",
              "    <tr>\n",
              "      <th>1</th>\n",
              "      <td>DRC01</td>\n",
              "      <td>5.92</td>\n",
              "      <td>Regular</td>\n",
              "      <td>0.019278</td>\n",
              "      <td>Soft Drinks</td>\n",
              "      <td>48.2692</td>\n",
              "      <td>OUT018</td>\n",
              "      <td>2009</td>\n",
              "      <td>Medium</td>\n",
              "      <td>Tier 3</td>\n",
              "      <td>Supermarket Type2</td>\n",
              "      <td>443.4228</td>\n",
              "    </tr>\n",
              "    <tr>\n",
              "      <th>2</th>\n",
              "      <td>FDN15</td>\n",
              "      <td>17.50</td>\n",
              "      <td>Low Fat</td>\n",
              "      <td>0.016760</td>\n",
              "      <td>Meat</td>\n",
              "      <td>141.6180</td>\n",
              "      <td>OUT049</td>\n",
              "      <td>1999</td>\n",
              "      <td>Medium</td>\n",
              "      <td>Tier 1</td>\n",
              "      <td>Supermarket Type1</td>\n",
              "      <td>2097.2700</td>\n",
              "    </tr>\n",
              "    <tr>\n",
              "      <th>3</th>\n",
              "      <td>FDX07</td>\n",
              "      <td>19.20</td>\n",
              "      <td>Regular</td>\n",
              "      <td>0.000000</td>\n",
              "      <td>Fruits and Vegetables</td>\n",
              "      <td>182.0950</td>\n",
              "      <td>OUT010</td>\n",
              "      <td>1998</td>\n",
              "      <td>NaN</td>\n",
              "      <td>Tier 3</td>\n",
              "      <td>Grocery Store</td>\n",
              "      <td>732.3800</td>\n",
              "    </tr>\n",
              "    <tr>\n",
              "      <th>4</th>\n",
              "      <td>NCD19</td>\n",
              "      <td>8.93</td>\n",
              "      <td>Low Fat</td>\n",
              "      <td>0.000000</td>\n",
              "      <td>Household</td>\n",
              "      <td>53.8614</td>\n",
              "      <td>OUT013</td>\n",
              "      <td>1987</td>\n",
              "      <td>High</td>\n",
              "      <td>Tier 3</td>\n",
              "      <td>Supermarket Type1</td>\n",
              "      <td>994.7052</td>\n",
              "    </tr>\n",
              "  </tbody>\n",
              "</table>\n",
              "</div>\n",
              "      <button class=\"colab-df-convert\" onclick=\"convertToInteractive('df-4aeb8624-2291-4089-86e7-533064fcdadb')\"\n",
              "              title=\"Convert this dataframe to an interactive table.\"\n",
              "              style=\"display:none;\">\n",
              "        \n",
              "  <svg xmlns=\"http://www.w3.org/2000/svg\" height=\"24px\"viewBox=\"0 0 24 24\"\n",
              "       width=\"24px\">\n",
              "    <path d=\"M0 0h24v24H0V0z\" fill=\"none\"/>\n",
              "    <path d=\"M18.56 5.44l.94 2.06.94-2.06 2.06-.94-2.06-.94-.94-2.06-.94 2.06-2.06.94zm-11 1L8.5 8.5l.94-2.06 2.06-.94-2.06-.94L8.5 2.5l-.94 2.06-2.06.94zm10 10l.94 2.06.94-2.06 2.06-.94-2.06-.94-.94-2.06-.94 2.06-2.06.94z\"/><path d=\"M17.41 7.96l-1.37-1.37c-.4-.4-.92-.59-1.43-.59-.52 0-1.04.2-1.43.59L10.3 9.45l-7.72 7.72c-.78.78-.78 2.05 0 2.83L4 21.41c.39.39.9.59 1.41.59.51 0 1.02-.2 1.41-.59l7.78-7.78 2.81-2.81c.8-.78.8-2.07 0-2.86zM5.41 20L4 18.59l7.72-7.72 1.47 1.35L5.41 20z\"/>\n",
              "  </svg>\n",
              "      </button>\n",
              "      \n",
              "  <style>\n",
              "    .colab-df-container {\n",
              "      display:flex;\n",
              "      flex-wrap:wrap;\n",
              "      gap: 12px;\n",
              "    }\n",
              "\n",
              "    .colab-df-convert {\n",
              "      background-color: #E8F0FE;\n",
              "      border: none;\n",
              "      border-radius: 50%;\n",
              "      cursor: pointer;\n",
              "      display: none;\n",
              "      fill: #1967D2;\n",
              "      height: 32px;\n",
              "      padding: 0 0 0 0;\n",
              "      width: 32px;\n",
              "    }\n",
              "\n",
              "    .colab-df-convert:hover {\n",
              "      background-color: #E2EBFA;\n",
              "      box-shadow: 0px 1px 2px rgba(60, 64, 67, 0.3), 0px 1px 3px 1px rgba(60, 64, 67, 0.15);\n",
              "      fill: #174EA6;\n",
              "    }\n",
              "\n",
              "    [theme=dark] .colab-df-convert {\n",
              "      background-color: #3B4455;\n",
              "      fill: #D2E3FC;\n",
              "    }\n",
              "\n",
              "    [theme=dark] .colab-df-convert:hover {\n",
              "      background-color: #434B5C;\n",
              "      box-shadow: 0px 1px 3px 1px rgba(0, 0, 0, 0.15);\n",
              "      filter: drop-shadow(0px 1px 2px rgba(0, 0, 0, 0.3));\n",
              "      fill: #FFFFFF;\n",
              "    }\n",
              "  </style>\n",
              "\n",
              "      <script>\n",
              "        const buttonEl =\n",
              "          document.querySelector('#df-4aeb8624-2291-4089-86e7-533064fcdadb button.colab-df-convert');\n",
              "        buttonEl.style.display =\n",
              "          google.colab.kernel.accessAllowed ? 'block' : 'none';\n",
              "\n",
              "        async function convertToInteractive(key) {\n",
              "          const element = document.querySelector('#df-4aeb8624-2291-4089-86e7-533064fcdadb');\n",
              "          const dataTable =\n",
              "            await google.colab.kernel.invokeFunction('convertToInteractive',\n",
              "                                                     [key], {});\n",
              "          if (!dataTable) return;\n",
              "\n",
              "          const docLinkHtml = 'Like what you see? Visit the ' +\n",
              "            '<a target=\"_blank\" href=https://colab.research.google.com/notebooks/data_table.ipynb>data table notebook</a>'\n",
              "            + ' to learn more about interactive tables.';\n",
              "          element.innerHTML = '';\n",
              "          dataTable['output_type'] = 'display_data';\n",
              "          await google.colab.output.renderOutput(dataTable, element);\n",
              "          const docLink = document.createElement('div');\n",
              "          docLink.innerHTML = docLinkHtml;\n",
              "          element.appendChild(docLink);\n",
              "        }\n",
              "      </script>\n",
              "    </div>\n",
              "  </div>\n",
              "  "
            ]
          },
          "metadata": {},
          "execution_count": 4
        }
      ]
    },
    {
      "cell_type": "code",
      "source": [
        "# Checkin the info \n",
        "sales_df.info()"
      ],
      "metadata": {
        "colab": {
          "base_uri": "https://localhost:8080/"
        },
        "id": "76HL5Oc2vIpG",
        "outputId": "c4e37f32-0814-4d13-a2f2-4ad9d92adab4"
      },
      "execution_count": 5,
      "outputs": [
        {
          "output_type": "stream",
          "name": "stdout",
          "text": [
            "<class 'pandas.core.frame.DataFrame'>\n",
            "RangeIndex: 8523 entries, 0 to 8522\n",
            "Data columns (total 12 columns):\n",
            " #   Column                     Non-Null Count  Dtype  \n",
            "---  ------                     --------------  -----  \n",
            " 0   Item_Identifier            8523 non-null   object \n",
            " 1   Item_Weight                7060 non-null   float64\n",
            " 2   Item_Fat_Content           8523 non-null   object \n",
            " 3   Item_Visibility            8523 non-null   float64\n",
            " 4   Item_Type                  8523 non-null   object \n",
            " 5   Item_MRP                   8523 non-null   float64\n",
            " 6   Outlet_Identifier          8523 non-null   object \n",
            " 7   Outlet_Establishment_Year  8523 non-null   int64  \n",
            " 8   Outlet_Size                6113 non-null   object \n",
            " 9   Outlet_Location_Type       8523 non-null   object \n",
            " 10  Outlet_Type                8523 non-null   object \n",
            " 11  Item_Outlet_Sales          8523 non-null   float64\n",
            "dtypes: float64(4), int64(1), object(7)\n",
            "memory usage: 799.2+ KB\n"
          ]
        }
      ]
    },
    {
      "cell_type": "markdown",
      "source": [
        "IDENTIFING THE TARGET (Y) AND THE FEATURES (X)"
      ],
      "metadata": {
        "id": "nRKRXfI2qy9N"
      }
    },
    {
      "cell_type": "code",
      "source": [
        "X = sales_df.drop(columns= ['Item_Outlet_Sales'])\n",
        "y = sales_df['Item_Outlet_Sales']  "
      ],
      "metadata": {
        "id": "DXPpbZW3rTql"
      },
      "execution_count": 6,
      "outputs": []
    },
    {
      "cell_type": "markdown",
      "source": [
        "PERFORMING A TRAIN TEST SPLIT"
      ],
      "metadata": {
        "id": "IYY06YWmrUIk"
      }
    },
    {
      "cell_type": "code",
      "source": [
        "X_train, X_test, y_train, y_test = train_test_split( X, y, random_state=42)  \n"
      ],
      "metadata": {
        "id": "GqNCG2ypxT8P"
      },
      "execution_count": 7,
      "outputs": []
    },
    {
      "cell_type": "code",
      "source": [
        "# Define a dictionary to replace Item_Fat_Content\n",
        "item_fat_content = {'Low Fat' : 'Low Fat',\n",
        "                    'Regular' : 'Regular',\n",
        "                    'LF' : 'Low Fat',\n",
        "                    'reg' : 'Regular',\n",
        "                    'low fat' : 'Low Fat'}\n",
        "\n",
        "X_train['Item_Fat_Content'] = X_train['Item_Fat_Content'].replace(item_fat_content)\n",
        "\n",
        "X_train['Item_Fat_Content'].value_counts()"
      ],
      "metadata": {
        "colab": {
          "base_uri": "https://localhost:8080/"
        },
        "id": "OlXoch-d_fJ1",
        "outputId": "3f4c28f0-8371-4ac2-d78a-9ab1608d8345"
      },
      "execution_count": 17,
      "outputs": [
        {
          "output_type": "execute_result",
          "data": {
            "text/plain": [
              "Low Fat    4129\n",
              "Regular    2263\n",
              "Name: Item_Fat_Content, dtype: int64"
            ]
          },
          "metadata": {},
          "execution_count": 17
        }
      ]
    },
    {
      "cell_type": "markdown",
      "source": [
        "CREATING A PRE PROCESSING PIPELINE"
      ],
      "metadata": {
        "id": "teWssYcYyMSy"
      }
    },
    {
      "cell_type": "markdown",
      "source": [
        "1) IDENTIFYING EACH FEATURE:\n",
        "\n",
        "\n",
        "NUMERICAL FEATURES: Item_Weight, Item_Visibility, Item_MRP, Outlet_Establishment_Year\n",
        "\n",
        "\n",
        "ORDINAL FEATURES: Outlet_Size, Outlet_Tier, Item_fat_Content \n",
        "\n",
        "\n",
        "NORMINAL FEATURES: Item_Type, Outlet_Type."
      ],
      "metadata": {
        "id": "tTuSNSENywAI"
      }
    },
    {
      "cell_type": "code",
      "source": [
        "# Instantiating Column Selectors\n",
        "\n",
        "#Categorical Column Selector\n",
        "cat_selector = make_column_selector(dtype_include= 'object')\n",
        "\n",
        "# Numerical Column Selector\n",
        "num_selector = make_column_selector(dtype_include= 'number')"
      ],
      "metadata": {
        "id": "5ZZ7PcIfygi9"
      },
      "execution_count": 9,
      "outputs": []
    },
    {
      "cell_type": "code",
      "source": [
        "# Instantiating Transformers\n",
        "\n",
        "# Frequency Imputers\n",
        "freq_imputer = SimpleImputer(strategy= 'most_frequent')\n",
        "\n",
        "# Mean Imputer\n",
        "mean_imputer = SimpleImputer(strategy= 'mean')\n",
        "\n",
        "# Scaler\n",
        "scaler= StandardScaler()\n",
        "\n",
        "# One Hot Encoder\n",
        "ohe = OneHotEncoder(sparse= False, handle_unknown= 'ignore')"
      ],
      "metadata": {
        "id": "hisDEU532528"
      },
      "execution_count": 10,
      "outputs": []
    },
    {
      "cell_type": "code",
      "source": [
        "#Instantiating Pipelines\n",
        "\n",
        "# Numerical Pipeline\n",
        "numeric_pipe = make_pipeline(mean_imputer, scaler)\n",
        "numeric_pipe "
      ],
      "metadata": {
        "colab": {
          "base_uri": "https://localhost:8080/",
          "height": 124
        },
        "id": "GbVB5fCs5Bhr",
        "outputId": "5ae3f4f2-59bb-4308-81d4-d28664146f3d"
      },
      "execution_count": 11,
      "outputs": [
        {
          "output_type": "execute_result",
          "data": {
            "text/plain": [
              "Pipeline(steps=[('simpleimputer', SimpleImputer()),\n",
              "                ('standardscaler', StandardScaler())])"
            ],
            "text/html": [
              "<style>#sk-b717fa7a-656e-4425-bb7e-99ea423599a5 {color: black;background-color: white;}#sk-b717fa7a-656e-4425-bb7e-99ea423599a5 pre{padding: 0;}#sk-b717fa7a-656e-4425-bb7e-99ea423599a5 div.sk-toggleable {background-color: white;}#sk-b717fa7a-656e-4425-bb7e-99ea423599a5 label.sk-toggleable__label {cursor: pointer;display: block;width: 100%;margin-bottom: 0;padding: 0.3em;box-sizing: border-box;text-align: center;}#sk-b717fa7a-656e-4425-bb7e-99ea423599a5 label.sk-toggleable__label-arrow:before {content: \"▸\";float: left;margin-right: 0.25em;color: #696969;}#sk-b717fa7a-656e-4425-bb7e-99ea423599a5 label.sk-toggleable__label-arrow:hover:before {color: black;}#sk-b717fa7a-656e-4425-bb7e-99ea423599a5 div.sk-estimator:hover label.sk-toggleable__label-arrow:before {color: black;}#sk-b717fa7a-656e-4425-bb7e-99ea423599a5 div.sk-toggleable__content {max-height: 0;max-width: 0;overflow: hidden;text-align: left;background-color: #f0f8ff;}#sk-b717fa7a-656e-4425-bb7e-99ea423599a5 div.sk-toggleable__content pre {margin: 0.2em;color: black;border-radius: 0.25em;background-color: #f0f8ff;}#sk-b717fa7a-656e-4425-bb7e-99ea423599a5 input.sk-toggleable__control:checked~div.sk-toggleable__content {max-height: 200px;max-width: 100%;overflow: auto;}#sk-b717fa7a-656e-4425-bb7e-99ea423599a5 input.sk-toggleable__control:checked~label.sk-toggleable__label-arrow:before {content: \"▾\";}#sk-b717fa7a-656e-4425-bb7e-99ea423599a5 div.sk-estimator input.sk-toggleable__control:checked~label.sk-toggleable__label {background-color: #d4ebff;}#sk-b717fa7a-656e-4425-bb7e-99ea423599a5 div.sk-label input.sk-toggleable__control:checked~label.sk-toggleable__label {background-color: #d4ebff;}#sk-b717fa7a-656e-4425-bb7e-99ea423599a5 input.sk-hidden--visually {border: 0;clip: rect(1px 1px 1px 1px);clip: rect(1px, 1px, 1px, 1px);height: 1px;margin: -1px;overflow: hidden;padding: 0;position: absolute;width: 1px;}#sk-b717fa7a-656e-4425-bb7e-99ea423599a5 div.sk-estimator {font-family: monospace;background-color: #f0f8ff;border: 1px dotted black;border-radius: 0.25em;box-sizing: border-box;margin-bottom: 0.5em;}#sk-b717fa7a-656e-4425-bb7e-99ea423599a5 div.sk-estimator:hover {background-color: #d4ebff;}#sk-b717fa7a-656e-4425-bb7e-99ea423599a5 div.sk-parallel-item::after {content: \"\";width: 100%;border-bottom: 1px solid gray;flex-grow: 1;}#sk-b717fa7a-656e-4425-bb7e-99ea423599a5 div.sk-label:hover label.sk-toggleable__label {background-color: #d4ebff;}#sk-b717fa7a-656e-4425-bb7e-99ea423599a5 div.sk-serial::before {content: \"\";position: absolute;border-left: 1px solid gray;box-sizing: border-box;top: 2em;bottom: 0;left: 50%;}#sk-b717fa7a-656e-4425-bb7e-99ea423599a5 div.sk-serial {display: flex;flex-direction: column;align-items: center;background-color: white;padding-right: 0.2em;padding-left: 0.2em;}#sk-b717fa7a-656e-4425-bb7e-99ea423599a5 div.sk-item {z-index: 1;}#sk-b717fa7a-656e-4425-bb7e-99ea423599a5 div.sk-parallel {display: flex;align-items: stretch;justify-content: center;background-color: white;}#sk-b717fa7a-656e-4425-bb7e-99ea423599a5 div.sk-parallel::before {content: \"\";position: absolute;border-left: 1px solid gray;box-sizing: border-box;top: 2em;bottom: 0;left: 50%;}#sk-b717fa7a-656e-4425-bb7e-99ea423599a5 div.sk-parallel-item {display: flex;flex-direction: column;position: relative;background-color: white;}#sk-b717fa7a-656e-4425-bb7e-99ea423599a5 div.sk-parallel-item:first-child::after {align-self: flex-end;width: 50%;}#sk-b717fa7a-656e-4425-bb7e-99ea423599a5 div.sk-parallel-item:last-child::after {align-self: flex-start;width: 50%;}#sk-b717fa7a-656e-4425-bb7e-99ea423599a5 div.sk-parallel-item:only-child::after {width: 0;}#sk-b717fa7a-656e-4425-bb7e-99ea423599a5 div.sk-dashed-wrapped {border: 1px dashed gray;margin: 0 0.4em 0.5em 0.4em;box-sizing: border-box;padding-bottom: 0.4em;background-color: white;position: relative;}#sk-b717fa7a-656e-4425-bb7e-99ea423599a5 div.sk-label label {font-family: monospace;font-weight: bold;background-color: white;display: inline-block;line-height: 1.2em;}#sk-b717fa7a-656e-4425-bb7e-99ea423599a5 div.sk-label-container {position: relative;z-index: 2;text-align: center;}#sk-b717fa7a-656e-4425-bb7e-99ea423599a5 div.sk-container {/* jupyter's `normalize.less` sets `[hidden] { display: none; }` but bootstrap.min.css set `[hidden] { display: none !important; }` so we also need the `!important` here to be able to override the default hidden behavior on the sphinx rendered scikit-learn.org. See: https://github.com/scikit-learn/scikit-learn/issues/21755 */display: inline-block !important;position: relative;}#sk-b717fa7a-656e-4425-bb7e-99ea423599a5 div.sk-text-repr-fallback {display: none;}</style><div id=\"sk-b717fa7a-656e-4425-bb7e-99ea423599a5\" class=\"sk-top-container\"><div class=\"sk-text-repr-fallback\"><pre>Pipeline(steps=[(&#x27;simpleimputer&#x27;, SimpleImputer()),\n",
              "                (&#x27;standardscaler&#x27;, StandardScaler())])</pre><b>Please rerun this cell to show the HTML repr or trust the notebook.</b></div><div class=\"sk-container\" hidden><div class=\"sk-item sk-dashed-wrapped\"><div class=\"sk-label-container\"><div class=\"sk-label sk-toggleable\"><input class=\"sk-toggleable__control sk-hidden--visually\" id=\"bfe20679-34c9-4caf-a565-d975961fa125\" type=\"checkbox\" ><label for=\"bfe20679-34c9-4caf-a565-d975961fa125\" class=\"sk-toggleable__label sk-toggleable__label-arrow\">Pipeline</label><div class=\"sk-toggleable__content\"><pre>Pipeline(steps=[(&#x27;simpleimputer&#x27;, SimpleImputer()),\n",
              "                (&#x27;standardscaler&#x27;, StandardScaler())])</pre></div></div></div><div class=\"sk-serial\"><div class=\"sk-item\"><div class=\"sk-estimator sk-toggleable\"><input class=\"sk-toggleable__control sk-hidden--visually\" id=\"f82e6c64-a902-40ec-8f36-ec389184c382\" type=\"checkbox\" ><label for=\"f82e6c64-a902-40ec-8f36-ec389184c382\" class=\"sk-toggleable__label sk-toggleable__label-arrow\">SimpleImputer</label><div class=\"sk-toggleable__content\"><pre>SimpleImputer()</pre></div></div></div><div class=\"sk-item\"><div class=\"sk-estimator sk-toggleable\"><input class=\"sk-toggleable__control sk-hidden--visually\" id=\"49a5bb32-9e5b-4565-b97e-ecdee7648ec5\" type=\"checkbox\" ><label for=\"49a5bb32-9e5b-4565-b97e-ecdee7648ec5\" class=\"sk-toggleable__label sk-toggleable__label-arrow\">StandardScaler</label><div class=\"sk-toggleable__content\"><pre>StandardScaler()</pre></div></div></div></div></div></div></div>"
            ]
          },
          "metadata": {},
          "execution_count": 11
        }
      ]
    },
    {
      "cell_type": "code",
      "source": [
        "from pandas.core.arrays import categorical\n",
        "# Categorical Pipwline\n",
        "categorical_pipe = make_pipeline(freq_imputer, ohe)\n",
        "categorical_pipe"
      ],
      "metadata": {
        "colab": {
          "base_uri": "https://localhost:8080/",
          "height": 124
        },
        "id": "EfvY8fvA6Al9",
        "outputId": "1539568e-f230-4b82-a33b-986c65d17ce6"
      },
      "execution_count": 12,
      "outputs": [
        {
          "output_type": "execute_result",
          "data": {
            "text/plain": [
              "Pipeline(steps=[('simpleimputer', SimpleImputer(strategy='most_frequent')),\n",
              "                ('onehotencoder',\n",
              "                 OneHotEncoder(handle_unknown='ignore', sparse=False))])"
            ],
            "text/html": [
              "<style>#sk-e79dd1b5-fdfd-458a-a689-b2ad8141a3f2 {color: black;background-color: white;}#sk-e79dd1b5-fdfd-458a-a689-b2ad8141a3f2 pre{padding: 0;}#sk-e79dd1b5-fdfd-458a-a689-b2ad8141a3f2 div.sk-toggleable {background-color: white;}#sk-e79dd1b5-fdfd-458a-a689-b2ad8141a3f2 label.sk-toggleable__label {cursor: pointer;display: block;width: 100%;margin-bottom: 0;padding: 0.3em;box-sizing: border-box;text-align: center;}#sk-e79dd1b5-fdfd-458a-a689-b2ad8141a3f2 label.sk-toggleable__label-arrow:before {content: \"▸\";float: left;margin-right: 0.25em;color: #696969;}#sk-e79dd1b5-fdfd-458a-a689-b2ad8141a3f2 label.sk-toggleable__label-arrow:hover:before {color: black;}#sk-e79dd1b5-fdfd-458a-a689-b2ad8141a3f2 div.sk-estimator:hover label.sk-toggleable__label-arrow:before {color: black;}#sk-e79dd1b5-fdfd-458a-a689-b2ad8141a3f2 div.sk-toggleable__content {max-height: 0;max-width: 0;overflow: hidden;text-align: left;background-color: #f0f8ff;}#sk-e79dd1b5-fdfd-458a-a689-b2ad8141a3f2 div.sk-toggleable__content pre {margin: 0.2em;color: black;border-radius: 0.25em;background-color: #f0f8ff;}#sk-e79dd1b5-fdfd-458a-a689-b2ad8141a3f2 input.sk-toggleable__control:checked~div.sk-toggleable__content {max-height: 200px;max-width: 100%;overflow: auto;}#sk-e79dd1b5-fdfd-458a-a689-b2ad8141a3f2 input.sk-toggleable__control:checked~label.sk-toggleable__label-arrow:before {content: \"▾\";}#sk-e79dd1b5-fdfd-458a-a689-b2ad8141a3f2 div.sk-estimator input.sk-toggleable__control:checked~label.sk-toggleable__label {background-color: #d4ebff;}#sk-e79dd1b5-fdfd-458a-a689-b2ad8141a3f2 div.sk-label input.sk-toggleable__control:checked~label.sk-toggleable__label {background-color: #d4ebff;}#sk-e79dd1b5-fdfd-458a-a689-b2ad8141a3f2 input.sk-hidden--visually {border: 0;clip: rect(1px 1px 1px 1px);clip: rect(1px, 1px, 1px, 1px);height: 1px;margin: -1px;overflow: hidden;padding: 0;position: absolute;width: 1px;}#sk-e79dd1b5-fdfd-458a-a689-b2ad8141a3f2 div.sk-estimator {font-family: monospace;background-color: #f0f8ff;border: 1px dotted black;border-radius: 0.25em;box-sizing: border-box;margin-bottom: 0.5em;}#sk-e79dd1b5-fdfd-458a-a689-b2ad8141a3f2 div.sk-estimator:hover {background-color: #d4ebff;}#sk-e79dd1b5-fdfd-458a-a689-b2ad8141a3f2 div.sk-parallel-item::after {content: \"\";width: 100%;border-bottom: 1px solid gray;flex-grow: 1;}#sk-e79dd1b5-fdfd-458a-a689-b2ad8141a3f2 div.sk-label:hover label.sk-toggleable__label {background-color: #d4ebff;}#sk-e79dd1b5-fdfd-458a-a689-b2ad8141a3f2 div.sk-serial::before {content: \"\";position: absolute;border-left: 1px solid gray;box-sizing: border-box;top: 2em;bottom: 0;left: 50%;}#sk-e79dd1b5-fdfd-458a-a689-b2ad8141a3f2 div.sk-serial {display: flex;flex-direction: column;align-items: center;background-color: white;padding-right: 0.2em;padding-left: 0.2em;}#sk-e79dd1b5-fdfd-458a-a689-b2ad8141a3f2 div.sk-item {z-index: 1;}#sk-e79dd1b5-fdfd-458a-a689-b2ad8141a3f2 div.sk-parallel {display: flex;align-items: stretch;justify-content: center;background-color: white;}#sk-e79dd1b5-fdfd-458a-a689-b2ad8141a3f2 div.sk-parallel::before {content: \"\";position: absolute;border-left: 1px solid gray;box-sizing: border-box;top: 2em;bottom: 0;left: 50%;}#sk-e79dd1b5-fdfd-458a-a689-b2ad8141a3f2 div.sk-parallel-item {display: flex;flex-direction: column;position: relative;background-color: white;}#sk-e79dd1b5-fdfd-458a-a689-b2ad8141a3f2 div.sk-parallel-item:first-child::after {align-self: flex-end;width: 50%;}#sk-e79dd1b5-fdfd-458a-a689-b2ad8141a3f2 div.sk-parallel-item:last-child::after {align-self: flex-start;width: 50%;}#sk-e79dd1b5-fdfd-458a-a689-b2ad8141a3f2 div.sk-parallel-item:only-child::after {width: 0;}#sk-e79dd1b5-fdfd-458a-a689-b2ad8141a3f2 div.sk-dashed-wrapped {border: 1px dashed gray;margin: 0 0.4em 0.5em 0.4em;box-sizing: border-box;padding-bottom: 0.4em;background-color: white;position: relative;}#sk-e79dd1b5-fdfd-458a-a689-b2ad8141a3f2 div.sk-label label {font-family: monospace;font-weight: bold;background-color: white;display: inline-block;line-height: 1.2em;}#sk-e79dd1b5-fdfd-458a-a689-b2ad8141a3f2 div.sk-label-container {position: relative;z-index: 2;text-align: center;}#sk-e79dd1b5-fdfd-458a-a689-b2ad8141a3f2 div.sk-container {/* jupyter's `normalize.less` sets `[hidden] { display: none; }` but bootstrap.min.css set `[hidden] { display: none !important; }` so we also need the `!important` here to be able to override the default hidden behavior on the sphinx rendered scikit-learn.org. See: https://github.com/scikit-learn/scikit-learn/issues/21755 */display: inline-block !important;position: relative;}#sk-e79dd1b5-fdfd-458a-a689-b2ad8141a3f2 div.sk-text-repr-fallback {display: none;}</style><div id=\"sk-e79dd1b5-fdfd-458a-a689-b2ad8141a3f2\" class=\"sk-top-container\"><div class=\"sk-text-repr-fallback\"><pre>Pipeline(steps=[(&#x27;simpleimputer&#x27;, SimpleImputer(strategy=&#x27;most_frequent&#x27;)),\n",
              "                (&#x27;onehotencoder&#x27;,\n",
              "                 OneHotEncoder(handle_unknown=&#x27;ignore&#x27;, sparse=False))])</pre><b>Please rerun this cell to show the HTML repr or trust the notebook.</b></div><div class=\"sk-container\" hidden><div class=\"sk-item sk-dashed-wrapped\"><div class=\"sk-label-container\"><div class=\"sk-label sk-toggleable\"><input class=\"sk-toggleable__control sk-hidden--visually\" id=\"ccaf10bd-e948-487f-bdad-c4c9ea0029a6\" type=\"checkbox\" ><label for=\"ccaf10bd-e948-487f-bdad-c4c9ea0029a6\" class=\"sk-toggleable__label sk-toggleable__label-arrow\">Pipeline</label><div class=\"sk-toggleable__content\"><pre>Pipeline(steps=[(&#x27;simpleimputer&#x27;, SimpleImputer(strategy=&#x27;most_frequent&#x27;)),\n",
              "                (&#x27;onehotencoder&#x27;,\n",
              "                 OneHotEncoder(handle_unknown=&#x27;ignore&#x27;, sparse=False))])</pre></div></div></div><div class=\"sk-serial\"><div class=\"sk-item\"><div class=\"sk-estimator sk-toggleable\"><input class=\"sk-toggleable__control sk-hidden--visually\" id=\"e3484ad6-f7b1-471e-820b-447212114634\" type=\"checkbox\" ><label for=\"e3484ad6-f7b1-471e-820b-447212114634\" class=\"sk-toggleable__label sk-toggleable__label-arrow\">SimpleImputer</label><div class=\"sk-toggleable__content\"><pre>SimpleImputer(strategy=&#x27;most_frequent&#x27;)</pre></div></div></div><div class=\"sk-item\"><div class=\"sk-estimator sk-toggleable\"><input class=\"sk-toggleable__control sk-hidden--visually\" id=\"a3e7ce90-aa02-4e67-b778-97a4da27bd7e\" type=\"checkbox\" ><label for=\"a3e7ce90-aa02-4e67-b778-97a4da27bd7e\" class=\"sk-toggleable__label sk-toggleable__label-arrow\">OneHotEncoder</label><div class=\"sk-toggleable__content\"><pre>OneHotEncoder(handle_unknown=&#x27;ignore&#x27;, sparse=False)</pre></div></div></div></div></div></div></div>"
            ]
          },
          "metadata": {},
          "execution_count": 12
        }
      ]
    },
    {
      "cell_type": "code",
      "source": [
        "# Instantiating Column Transformer\n",
        "\n",
        "#Tuples for Coulumn Transformer\n",
        "number_tuple = (numeric_pipe, num_selector)\n",
        "category_tuple = (categorical_pipe, cat_selector)\n",
        "\n",
        "# Column Transformer\n",
        "preprocessor = make_column_transformer(number_tuple, category_tuple)\n",
        "preprocessor"
      ],
      "metadata": {
        "colab": {
          "base_uri": "https://localhost:8080/",
          "height": 149
        },
        "id": "8eghvYud67uj",
        "outputId": "9ec11c98-f47d-4a6c-87eb-506887eda447"
      },
      "execution_count": 13,
      "outputs": [
        {
          "output_type": "execute_result",
          "data": {
            "text/plain": [
              "ColumnTransformer(transformers=[('pipeline-1',\n",
              "                                 Pipeline(steps=[('simpleimputer',\n",
              "                                                  SimpleImputer()),\n",
              "                                                 ('standardscaler',\n",
              "                                                  StandardScaler())]),\n",
              "                                 <sklearn.compose._column_transformer.make_column_selector object at 0x7fe72fd62d50>),\n",
              "                                ('pipeline-2',\n",
              "                                 Pipeline(steps=[('simpleimputer',\n",
              "                                                  SimpleImputer(strategy='most_frequent')),\n",
              "                                                 ('onehotencoder',\n",
              "                                                  OneHotEncoder(handle_unknown='ignore',\n",
              "                                                                sparse=False))]),\n",
              "                                 <sklearn.compose._column_transformer.make_column_selector object at 0x7fe72fd62710>)])"
            ],
            "text/html": [
              "<style>#sk-6d89a6ce-eb02-461f-b9de-aea0861143f0 {color: black;background-color: white;}#sk-6d89a6ce-eb02-461f-b9de-aea0861143f0 pre{padding: 0;}#sk-6d89a6ce-eb02-461f-b9de-aea0861143f0 div.sk-toggleable {background-color: white;}#sk-6d89a6ce-eb02-461f-b9de-aea0861143f0 label.sk-toggleable__label {cursor: pointer;display: block;width: 100%;margin-bottom: 0;padding: 0.3em;box-sizing: border-box;text-align: center;}#sk-6d89a6ce-eb02-461f-b9de-aea0861143f0 label.sk-toggleable__label-arrow:before {content: \"▸\";float: left;margin-right: 0.25em;color: #696969;}#sk-6d89a6ce-eb02-461f-b9de-aea0861143f0 label.sk-toggleable__label-arrow:hover:before {color: black;}#sk-6d89a6ce-eb02-461f-b9de-aea0861143f0 div.sk-estimator:hover label.sk-toggleable__label-arrow:before {color: black;}#sk-6d89a6ce-eb02-461f-b9de-aea0861143f0 div.sk-toggleable__content {max-height: 0;max-width: 0;overflow: hidden;text-align: left;background-color: #f0f8ff;}#sk-6d89a6ce-eb02-461f-b9de-aea0861143f0 div.sk-toggleable__content pre {margin: 0.2em;color: black;border-radius: 0.25em;background-color: #f0f8ff;}#sk-6d89a6ce-eb02-461f-b9de-aea0861143f0 input.sk-toggleable__control:checked~div.sk-toggleable__content {max-height: 200px;max-width: 100%;overflow: auto;}#sk-6d89a6ce-eb02-461f-b9de-aea0861143f0 input.sk-toggleable__control:checked~label.sk-toggleable__label-arrow:before {content: \"▾\";}#sk-6d89a6ce-eb02-461f-b9de-aea0861143f0 div.sk-estimator input.sk-toggleable__control:checked~label.sk-toggleable__label {background-color: #d4ebff;}#sk-6d89a6ce-eb02-461f-b9de-aea0861143f0 div.sk-label input.sk-toggleable__control:checked~label.sk-toggleable__label {background-color: #d4ebff;}#sk-6d89a6ce-eb02-461f-b9de-aea0861143f0 input.sk-hidden--visually {border: 0;clip: rect(1px 1px 1px 1px);clip: rect(1px, 1px, 1px, 1px);height: 1px;margin: -1px;overflow: hidden;padding: 0;position: absolute;width: 1px;}#sk-6d89a6ce-eb02-461f-b9de-aea0861143f0 div.sk-estimator {font-family: monospace;background-color: #f0f8ff;border: 1px dotted black;border-radius: 0.25em;box-sizing: border-box;margin-bottom: 0.5em;}#sk-6d89a6ce-eb02-461f-b9de-aea0861143f0 div.sk-estimator:hover {background-color: #d4ebff;}#sk-6d89a6ce-eb02-461f-b9de-aea0861143f0 div.sk-parallel-item::after {content: \"\";width: 100%;border-bottom: 1px solid gray;flex-grow: 1;}#sk-6d89a6ce-eb02-461f-b9de-aea0861143f0 div.sk-label:hover label.sk-toggleable__label {background-color: #d4ebff;}#sk-6d89a6ce-eb02-461f-b9de-aea0861143f0 div.sk-serial::before {content: \"\";position: absolute;border-left: 1px solid gray;box-sizing: border-box;top: 2em;bottom: 0;left: 50%;}#sk-6d89a6ce-eb02-461f-b9de-aea0861143f0 div.sk-serial {display: flex;flex-direction: column;align-items: center;background-color: white;padding-right: 0.2em;padding-left: 0.2em;}#sk-6d89a6ce-eb02-461f-b9de-aea0861143f0 div.sk-item {z-index: 1;}#sk-6d89a6ce-eb02-461f-b9de-aea0861143f0 div.sk-parallel {display: flex;align-items: stretch;justify-content: center;background-color: white;}#sk-6d89a6ce-eb02-461f-b9de-aea0861143f0 div.sk-parallel::before {content: \"\";position: absolute;border-left: 1px solid gray;box-sizing: border-box;top: 2em;bottom: 0;left: 50%;}#sk-6d89a6ce-eb02-461f-b9de-aea0861143f0 div.sk-parallel-item {display: flex;flex-direction: column;position: relative;background-color: white;}#sk-6d89a6ce-eb02-461f-b9de-aea0861143f0 div.sk-parallel-item:first-child::after {align-self: flex-end;width: 50%;}#sk-6d89a6ce-eb02-461f-b9de-aea0861143f0 div.sk-parallel-item:last-child::after {align-self: flex-start;width: 50%;}#sk-6d89a6ce-eb02-461f-b9de-aea0861143f0 div.sk-parallel-item:only-child::after {width: 0;}#sk-6d89a6ce-eb02-461f-b9de-aea0861143f0 div.sk-dashed-wrapped {border: 1px dashed gray;margin: 0 0.4em 0.5em 0.4em;box-sizing: border-box;padding-bottom: 0.4em;background-color: white;position: relative;}#sk-6d89a6ce-eb02-461f-b9de-aea0861143f0 div.sk-label label {font-family: monospace;font-weight: bold;background-color: white;display: inline-block;line-height: 1.2em;}#sk-6d89a6ce-eb02-461f-b9de-aea0861143f0 div.sk-label-container {position: relative;z-index: 2;text-align: center;}#sk-6d89a6ce-eb02-461f-b9de-aea0861143f0 div.sk-container {/* jupyter's `normalize.less` sets `[hidden] { display: none; }` but bootstrap.min.css set `[hidden] { display: none !important; }` so we also need the `!important` here to be able to override the default hidden behavior on the sphinx rendered scikit-learn.org. See: https://github.com/scikit-learn/scikit-learn/issues/21755 */display: inline-block !important;position: relative;}#sk-6d89a6ce-eb02-461f-b9de-aea0861143f0 div.sk-text-repr-fallback {display: none;}</style><div id=\"sk-6d89a6ce-eb02-461f-b9de-aea0861143f0\" class=\"sk-top-container\"><div class=\"sk-text-repr-fallback\"><pre>ColumnTransformer(transformers=[(&#x27;pipeline-1&#x27;,\n",
              "                                 Pipeline(steps=[(&#x27;simpleimputer&#x27;,\n",
              "                                                  SimpleImputer()),\n",
              "                                                 (&#x27;standardscaler&#x27;,\n",
              "                                                  StandardScaler())]),\n",
              "                                 &lt;sklearn.compose._column_transformer.make_column_selector object at 0x7fe72fd62d50&gt;),\n",
              "                                (&#x27;pipeline-2&#x27;,\n",
              "                                 Pipeline(steps=[(&#x27;simpleimputer&#x27;,\n",
              "                                                  SimpleImputer(strategy=&#x27;most_frequent&#x27;)),\n",
              "                                                 (&#x27;onehotencoder&#x27;,\n",
              "                                                  OneHotEncoder(handle_unknown=&#x27;ignore&#x27;,\n",
              "                                                                sparse=False))]),\n",
              "                                 &lt;sklearn.compose._column_transformer.make_column_selector object at 0x7fe72fd62710&gt;)])</pre><b>Please rerun this cell to show the HTML repr or trust the notebook.</b></div><div class=\"sk-container\" hidden><div class=\"sk-item sk-dashed-wrapped\"><div class=\"sk-label-container\"><div class=\"sk-label sk-toggleable\"><input class=\"sk-toggleable__control sk-hidden--visually\" id=\"643a5e11-b315-425b-b697-741f18118b84\" type=\"checkbox\" ><label for=\"643a5e11-b315-425b-b697-741f18118b84\" class=\"sk-toggleable__label sk-toggleable__label-arrow\">ColumnTransformer</label><div class=\"sk-toggleable__content\"><pre>ColumnTransformer(transformers=[(&#x27;pipeline-1&#x27;,\n",
              "                                 Pipeline(steps=[(&#x27;simpleimputer&#x27;,\n",
              "                                                  SimpleImputer()),\n",
              "                                                 (&#x27;standardscaler&#x27;,\n",
              "                                                  StandardScaler())]),\n",
              "                                 &lt;sklearn.compose._column_transformer.make_column_selector object at 0x7fe72fd62d50&gt;),\n",
              "                                (&#x27;pipeline-2&#x27;,\n",
              "                                 Pipeline(steps=[(&#x27;simpleimputer&#x27;,\n",
              "                                                  SimpleImputer(strategy=&#x27;most_frequent&#x27;)),\n",
              "                                                 (&#x27;onehotencoder&#x27;,\n",
              "                                                  OneHotEncoder(handle_unknown=&#x27;ignore&#x27;,\n",
              "                                                                sparse=False))]),\n",
              "                                 &lt;sklearn.compose._column_transformer.make_column_selector object at 0x7fe72fd62710&gt;)])</pre></div></div></div><div class=\"sk-parallel\"><div class=\"sk-parallel-item\"><div class=\"sk-item\"><div class=\"sk-label-container\"><div class=\"sk-label sk-toggleable\"><input class=\"sk-toggleable__control sk-hidden--visually\" id=\"d7c48dfe-2797-4be2-9319-8aab9de6535c\" type=\"checkbox\" ><label for=\"d7c48dfe-2797-4be2-9319-8aab9de6535c\" class=\"sk-toggleable__label sk-toggleable__label-arrow\">pipeline-1</label><div class=\"sk-toggleable__content\"><pre>&lt;sklearn.compose._column_transformer.make_column_selector object at 0x7fe72fd62d50&gt;</pre></div></div></div><div class=\"sk-serial\"><div class=\"sk-item\"><div class=\"sk-serial\"><div class=\"sk-item\"><div class=\"sk-estimator sk-toggleable\"><input class=\"sk-toggleable__control sk-hidden--visually\" id=\"002763cc-8a17-4540-9679-714100a20717\" type=\"checkbox\" ><label for=\"002763cc-8a17-4540-9679-714100a20717\" class=\"sk-toggleable__label sk-toggleable__label-arrow\">SimpleImputer</label><div class=\"sk-toggleable__content\"><pre>SimpleImputer()</pre></div></div></div><div class=\"sk-item\"><div class=\"sk-estimator sk-toggleable\"><input class=\"sk-toggleable__control sk-hidden--visually\" id=\"01c00043-5fdc-4579-a3a2-1b615b0e8df9\" type=\"checkbox\" ><label for=\"01c00043-5fdc-4579-a3a2-1b615b0e8df9\" class=\"sk-toggleable__label sk-toggleable__label-arrow\">StandardScaler</label><div class=\"sk-toggleable__content\"><pre>StandardScaler()</pre></div></div></div></div></div></div></div></div><div class=\"sk-parallel-item\"><div class=\"sk-item\"><div class=\"sk-label-container\"><div class=\"sk-label sk-toggleable\"><input class=\"sk-toggleable__control sk-hidden--visually\" id=\"1316d749-d279-4346-a772-f7da95e7c39f\" type=\"checkbox\" ><label for=\"1316d749-d279-4346-a772-f7da95e7c39f\" class=\"sk-toggleable__label sk-toggleable__label-arrow\">pipeline-2</label><div class=\"sk-toggleable__content\"><pre>&lt;sklearn.compose._column_transformer.make_column_selector object at 0x7fe72fd62710&gt;</pre></div></div></div><div class=\"sk-serial\"><div class=\"sk-item\"><div class=\"sk-serial\"><div class=\"sk-item\"><div class=\"sk-estimator sk-toggleable\"><input class=\"sk-toggleable__control sk-hidden--visually\" id=\"14620bec-b271-4515-bbde-8ebf6febac13\" type=\"checkbox\" ><label for=\"14620bec-b271-4515-bbde-8ebf6febac13\" class=\"sk-toggleable__label sk-toggleable__label-arrow\">SimpleImputer</label><div class=\"sk-toggleable__content\"><pre>SimpleImputer(strategy=&#x27;most_frequent&#x27;)</pre></div></div></div><div class=\"sk-item\"><div class=\"sk-estimator sk-toggleable\"><input class=\"sk-toggleable__control sk-hidden--visually\" id=\"9a351c6a-d4eb-4048-9efa-4bb834c94808\" type=\"checkbox\" ><label for=\"9a351c6a-d4eb-4048-9efa-4bb834c94808\" class=\"sk-toggleable__label sk-toggleable__label-arrow\">OneHotEncoder</label><div class=\"sk-toggleable__content\"><pre>OneHotEncoder(handle_unknown=&#x27;ignore&#x27;, sparse=False)</pre></div></div></div></div></div></div></div></div></div></div></div></div>"
            ]
          },
          "metadata": {},
          "execution_count": 13
        }
      ]
    },
    {
      "cell_type": "code",
      "source": [
        "# Fit the training data\n",
        "preprocessor.fit(X_train)"
      ],
      "metadata": {
        "colab": {
          "base_uri": "https://localhost:8080/",
          "height": 149
        },
        "id": "BxdoltCP67hL",
        "outputId": "c702ee72-c100-4558-d31c-57b89f138d38"
      },
      "execution_count": 14,
      "outputs": [
        {
          "output_type": "execute_result",
          "data": {
            "text/plain": [
              "ColumnTransformer(transformers=[('pipeline-1',\n",
              "                                 Pipeline(steps=[('simpleimputer',\n",
              "                                                  SimpleImputer()),\n",
              "                                                 ('standardscaler',\n",
              "                                                  StandardScaler())]),\n",
              "                                 <sklearn.compose._column_transformer.make_column_selector object at 0x7fe72fd62d50>),\n",
              "                                ('pipeline-2',\n",
              "                                 Pipeline(steps=[('simpleimputer',\n",
              "                                                  SimpleImputer(strategy='most_frequent')),\n",
              "                                                 ('onehotencoder',\n",
              "                                                  OneHotEncoder(handle_unknown='ignore',\n",
              "                                                                sparse=False))]),\n",
              "                                 <sklearn.compose._column_transformer.make_column_selector object at 0x7fe72fd62710>)])"
            ],
            "text/html": [
              "<style>#sk-27782b27-ab0f-4db3-8d72-0c3fa2fb982f {color: black;background-color: white;}#sk-27782b27-ab0f-4db3-8d72-0c3fa2fb982f pre{padding: 0;}#sk-27782b27-ab0f-4db3-8d72-0c3fa2fb982f div.sk-toggleable {background-color: white;}#sk-27782b27-ab0f-4db3-8d72-0c3fa2fb982f label.sk-toggleable__label {cursor: pointer;display: block;width: 100%;margin-bottom: 0;padding: 0.3em;box-sizing: border-box;text-align: center;}#sk-27782b27-ab0f-4db3-8d72-0c3fa2fb982f label.sk-toggleable__label-arrow:before {content: \"▸\";float: left;margin-right: 0.25em;color: #696969;}#sk-27782b27-ab0f-4db3-8d72-0c3fa2fb982f label.sk-toggleable__label-arrow:hover:before {color: black;}#sk-27782b27-ab0f-4db3-8d72-0c3fa2fb982f div.sk-estimator:hover label.sk-toggleable__label-arrow:before {color: black;}#sk-27782b27-ab0f-4db3-8d72-0c3fa2fb982f div.sk-toggleable__content {max-height: 0;max-width: 0;overflow: hidden;text-align: left;background-color: #f0f8ff;}#sk-27782b27-ab0f-4db3-8d72-0c3fa2fb982f div.sk-toggleable__content pre {margin: 0.2em;color: black;border-radius: 0.25em;background-color: #f0f8ff;}#sk-27782b27-ab0f-4db3-8d72-0c3fa2fb982f input.sk-toggleable__control:checked~div.sk-toggleable__content {max-height: 200px;max-width: 100%;overflow: auto;}#sk-27782b27-ab0f-4db3-8d72-0c3fa2fb982f input.sk-toggleable__control:checked~label.sk-toggleable__label-arrow:before {content: \"▾\";}#sk-27782b27-ab0f-4db3-8d72-0c3fa2fb982f div.sk-estimator input.sk-toggleable__control:checked~label.sk-toggleable__label {background-color: #d4ebff;}#sk-27782b27-ab0f-4db3-8d72-0c3fa2fb982f div.sk-label input.sk-toggleable__control:checked~label.sk-toggleable__label {background-color: #d4ebff;}#sk-27782b27-ab0f-4db3-8d72-0c3fa2fb982f input.sk-hidden--visually {border: 0;clip: rect(1px 1px 1px 1px);clip: rect(1px, 1px, 1px, 1px);height: 1px;margin: -1px;overflow: hidden;padding: 0;position: absolute;width: 1px;}#sk-27782b27-ab0f-4db3-8d72-0c3fa2fb982f div.sk-estimator {font-family: monospace;background-color: #f0f8ff;border: 1px dotted black;border-radius: 0.25em;box-sizing: border-box;margin-bottom: 0.5em;}#sk-27782b27-ab0f-4db3-8d72-0c3fa2fb982f div.sk-estimator:hover {background-color: #d4ebff;}#sk-27782b27-ab0f-4db3-8d72-0c3fa2fb982f div.sk-parallel-item::after {content: \"\";width: 100%;border-bottom: 1px solid gray;flex-grow: 1;}#sk-27782b27-ab0f-4db3-8d72-0c3fa2fb982f div.sk-label:hover label.sk-toggleable__label {background-color: #d4ebff;}#sk-27782b27-ab0f-4db3-8d72-0c3fa2fb982f div.sk-serial::before {content: \"\";position: absolute;border-left: 1px solid gray;box-sizing: border-box;top: 2em;bottom: 0;left: 50%;}#sk-27782b27-ab0f-4db3-8d72-0c3fa2fb982f div.sk-serial {display: flex;flex-direction: column;align-items: center;background-color: white;padding-right: 0.2em;padding-left: 0.2em;}#sk-27782b27-ab0f-4db3-8d72-0c3fa2fb982f div.sk-item {z-index: 1;}#sk-27782b27-ab0f-4db3-8d72-0c3fa2fb982f div.sk-parallel {display: flex;align-items: stretch;justify-content: center;background-color: white;}#sk-27782b27-ab0f-4db3-8d72-0c3fa2fb982f div.sk-parallel::before {content: \"\";position: absolute;border-left: 1px solid gray;box-sizing: border-box;top: 2em;bottom: 0;left: 50%;}#sk-27782b27-ab0f-4db3-8d72-0c3fa2fb982f div.sk-parallel-item {display: flex;flex-direction: column;position: relative;background-color: white;}#sk-27782b27-ab0f-4db3-8d72-0c3fa2fb982f div.sk-parallel-item:first-child::after {align-self: flex-end;width: 50%;}#sk-27782b27-ab0f-4db3-8d72-0c3fa2fb982f div.sk-parallel-item:last-child::after {align-self: flex-start;width: 50%;}#sk-27782b27-ab0f-4db3-8d72-0c3fa2fb982f div.sk-parallel-item:only-child::after {width: 0;}#sk-27782b27-ab0f-4db3-8d72-0c3fa2fb982f div.sk-dashed-wrapped {border: 1px dashed gray;margin: 0 0.4em 0.5em 0.4em;box-sizing: border-box;padding-bottom: 0.4em;background-color: white;position: relative;}#sk-27782b27-ab0f-4db3-8d72-0c3fa2fb982f div.sk-label label {font-family: monospace;font-weight: bold;background-color: white;display: inline-block;line-height: 1.2em;}#sk-27782b27-ab0f-4db3-8d72-0c3fa2fb982f div.sk-label-container {position: relative;z-index: 2;text-align: center;}#sk-27782b27-ab0f-4db3-8d72-0c3fa2fb982f div.sk-container {/* jupyter's `normalize.less` sets `[hidden] { display: none; }` but bootstrap.min.css set `[hidden] { display: none !important; }` so we also need the `!important` here to be able to override the default hidden behavior on the sphinx rendered scikit-learn.org. See: https://github.com/scikit-learn/scikit-learn/issues/21755 */display: inline-block !important;position: relative;}#sk-27782b27-ab0f-4db3-8d72-0c3fa2fb982f div.sk-text-repr-fallback {display: none;}</style><div id=\"sk-27782b27-ab0f-4db3-8d72-0c3fa2fb982f\" class=\"sk-top-container\"><div class=\"sk-text-repr-fallback\"><pre>ColumnTransformer(transformers=[(&#x27;pipeline-1&#x27;,\n",
              "                                 Pipeline(steps=[(&#x27;simpleimputer&#x27;,\n",
              "                                                  SimpleImputer()),\n",
              "                                                 (&#x27;standardscaler&#x27;,\n",
              "                                                  StandardScaler())]),\n",
              "                                 &lt;sklearn.compose._column_transformer.make_column_selector object at 0x7fe72fd62d50&gt;),\n",
              "                                (&#x27;pipeline-2&#x27;,\n",
              "                                 Pipeline(steps=[(&#x27;simpleimputer&#x27;,\n",
              "                                                  SimpleImputer(strategy=&#x27;most_frequent&#x27;)),\n",
              "                                                 (&#x27;onehotencoder&#x27;,\n",
              "                                                  OneHotEncoder(handle_unknown=&#x27;ignore&#x27;,\n",
              "                                                                sparse=False))]),\n",
              "                                 &lt;sklearn.compose._column_transformer.make_column_selector object at 0x7fe72fd62710&gt;)])</pre><b>Please rerun this cell to show the HTML repr or trust the notebook.</b></div><div class=\"sk-container\" hidden><div class=\"sk-item sk-dashed-wrapped\"><div class=\"sk-label-container\"><div class=\"sk-label sk-toggleable\"><input class=\"sk-toggleable__control sk-hidden--visually\" id=\"c1dda0be-47f9-4133-bbf1-56461217bf39\" type=\"checkbox\" ><label for=\"c1dda0be-47f9-4133-bbf1-56461217bf39\" class=\"sk-toggleable__label sk-toggleable__label-arrow\">ColumnTransformer</label><div class=\"sk-toggleable__content\"><pre>ColumnTransformer(transformers=[(&#x27;pipeline-1&#x27;,\n",
              "                                 Pipeline(steps=[(&#x27;simpleimputer&#x27;,\n",
              "                                                  SimpleImputer()),\n",
              "                                                 (&#x27;standardscaler&#x27;,\n",
              "                                                  StandardScaler())]),\n",
              "                                 &lt;sklearn.compose._column_transformer.make_column_selector object at 0x7fe72fd62d50&gt;),\n",
              "                                (&#x27;pipeline-2&#x27;,\n",
              "                                 Pipeline(steps=[(&#x27;simpleimputer&#x27;,\n",
              "                                                  SimpleImputer(strategy=&#x27;most_frequent&#x27;)),\n",
              "                                                 (&#x27;onehotencoder&#x27;,\n",
              "                                                  OneHotEncoder(handle_unknown=&#x27;ignore&#x27;,\n",
              "                                                                sparse=False))]),\n",
              "                                 &lt;sklearn.compose._column_transformer.make_column_selector object at 0x7fe72fd62710&gt;)])</pre></div></div></div><div class=\"sk-parallel\"><div class=\"sk-parallel-item\"><div class=\"sk-item\"><div class=\"sk-label-container\"><div class=\"sk-label sk-toggleable\"><input class=\"sk-toggleable__control sk-hidden--visually\" id=\"19a7a3c9-dea9-482d-a278-c0e6ac29fa9f\" type=\"checkbox\" ><label for=\"19a7a3c9-dea9-482d-a278-c0e6ac29fa9f\" class=\"sk-toggleable__label sk-toggleable__label-arrow\">pipeline-1</label><div class=\"sk-toggleable__content\"><pre>&lt;sklearn.compose._column_transformer.make_column_selector object at 0x7fe72fd62d50&gt;</pre></div></div></div><div class=\"sk-serial\"><div class=\"sk-item\"><div class=\"sk-serial\"><div class=\"sk-item\"><div class=\"sk-estimator sk-toggleable\"><input class=\"sk-toggleable__control sk-hidden--visually\" id=\"36001c3c-0055-482d-9d09-486dd31e073e\" type=\"checkbox\" ><label for=\"36001c3c-0055-482d-9d09-486dd31e073e\" class=\"sk-toggleable__label sk-toggleable__label-arrow\">SimpleImputer</label><div class=\"sk-toggleable__content\"><pre>SimpleImputer()</pre></div></div></div><div class=\"sk-item\"><div class=\"sk-estimator sk-toggleable\"><input class=\"sk-toggleable__control sk-hidden--visually\" id=\"caae3757-621b-4b31-931c-b8707b48b53e\" type=\"checkbox\" ><label for=\"caae3757-621b-4b31-931c-b8707b48b53e\" class=\"sk-toggleable__label sk-toggleable__label-arrow\">StandardScaler</label><div class=\"sk-toggleable__content\"><pre>StandardScaler()</pre></div></div></div></div></div></div></div></div><div class=\"sk-parallel-item\"><div class=\"sk-item\"><div class=\"sk-label-container\"><div class=\"sk-label sk-toggleable\"><input class=\"sk-toggleable__control sk-hidden--visually\" id=\"d156e8b4-52fe-4f07-8295-cfcf66580823\" type=\"checkbox\" ><label for=\"d156e8b4-52fe-4f07-8295-cfcf66580823\" class=\"sk-toggleable__label sk-toggleable__label-arrow\">pipeline-2</label><div class=\"sk-toggleable__content\"><pre>&lt;sklearn.compose._column_transformer.make_column_selector object at 0x7fe72fd62710&gt;</pre></div></div></div><div class=\"sk-serial\"><div class=\"sk-item\"><div class=\"sk-serial\"><div class=\"sk-item\"><div class=\"sk-estimator sk-toggleable\"><input class=\"sk-toggleable__control sk-hidden--visually\" id=\"219e252e-a4df-4dff-af00-6f43bdea0b2a\" type=\"checkbox\" ><label for=\"219e252e-a4df-4dff-af00-6f43bdea0b2a\" class=\"sk-toggleable__label sk-toggleable__label-arrow\">SimpleImputer</label><div class=\"sk-toggleable__content\"><pre>SimpleImputer(strategy=&#x27;most_frequent&#x27;)</pre></div></div></div><div class=\"sk-item\"><div class=\"sk-estimator sk-toggleable\"><input class=\"sk-toggleable__control sk-hidden--visually\" id=\"e34e5e08-3fdd-482d-a5a0-05bd7de64f94\" type=\"checkbox\" ><label for=\"e34e5e08-3fdd-482d-a5a0-05bd7de64f94\" class=\"sk-toggleable__label sk-toggleable__label-arrow\">OneHotEncoder</label><div class=\"sk-toggleable__content\"><pre>OneHotEncoder(handle_unknown=&#x27;ignore&#x27;, sparse=False)</pre></div></div></div></div></div></div></div></div></div></div></div></div>"
            ]
          },
          "metadata": {},
          "execution_count": 14
        }
      ]
    },
    {
      "cell_type": "code",
      "source": [
        "# Transforning Training and Testing Data\n",
        "X_train_processed = preprocessor.transform(X_train)\n",
        "X_test_processed = preprocessor.transform(X_test)"
      ],
      "metadata": {
        "id": "Wjxewthh67Fv"
      },
      "execution_count": 15,
      "outputs": []
    }
  ]
}